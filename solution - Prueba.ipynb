{
 "cells": [
  {
   "cell_type": "markdown",
   "metadata": {},
   "source": [
    "* Importamos las librerias necesarias"
   ]
  },
  {
   "cell_type": "code",
   "execution_count": null,
   "metadata": {},
   "outputs": [],
   "source": [
    "import numpy as np\n",
    "import pandas as pd\n",
    "import seaborn as sns\n",
    "import matplotlib.pyplot as plt \n",
    "%matplotlib inline\n",
    "\n",
    "import warnings\n",
    "warnings.filterwarnings(\"ignore\")\n",
    "\n",
    "pd.set_option('display.max_columns', None)"
   ]
  },
  {
   "cell_type": "markdown",
   "metadata": {},
   "source": [
    "* Subimos el dataframe de trabajo"
   ]
  },
  {
   "cell_type": "code",
   "execution_count": null,
   "metadata": {},
   "outputs": [],
   "source": [
    "df = pd.read_csv(\"C:/Archivos Globant/Globant/Challenge/Challenge - Data Scientist -20220817/dataset_SCL.csv\")\n",
    "df.head()"
   ]
  },
  {
   "cell_type": "markdown",
   "metadata": {},
   "source": [
    "* Cambiamos los nombres de las columnas para que todos estén en minúsculas y sin signos de puntuación"
   ]
  },
  {
   "cell_type": "code",
   "execution_count": null,
   "metadata": {},
   "outputs": [],
   "source": [
    "col_names = {col: col.lower().replace('-','_') for col in df .columns.values}\n",
    "df.rename(columns=col_names, inplace=True)\n",
    "df.head()"
   ]
  },
  {
   "cell_type": "code",
   "execution_count": null,
   "metadata": {},
   "outputs": [],
   "source": [
    "#daym_delay = df[['dia', 'vlo_o']]\n",
    "daym_delay=df.groupby(by=['dia'])['des_i'].agg(['count']).reset_index().rename(columns={'count': 'numero_vuelos'})\n",
    "daym_delay=daym_delay.reset_index(drop=False)\n",
    "daym_delay.head(7)\n",
    "\n",
    "plt.figure(figsize=(15,8))\n",
    "sns.barplot(x=\"dia\", y=\"numero_vuelos\", data=daym_delay)\n",
    "plt.show()"
   ]
  },
  {
   "cell_type": "markdown",
   "metadata": {},
   "source": [
    "Se observa unadistribuciín similar en el número de vuelos por día, a exepción de los 3 últimos días. "
   ]
  },
  {
   "cell_type": "code",
   "execution_count": null,
   "metadata": {},
   "outputs": [],
   "source": [
    "#plot data\n",
    "group_vlo_i_vlo_o = df.groupby(by=['siglades','des_i'])['des_i'].agg(['count']).reset_index()\n",
    "#group_vlo_i_vlo_o.to_csv('group_vlo_i_vlo_o.csv', sep=',', encoding='utf-8')\n",
    "group_vlo_i_vlo_o"
   ]
  },
  {
   "cell_type": "code",
   "execution_count": null,
   "metadata": {},
   "outputs": [],
   "source": [
    "print('numero resgistros:',df.shape[0])\n",
    "print('numero columnas:',df.shape[1])\n",
    "print('nombre columnas:',df.columns)"
   ]
  },
  {
   "cell_type": "code",
   "execution_count": null,
   "metadata": {},
   "outputs": [],
   "source": [
    "df.info()"
   ]
  },
  {
   "cell_type": "markdown",
   "metadata": {},
   "source": [
    "* Identificar faltantes"
   ]
  },
  {
   "cell_type": "code",
   "execution_count": null,
   "metadata": {},
   "outputs": [],
   "source": [
    "def faltantes(df):\n",
    "    return df.isna().sum()\n",
    "           #df.isnull().sum()\n",
    "\n",
    "faltantes(df)"
   ]
  },
  {
   "cell_type": "markdown",
   "metadata": {},
   "source": [
    "* Verificar el único registro que contiene un \"NaN\" en el campo número de vuelo programado (vlo_o)."
   ]
  },
  {
   "cell_type": "code",
   "execution_count": null,
   "metadata": {},
   "outputs": [],
   "source": [
    "print('Total de rows con nans:  ', df[df.isna().any(axis=1)].shape[0])\n",
    "df[df.isna().any(axis=1)].head(2)"
   ]
  },
  {
   "cell_type": "markdown",
   "metadata": {},
   "source": [
    "* Verificar las fechas minimas y máximas de los vuelos"
   ]
  },
  {
   "cell_type": "code",
   "execution_count": null,
   "metadata": {},
   "outputs": [],
   "source": [
    "df[\"fecha_i_dt\"] = pd.to_datetime(df[\"fecha_i\"])\n",
    "df[\"fecha_o_dt\"] = pd.to_datetime(df[\"fecha_o\"])\n",
    "\n",
    "def data_profiling_fechas(cols, df):\n",
    "    data_profiling = {}\n",
    "    for col in cols:\n",
    "        data_profiling[col] = {'uniques': df[col].nunique(), \n",
    "                               'prop_uniques': df[col].nunique()/df[col].shape[0],\n",
    "                               'fecha_minima': df[col].min(),\n",
    "                               'fecha_maxima': df[col].max(),\n",
    "                               'anios_diferentes': df[col].dt.year.nunique(),\n",
    "                               'dias_diferentes': df[col].max() - df[col].min()\n",
    "                              } \n",
    "    return pd.DataFrame.from_dict(data_profiling)\n",
    "\n",
    "data_profiling_fechas(['fecha_i_dt','fecha_o_dt'], df)"
   ]
  },
  {
   "cell_type": "markdown",
   "metadata": {},
   "source": [
    "* Funcion para revisar los datos y elegir una codificacion"
   ]
  },
  {
   "cell_type": "code",
   "execution_count": null,
   "metadata": {},
   "outputs": [],
   "source": [
    "def print_uniqueness(data=pd.DataFrame(), x = None):\n",
    "    '''\n",
    "    This function prints the unique values of the column specified in x\n",
    "    for the data, and the number of unique values.\n",
    "    data:= [pandas data frame], data\n",
    "    x:= [string] column of the data to analize\n",
    "    '''\n",
    "    v = data[x].unique()\n",
    "    print('Unique values of', x, ':')\n",
    "    print(v)\n",
    "    print('Number of unique values: ', len(v))\n",
    "    print('%%%%%%%%%%%%%%%%%%%%%%%%%%%%%%%%%%%%%%%%%%%%%%%%%')\n",
    "    print()\n",
    "    return 0\n",
    "\n",
    "# Iteramos sobre las variables categoricas\n",
    "for c in ['fecha_i', 'vlo_i', 'ori_i', 'des_i', 'emp_i', 'fecha_o', 'vlo_o', 'ori_o', 'des_o', 'emp_o', \n",
    "          'dia', 'mes', 'año', 'dianom', 'tipovuelo','opera', 'siglaori', 'siglades']:\n",
    "    print_uniqueness(df, c)"
   ]
  },
  {
   "cell_type": "markdown",
   "metadata": {},
   "source": [
    "#### Lo más relevante del análisis anterior es que:\n",
    "\n",
    "* Existen 64 códigos de ciudades de destinos programados.\n",
    "\n",
    "Unique values of des_i :\n",
    "['KMIA' 'KDFW' 'SAEZ' 'CYYZ' 'LFPG' 'MMMX' 'SABE' 'SKBO' 'LIRF' 'EGLL'\n",
    " 'MPTO' 'KATL' 'SBGR' 'SBGL' 'SBFL' 'LEMD' 'SPJC' 'YSSY' 'KIAH' 'SGAS'\n",
    " 'SBFI' 'SCTE' 'SCCI' 'SCNT' 'SCBA' 'SCVD' 'SCQP' 'SCIE' 'SCSE' 'SCAT'\n",
    " 'SCCF' 'SCFA' 'SCDA' 'SCAR' 'SAME' 'SACO' 'SUMU' 'SCPQ' 'SCJO' 'KMCO'\n",
    " 'KJFK' 'SEGU' 'MMUN' 'MDPC' 'KLAX' 'NZAA' 'SCIP' 'SLLP' 'SLVR' 'SBCT'\n",
    " 'SEQM' 'SAZS' 'SAAR' 'SANT' 'YMML' 'SEQU' 'SANU' 'SAZN' 'SPSO' 'SAWH'\n",
    " 'EGYP' 'SULS' 'SLCB' 'SARI']\n",
    "Number of unique values:  64\n",
    "%%%%%%%%%%%%%%%%%%%%%%%%%%%%%%%%%%%%%%%%%%%%%%%%%\n",
    "\n",
    "* Existen 30 códigos de aerolíneas de vuelos programados, pero existe 32 códigos de aerolíneas de vuelos operados.\n",
    "\n",
    "Unique values of emp_i : Código aerolínea de vuelo programado.\n",
    "['AAL' 'ACA' 'AFR' 'AMX' 'ARG' 'AUT' 'AVA' 'AZA' 'BAW' 'CMP' 'DAL' 'GLO'\n",
    " 'IBE' 'KLM' 'QFU' 'UAL' 'LAP' 'TAM' 'SKU' 'LAN' 'LAW' 'JMR' 'LXP' 'LNE'\n",
    " 'LPE' 'DSM' 'PUE' 'JAT' 'ONE' 'LRC']\n",
    "Number of unique values:  30\n",
    "%%%%%%%%%%%%%%%%%%%%%%%%%%%%%%%%%%%%%%%%%%%%%%%%%\n",
    "\n",
    "Unique values of emp_o : Código aerolínea de vuelo operado.\n",
    "['AAL' 'ACA' 'AFR' 'AMX' 'ARG' 'AUT' 'AVA' 'AZA' 'BAW' 'CMP' 'DAL' 'GLO'\n",
    " 'IBE' 'KLM' 'QFA' 'UAL' 'LAP' 'TAM' 'SKU' 'LAN' 'LXP' 'LNE' 'LPE'\n",
    " 'DSM' '48O' '56R' 'JMR' 'PUE' 'JAT' 'TPU' 'ONE' 'LRC']\n",
    "Number of unique values:  32\n",
    "%%%%%%%%%%%%%%%%%%%%%%%%%%%%%%%%%%%%%%%%%%%%%%%%%\n",
    "\n",
    "* Existen 23 nombres de aerolíneas que operan\n",
    "\n",
    "Unique values of opera :\n",
    "['American Airlines' 'Air Canada' 'Air France' 'Aeromexico'\n",
    " 'Aerolineas Argentinas' 'Austral' 'Avianca' 'Alitalia' 'British Airways'\n",
    " 'Copa Air' 'Delta Air' 'Gol Trans' 'Iberia' 'K.L.M.' 'Qantas Airways'\n",
    " 'United Airlines' 'Grupo LATAM' 'Sky Airline' 'Latin American Wings'\n",
    " 'Plus Ultra Lineas Aereas' 'JetSmart SPA' 'Oceanair Linhas Aereas'\n",
    " 'Lacsa']\n",
    "Number of unique values:  23\n",
    "%%%%%%%%%%%%%%%%%%%%%%%%%%%%%%%%%%%%%%%%%%%%%%%%%\n",
    "\n",
    "* El campo ori_i tiene un solo valor, por lo que se puede eliminar del análisis\n",
    "\n",
    "Unique values of ori_i :\n",
    "['SCEL']\n",
    "Number of unique values:  1\n",
    "%%%%%%%%%%%%%%%%%%%%%%%%%%%%%%%%%%%%%%%%%%%%%%%%%\n",
    "\n",
    "* El campo siglaori tiene un solo valor, por lo que se puede eliminar del análisis\n",
    "\n",
    "Unique values of siglaori :\n",
    "['Santiago']\n",
    "Number of unique values:  1"
   ]
  },
  {
   "cell_type": "code",
   "execution_count": null,
   "metadata": {},
   "outputs": [],
   "source": [
    "print('Numero de vuelos unicos:  ',len(df['vlo_i'].unique()))"
   ]
  },
  {
   "cell_type": "markdown",
   "metadata": {},
   "source": [
    "#### 1. ¿Cómo se distribuyen los datos? ¿Qué te llama la atención o cuál es tu conclusión sobre esto?"
   ]
  },
  {
   "cell_type": "markdown",
   "metadata": {},
   "source": [
    "* Contruyo una variable para observar gráficamente en que fecha se acumulan el número de vuelos"
   ]
  },
  {
   "cell_type": "code",
   "execution_count": null,
   "metadata": {},
   "outputs": [],
   "source": [
    "# Agrupación por fecha_i\n",
    "df[\"fecha_i_V2\"] = pd.to_datetime(df[\"fecha_i\"]).dt.date\n",
    "df_num_vuelos_x_dia = df.groupby(by=['fecha_i_V2'])['vlo_i'].agg(['count']).reset_index().rename(columns={'count': 'Num_vuelos_x_dia'}).sort_values(['Num_vuelos_x_dia',],ascending = False)\n",
    "print('shape:',df_num_vuelos_x_dia.shape)\n",
    "df_num_vuelos_x_dia.head(10)\n",
    "# Existen 365 fecha programadas diferentes. \n",
    "# Se observa que la fecha programada con más vuelos es el 2017-12-22, ya que se tienen 230 vuelos en este día."
   ]
  },
  {
   "cell_type": "code",
   "execution_count": null,
   "metadata": {},
   "outputs": [],
   "source": [
    "df_num_vuelos_x_dia.tail(10)\n",
    "# Se observa que la fecha programada con menos vuelos es el 2017-12-04, ya que se tienen 126 vuelos en este día."
   ]
  },
  {
   "cell_type": "code",
   "execution_count": null,
   "metadata": {},
   "outputs": [],
   "source": [
    "# Dsitribución del Top 50 de fechas programadas por numero de vuelos por dia\n",
    "plt.figure(figsize = (15,8))\n",
    "plt.xticks(rotation=90)\n",
    "sns.set_color_codes(\"pastel\")\n",
    "sns.barplot(data=df_num_vuelos_x_dia.sort_values(['Num_vuelos_x_dia',],ascending = False).head(50),x=\"fecha_i_V2\", y=\"Num_vuelos_x_dia\",)"
   ]
  },
  {
   "cell_type": "code",
   "execution_count": null,
   "metadata": {},
   "outputs": [],
   "source": [
    "#df.info()\n",
    "#df_v2 = df.copy()\n",
    "df['vlo_i'] = df['vlo_i'].astype('string')\n",
    "\n",
    "plt.figure(figsize = (15,8))\n",
    "plt.xticks(rotation=90)\n",
    "ax = sns.histplot(data=df, x=\"vlo_i\", stat=\"count\", shrink=0.8, )"
   ]
  },
  {
   "cell_type": "code",
   "execution_count": null,
   "metadata": {},
   "outputs": [],
   "source": [
    "plt.figure(figsize = (15,8))\n",
    "plt.xticks(rotation=90)\n",
    "ax = sns.histplot(data=df, x=\"des_i\", stat=\"count\", shrink=0.8, )"
   ]
  },
  {
   "cell_type": "code",
   "execution_count": null,
   "metadata": {},
   "outputs": [],
   "source": [
    "# Porcentaje del tipo de vuelo\n",
    "tipovuelo_counts = pd.DataFrame(df.tipovuelo.value_counts(normalize=True))\n",
    "print(tipovuelo_counts)\n",
    "\n",
    "plt.figure(figsize = (15,8))\n",
    "plt.xticks(rotation=90)\n",
    "ax = sns.histplot(data=df, x=\"tipovuelo\", stat=\"count\", shrink=0.8)"
   ]
  },
  {
   "cell_type": "markdown",
   "metadata": {},
   "source": [
    "* Gráfica: Fecha de vuelos Programados"
   ]
  },
  {
   "cell_type": "code",
   "execution_count": null,
   "metadata": {},
   "outputs": [],
   "source": [
    "df['fecha_i_v3'] = df['fecha_i_V2'].astype('string') \n",
    "df_fecha_i = df[['fecha_i_v3','vlo_i']]\n",
    "df_fecha_i['fecha_i_v3'] = df_fecha_i['fecha_i_v3'].str[:4] + df_fecha_i['fecha_i_v3'].str[5:7]\n",
    "df_fecha_i.rename(columns={'fecha_i_v3': 'month_year'}, inplace=True)\n",
    "df_fecha_i = df_fecha_i.groupby(by=['month_year'])['vlo_i'].agg(['count']).reset_index().rename(columns={'count': 'num_vuelos_prog_month_year'}).sort_values('month_year',ascending = True)\n",
    "df_fecha_i = df_fecha_i.reset_index().rename(columns={'index': 'indice'})\n",
    "#df_fecha_i\n",
    "\n",
    "plt.figure(figsize = (15,5))\n",
    "plt.xticks(rotation=90)\n",
    "ax = sns.lineplot(x=\"month_year\", y=\"num_vuelos_prog_month_year\",data=df_fecha_i)\n"
   ]
  },
  {
   "cell_type": "markdown",
   "metadata": {},
   "source": [
    "* Gráfica: Fecha de vuelos Operados"
   ]
  },
  {
   "cell_type": "code",
   "execution_count": null,
   "metadata": {},
   "outputs": [],
   "source": [
    "df[\"fecha_o_V2\"] = pd.to_datetime(df[\"fecha_o\"]).dt.date\n",
    "df['fecha_o_V3'] = df['fecha_o_V2'].astype('string')\n",
    "df_fecha_o = df[['fecha_o_V3','vlo_o']]\n",
    "df_fecha_o['fecha_o_V3'] = df_fecha_o['fecha_o_V3'].str[:4] + df_fecha_o['fecha_o_V3'].str[5:7]\n",
    "df_fecha_o.rename(columns={'fecha_o_V3': 'month_year'}, inplace=True)\n",
    "df_fecha_o = df_fecha_o.groupby(by=['month_year'])['vlo_o'].agg(['count']).reset_index().rename(columns={'count': 'num_vuelos_oper_month_year'}).sort_values('month_year',ascending = True)\n",
    "df_fecha_o = df_fecha_o.reset_index().rename(columns={'index': 'indice'})\n",
    "#df_fecha_o\n",
    "\n",
    "plt.figure(figsize = (15,5))\n",
    "plt.xticks(rotation=90)\n",
    "ax = sns.lineplot(x=\"month_year\", y=\"num_vuelos_oper_month_year\",data=df_fecha_o)"
   ]
  },
  {
   "cell_type": "markdown",
   "metadata": {},
   "source": [
    "#### 2. Genera las columnas adicionales y luego expórtelas en un archivo synthetic_features.csv :\n",
    "* temporada_alta : 1 si Fecha-I está entre 15-Dic y 3-Mar, o 15-Jul y 31-Jul, o 11-Sep y 30-Sep, 0 si no\n",
    "* dif_min : diferencia en minutos entre Fecha-O y Fecha-I \n",
    "* atraso_15 : 1 si dif_min > 15, 0 si no\n",
    "* periodo_dia : mañana (entre 5:00 y 11:59), tarde (entre 12:00 y 18:59) y noche (entre 19:00 y 4:59), en base a Fecha-I\n"
   ]
  },
  {
   "cell_type": "code",
   "execution_count": null,
   "metadata": {},
   "outputs": [],
   "source": [
    "#df = df.copy()\n",
    "#mask = (df['fecha_i_dt'] > '2017-03-03 00:00:00') & (df['fecha_i_dt'] <= '2017-12-16 00:00:00')\n",
    "#mask\n",
    "#df_2 = df.loc[mask]\n",
    "#df_2"
   ]
  },
  {
   "cell_type": "code",
   "execution_count": null,
   "metadata": {},
   "outputs": [],
   "source": [
    "# temporada_alta : 1 si Fecha-I está entre 15-Dic y 3-Mar, o 15-Jul y 31-Jul, o 11-Sep y 30-Sep, 0 si no.\n",
    "df['temporada_alta'] = np.where(((df['fecha_i_dt'] >= '2016-12-15 00:00:00') & (df['fecha_i_dt'] < '2017-03-04 00:00:00')) | \n",
    "                                ((df['fecha_i_dt'] >= '2017-07-15 00:00:00') & (df['fecha_i_dt'] < '2017-08-01 00:00:00')) |\n",
    "                                ((df['fecha_i_dt'] >= '2017-07-15 00:00:00') & (df['fecha_i_dt'] < '2017-08-01 00:00:00')) |\n",
    "                                ((df['fecha_i_dt'] >= '2017-12-15 00:00:00') & (df['fecha_i_dt'] < '2018-03-04 00:00:00')),1, 0)\n",
    "pc_1 = pd.DataFrame(df.temporada_alta.value_counts(normalize=True))\n",
    "print(pc_1)\n",
    "#df.to_csv(\"C:/Archivos Globant/Globant/Challenge/Challenge - Data Scientist -20220817/df_borrar_v2.csv\", sep=',', encoding='utf-8')\n",
    "df.head(2)"
   ]
  },
  {
   "cell_type": "code",
   "execution_count": null,
   "metadata": {},
   "outputs": [],
   "source": [
    "# dif_min : diferencia en minutos entre Fecha-O y Fecha-I \n",
    "\n",
    "df['dif_min'] = df['fecha_o_dt'] - df['fecha_i_dt']\n",
    "df['dif_min'] = df.dif_min.dt.total_seconds() / 60\n",
    "df.head(3)"
   ]
  },
  {
   "cell_type": "code",
   "execution_count": null,
   "metadata": {},
   "outputs": [],
   "source": [
    "df = df.drop(['atraso_15'], axis=1)\n",
    "df.head(1)"
   ]
  },
  {
   "cell_type": "code",
   "execution_count": null,
   "metadata": {},
   "outputs": [],
   "source": [
    "# atraso_15 : 1 si dif_min > 15, 0 si no\n",
    "df['atraso_15'] = df[\"dif_min\"].apply(lambda x: 1 if int(x)> 15 else 0)\n",
    "pc_atraso_15 = pd.DataFrame(df.atraso_15.value_counts(normalize=True))\n",
    "print(pc_atraso_15)\n",
    "df.head(2)\n",
    "\n",
    "# El 18.5% de los registro son atrasos cuando dif_min > 15"
   ]
  },
  {
   "cell_type": "code",
   "execution_count": null,
   "metadata": {},
   "outputs": [],
   "source": [
    "df.atraso_15.info()"
   ]
  },
  {
   "cell_type": "code",
   "execution_count": null,
   "metadata": {},
   "outputs": [],
   "source": [
    "fig, ax = plt.subplots(1, 2, figsize=(18,4))\n",
    "sns.countplot('mes', data=df, ax=ax[0])\n",
    "ax[0].set_title('Número de vuelos por mes')\n",
    "sns.countplot('mes', hue='atraso_15', data=df, ax=ax[1])\n",
    "ax[1].set_title('Vuelos atrasados/No Atrazados por mes')\n",
    "plt.figure(figsize=(18,4))\n",
    "sns.barplot('mes', 'atraso_15', data=df)\n",
    "plt.show()"
   ]
  },
  {
   "cell_type": "code",
   "execution_count": null,
   "metadata": {},
   "outputs": [],
   "source": [
    "fig, ax = plt.subplots(1, 2, figsize=(18,4))\n",
    "sns.countplot('dianom', data=df, ax=ax[0])\n",
    "ax[0].set_title('Número de vuelos por por dia de la semana')\n",
    "sns.countplot('dianom', hue='atraso_15', data=df, ax=ax[1])\n",
    "ax[1].set_title('Vuelos atrasados/No Atrazados por dia de la semana')\n",
    "plt.figure(figsize=(18,4))\n",
    "sns.barplot('dianom', 'atraso_15', data=df)\n",
    "plt.show()"
   ]
  },
  {
   "cell_type": "code",
   "execution_count": null,
   "metadata": {},
   "outputs": [],
   "source": [
    "# Inspired from this kaggle kernel: https://www.kaggle.com/fabiendaniel/predicting-flight-delays-tutorial\n",
    "import seaborn as sns \n",
    "\n",
    "def delay_by_attribute(attribute, df=df, figsize=(10, 7)):\n",
    "    # Delay with less than 10 min are mapped to 0 otherwise they are mapped to 1\n",
    "    delay_type = lambda x: 0 if x < 15 else 1\n",
    "    df['DELAY_TYPE'] = df['dif_min'].apply(delay_type)\n",
    "    \n",
    "    plt.figure(1, figsize=figsize)\n",
    "    ax = sns.countplot(y=attribute, hue='DELAY_TYPE', data=df)\n",
    "    \n",
    "    plt.xlabel('Flight count', fontsize=16, weight='bold')\n",
    "    plt.ylabel(attribute, fontsize=16, weight='bold')\n",
    "    plt.title(f'Delay by {attribute}', weight='bold')\n",
    "    L = plt.legend()\n",
    "    L.get_texts()[0].set_text('small delay (t < 15 min)')\n",
    "    L.get_texts()[1].set_text('large delay (t > 15 min)')\n",
    "    plt.grid(True)\n",
    "    plt.show()\n",
    "\n",
    "#delay_by_attribute('opera')\n",
    "#delay_by_attribute('siglades')\n",
    "delay_by_attribute('dianom')\n",
    "#delay_by_attribute('tipovuelo')\n"
   ]
  },
  {
   "cell_type": "code",
   "execution_count": null,
   "metadata": {},
   "outputs": [],
   "source": [
    "# Los atrasos se incremetaron en el mes de julio\n",
    "atrasos = df[df['atraso_15'] == 1]\n",
    "atrasos[['fecha_o_V2','atraso_15']].groupby(['fecha_o_V2']).count().plot()\n",
    "plt.show()"
   ]
  },
  {
   "cell_type": "code",
   "execution_count": null,
   "metadata": {},
   "outputs": [],
   "source": [
    "def get_stats(group):\n",
    "    return {#'min': group.min(), 'max': group.max(),\n",
    "            'count': group.count(), 'mean': group.mean()}\n",
    "\n",
    "global_stats = df['atraso_15'].groupby(df['opera']).apply(get_stats).unstack()\n",
    "global_stats = global_stats.sort_values('count',ascending = False)\n",
    "global_stats"
   ]
  },
  {
   "cell_type": "code",
   "execution_count": null,
   "metadata": {},
   "outputs": [],
   "source": [
    "# periodo_dia : mañana (entre 5:00 y 11:59), tarde (entre 12:00 y 18:59) y noche (entre 19:00 y 4:59), en base a Fecha-I\n",
    "from datetime import time\n",
    "\n",
    "#periodo_dia : mañana (entre 5:00 y 11:59)\n",
    "filtro_1 = (df.fecha_i_dt.dt.time >= time(5, 0)) & (df.fecha_i_dt.dt.time <= time(11, 59))\n",
    "df_filtro_1 = pd.DataFrame(filtro_1)\n",
    "df_filtro_1.rename(columns={'fecha_i_dt': 'periodo_manana'},inplace=True)\n",
    "df_filtro_1.replace({True:1 ,False:0}, inplace=True)\n",
    "#df_filtro_1['periodo_manana'] = df_filtro_1['periodo_manana'].map({True:1 ,False:0}) \n",
    "pc_periodo_manana = pd.DataFrame(df_filtro_1.periodo_manana.value_counts(normalize=True))\n",
    "print('Periodo de Mañana (entre 5:00 y 11:59)')\n",
    "print(pc_periodo_manana)\n",
    "df_filtro_1\n",
    "\n",
    "print('*'*40)\n",
    "\n",
    "# periodo_dia : tarde (entre 12:00 y 18:59)\n",
    "filtro_2 = (df.fecha_i_dt.dt.time >= time(12, 0)) & (df.fecha_i_dt.dt.time <= time(18, 59))\n",
    "df_filtro_2 = pd.DataFrame(filtro_2)\n",
    "df_filtro_2.rename(columns={'fecha_i_dt': 'periodo_tarde'},inplace=True)\n",
    "df_filtro_2.replace({True:1 ,False:0}, inplace=True)\n",
    "pc_periodo_tarde = pd.DataFrame(df_filtro_2.periodo_tarde.value_counts(normalize=True))\n",
    "print('Periodo de tarde (entre 12:00 y 18:59)')\n",
    "print(pc_periodo_tarde)\n",
    "\n",
    "print('*'*40)\n",
    "\n",
    "# periodo_dia : noche (entre 19:00 y 4:59)\n",
    "filtro_3 = (df.fecha_i_dt.dt.time >= time(19, 0)) | (df.fecha_i_dt.dt.time <= time(4, 59))\n",
    "df_filtro_3 = pd.DataFrame(filtro_3)\n",
    "df_filtro_3.rename(columns={'fecha_i_dt': 'periodo_noche'},inplace=True)\n",
    "df_filtro_3.replace({True:1 ,False:0}, inplace=True)\n",
    "pc_periodo_noche = pd.DataFrame(df_filtro_3.periodo_noche.value_counts(normalize=True))\n",
    "print('Periodo de noche (entre 19:00 y 4:59)')\n",
    "print(pc_periodo_noche)\n",
    "\n",
    "#dt_pba = pd.concat([df, df_filtro_1,df_filtro_2,df_filtro_3], axis=1,)\n",
    "#print(dt_pba.shape)\n",
    "#dt_pba = dt_pba[['fecha_i_dt','periodo_manana','periodo_tarde','periodo_noche']]\n",
    "#dt_pba.to_csv(\"C:/Archivos Globant/Globant/Challenge/Challenge - Data Scientist -20220817/dt_pba_borrar_v1.csv\", sep=',', encoding='utf-8')\n",
    "#dt_pba"
   ]
  },
  {
   "cell_type": "code",
   "execution_count": null,
   "metadata": {},
   "outputs": [],
   "source": [
    "# periodo_dia : mañana (entre 5:00 y 11:59), tarde (entre 12:00 y 18:59) y noche (entre 19:00 y 4:59), en base a Fecha-I\n",
    "from datetime import time\n",
    "\n",
    "filtro_1 = (df.fecha_i_dt.dt.time >= time( 5, 0)) & (df.fecha_i_dt.dt.time <= time(11, 59))\n",
    "filtro_2 = (df.fecha_i_dt.dt.time >= time(12, 0)) & (df.fecha_i_dt.dt.time <= time(18, 59))\n",
    "filtro_3 = (df.fecha_i_dt.dt.time >= time(19, 0)) | (df.fecha_i_dt.dt.time <= time( 4, 59))\n",
    "\n",
    "df[['periodo_dia']] = 'vacio'\n",
    "df.loc[filtro_1, 'periodo_dia'] = 'mañana'\n",
    "df.loc[filtro_2, 'periodo_dia'] = 'tarde'\n",
    "df.loc[filtro_3, 'periodo_dia'] = 'noche'\n",
    "pc_periodo_completo = pd.DataFrame(df.periodo_dia.value_counts(normalize=True))\n",
    "print('Periodo completo')\n",
    "print(pc_periodo_completo)\n",
    "df.head(3)\n",
    "print('*'*20)\n",
    "print('shape df:',df.shape)\n",
    "\n",
    "#dt_pba = df[['fecha_i_dt','periodo_dia']]\n",
    "#dt_pba.to_csv(\"C:/Archivos Globant/Globant/Challenge/Challenge - Data Scientist -20220817/dt_pba_borrar_v2.csv\", sep=',', encoding='utf-8')\n",
    "#dt_pba\n"
   ]
  },
  {
   "cell_type": "code",
   "execution_count": null,
   "metadata": {},
   "outputs": [],
   "source": [
    "plt.figure(figsize = (15,8))\n",
    "plt.xticks(rotation=90)\n",
    "ax = sns.histplot(data=df, x=\"periodo_dia\", stat=\"count\", shrink=0.8)"
   ]
  },
  {
   "cell_type": "code",
   "execution_count": null,
   "metadata": {},
   "outputs": [],
   "source": [
    "# Expórte las columnas generadas en un archivo synthetic_features.csv :\n",
    "dt_synthetic_features = df[['fecha_i_dt','temporada_alta','dif_min','atraso_15','periodo_dia']]\n",
    "dt_synthetic_features.to_csv(\"C:/Archivos Globant/Globant/Challenge/Challenge - Data Scientist -20220817/synthetic_features.csv\", sep=',', encoding='utf-8')\n",
    "dt_synthetic_features.head(5)"
   ]
  },
  {
   "cell_type": "markdown",
   "metadata": {},
   "source": [
    "3. ¿Cómo se compone la tasa de atraso por destino, aerolínea, mes del año, día de la semana, temporada, tipo de vuelo?\n",
    "¿Qué variables esperarías que más influyeran en predecir atrasos?\n",
    "4. Entrena uno o varios modelos (usando el/los algoritmo(s) que prefieras) para estimar la probabilidad de atraso de un vuelo.\n",
    "Siéntete libre de generar variables adicionales y/o complementar con variables externas.\n",
    "5. Evalúa tu modelo. ¿Qué performance tiene? ¿Qué métricas usaste para evaluar esa performance y por qué? ¿Por qué\n",
    "elegiste ese algoritmo en particular? ¿Qué variables son las que más influyen en la predicción? ¿Cómo podrías mejorar la\n",
    "performance?"
   ]
  },
  {
   "cell_type": "markdown",
   "metadata": {},
   "source": [
    "#### 3. ¿Cómo se compone la tasa de atraso por destino, aerolínea, mes del año, día de la semana, temporada, tipo de vuelo?\n"
   ]
  },
  {
   "cell_type": "code",
   "execution_count": null,
   "metadata": {},
   "outputs": [],
   "source": [
    "# Tasa de atraso por destino\n",
    "tasa_atraso_destino = pd.crosstab(df.des_o, df.atraso_15, margins = True,margins_name = \"Total\", normalize = False).reset_index()#.sort_values('Total',ascending = False)\n",
    "tasa_atraso_destino[0] = tasa_atraso_destino[0] / tasa_atraso_destino[\"Total\"]\n",
    "tasa_atraso_destino[1] = tasa_atraso_destino[1] / tasa_atraso_destino[\"Total\"]\n",
    "print('dataframe:')\n",
    "print(tasa_atraso_destino)\n",
    "print('*'*46)\n",
    "print('*'*46)\n",
    "print('describe tasa_atraso_destino:')\n",
    "print(tasa_atraso_destino[[0,1]].describe()[1:8])"
   ]
  },
  {
   "cell_type": "code",
   "execution_count": null,
   "metadata": {},
   "outputs": [],
   "source": [
    "print(tasa_atraso_destino.sort_values(0,ascending = False).head(4))\n",
    "print('*'*60)\n",
    "print(tasa_atraso_destino.sort_values(1,ascending = False).head(3))"
   ]
  },
  {
   "cell_type": "markdown",
   "metadata": {},
   "source": [
    "##### Comentario tasa de atraso por destino: \n",
    "* Se observa que la media de los vuelos no atrasados es de 75.97%, mientras que la media de los vuelos atrasados es de 24.02%.\n",
    "\n",
    "##### Máximo, para atraso_15 igual a 0 y a 1 se alcanza el 100%. \n",
    "* Para atraso_15 = 0 los destinos con 100% de vuelos a tiempo son: SBFI, SBCT, KIAD, SPSO\n",
    "* Para atraso_15 = 1 los destinos con 100% de vuelos atrasados son EGYP, SLCB, SEQM\n",
    "* Sin embargo, en ambos casos tiene pocos vuelos"
   ]
  },
  {
   "cell_type": "code",
   "execution_count": null,
   "metadata": {},
   "outputs": [],
   "source": [
    "#plt.figure(figsize = (15,2))\n",
    "#g = sns.catplot(data=df[df['atraso_15'] == 1], col=\"atraso_15\", x=\"des_o\", kind=\"count\",height=8, aspect=15/8)\n",
    "#g.set_xticklabels(rotation=90)"
   ]
  },
  {
   "cell_type": "code",
   "execution_count": null,
   "metadata": {},
   "outputs": [],
   "source": [
    "# Tasa de atraso por aerolínea\n",
    "tasa_atraso_aerolinea = pd.crosstab(df.opera, df.atraso_15, margins = True,margins_name = \"Total\", normalize = False).reset_index()#.sort_values('Total',ascending = False)\n",
    "tasa_atraso_aerolinea[0] = tasa_atraso_aerolinea[0] / tasa_atraso_aerolinea[\"Total\"]\n",
    "tasa_atraso_aerolinea[1] = tasa_atraso_aerolinea[1] / tasa_atraso_aerolinea[\"Total\"]\n",
    "print('dataframe:')\n",
    "print(tasa_atraso_aerolinea)"
   ]
  },
  {
   "cell_type": "code",
   "execution_count": null,
   "metadata": {},
   "outputs": [],
   "source": [
    "print('*'*46)\n",
    "print('*'*46)\n",
    "print('describe tasa_atraso_aerolinea:')\n",
    "print(tasa_atraso_aerolinea[[0,1]].describe()[1:8])"
   ]
  },
  {
   "cell_type": "code",
   "execution_count": null,
   "metadata": {},
   "outputs": [],
   "source": [
    "print(tasa_atraso_aerolinea.sort_values(0,ascending = False).head(1))\n",
    "print('*'*60)\n",
    "print(tasa_atraso_aerolinea.sort_values(1,ascending = False).head(1))"
   ]
  },
  {
   "cell_type": "markdown",
   "metadata": {},
   "source": [
    "##### Comentario para tasa de atraso por aerolínea:\n",
    "* Se observa que la media de los vuelos no atrasados es de 79.57%, mientras que la media de los vuelos atrasados es de 20.42%.\n",
    "\n",
    "##### Máximos\n",
    "* Cuando atraso_15 = 0, el destino Aeromexico alcanza una tasa de vuelos a tiempo de 97.15%, y una tasa de atraso de ta solo 2.84%\n",
    "* Cuando atraso_15 = 1, el destino Plus Ultra Lineas Aereas presenta una tasa de vuelos en tiempo de 38.77% y tasa de atraso maxima de 61.22% "
   ]
  },
  {
   "cell_type": "code",
   "execution_count": null,
   "metadata": {},
   "outputs": [],
   "source": [
    "# Tasa de atraso por mes del año\n",
    "tasa_atraso_mes = pd.crosstab(df.mes, df.atraso_15, margins = True,margins_name = \"Total\", normalize = False).reset_index()#.sort_values('Total',ascending = False)\n",
    "tasa_atraso_mes[0] = tasa_atraso_mes[0] / tasa_atraso_mes[\"Total\"]\n",
    "tasa_atraso_mes[1] = tasa_atraso_mes[1] / tasa_atraso_mes[\"Total\"]\n",
    "print('dataframe:')\n",
    "print(tasa_atraso_mes)\n",
    "print('*'*46)\n",
    "print('*'*46)\n",
    "print('describe tasa_atraso_mes:')\n",
    "print(tasa_atraso_mes[[0,1]].describe()[1:8])"
   ]
  },
  {
   "cell_type": "code",
   "execution_count": null,
   "metadata": {},
   "outputs": [],
   "source": [
    "print(tasa_atraso_mes.sort_values(0,ascending = False).head(1))\n",
    "print('*'*60)\n",
    "print(tasa_atraso_mes.sort_values(1,ascending = False).head(1))"
   ]
  },
  {
   "cell_type": "markdown",
   "metadata": {},
   "source": [
    "##### Comentario para tasa de atraso por mes:\n",
    "* Se observa que la media de los vuelos no atrasados es de 81.74%, mientras que la media de los vuelos atrasados es de 18.25%.\n",
    "\n",
    "##### Máximos\n",
    "* Cuando atraso_15 = 0, el mes de marzo alcanza la tasa de vuelos a tiempo más alta con 88.48%, así como una tasa de atraso de 11.51%\n",
    "* Cuando atraso_15 = 1, el mes de julio presenta una tasa de vuelos en tiempo de 70.29% y tasa de atraso maxima de 29.33% "
   ]
  },
  {
   "cell_type": "code",
   "execution_count": null,
   "metadata": {},
   "outputs": [],
   "source": [
    "# Tasa de atraso por día de la semana\n",
    "tasa_atraso_dianom= pd.crosstab(df.dianom, df.atraso_15, margins = True,margins_name = \"Total\", normalize = False).reset_index()#.sort_values('Total',ascending = False)\n",
    "tasa_atraso_dianom[0] = tasa_atraso_dianom[0] / tasa_atraso_dianom[\"Total\"]\n",
    "tasa_atraso_dianom[1] = tasa_atraso_dianom[1] / tasa_atraso_dianom[\"Total\"]\n",
    "print('dataframe:')\n",
    "print(tasa_atraso_dianom)\n",
    "print('*'*46)\n",
    "print('*'*46)\n",
    "print('describe tasa_atraso_dianom:')\n",
    "print(tasa_atraso_dianom[[0,1]].describe()[1:8])"
   ]
  },
  {
   "cell_type": "code",
   "execution_count": null,
   "metadata": {},
   "outputs": [],
   "source": [
    "print(tasa_atraso_dianom.sort_values(0,ascending = False).head(1))\n",
    "print('*'*60)\n",
    "print(tasa_atraso_dianom.sort_values(1,ascending = False).head(1))"
   ]
  },
  {
   "cell_type": "markdown",
   "metadata": {},
   "source": [
    "##### Comentario para tasa de atraso por dia del mes de operación del vuelo:\n",
    "* Se observa que la media de los vuelos no atrasados es de 81.58%, mientras que la media de los vuelos atrasados es de 18.41%.\n",
    "\n",
    "##### Máximos\n",
    "* Cuando atraso_15 = 0, en los días domingo se llega a la tasa de vuelos a tiempo más alta con 83.89%, así como una tasa de atraso de 16.10%\n",
    "* Cuando atraso_15 = 1, en los días viernes se observa una tasa de vuelos en tiempo de 77.79% y tasa de atraso maxima de 22.20% "
   ]
  },
  {
   "cell_type": "code",
   "execution_count": null,
   "metadata": {},
   "outputs": [],
   "source": [
    "# Tasa de atraso por temporada\n",
    "#¿Cómo se compone la tasa de atraso por destino, aerolínea, mes del año, día de la semana, temporada, tipo de vuelo?\n",
    "tasa_atraso_temporada= pd.crosstab(df.temporada_alta, df.atraso_15, margins = True,margins_name = \"Total\", normalize = False).reset_index()#.sort_values('Total',ascending = False)\n",
    "tasa_atraso_temporada[0] = tasa_atraso_temporada[0] / tasa_atraso_temporada[\"Total\"]\n",
    "tasa_atraso_temporada[1] = tasa_atraso_temporada[1] / tasa_atraso_temporada[\"Total\"]\n",
    "print('dataframe:')\n",
    "print(tasa_atraso_temporada)\n",
    "print('*'*46)\n",
    "print('*'*46)\n",
    "print('describe tasa_atraso_temporada:')\n",
    "print(tasa_atraso_temporada[[0,1]].describe()[1:8])"
   ]
  },
  {
   "cell_type": "code",
   "execution_count": null,
   "metadata": {},
   "outputs": [],
   "source": [
    "print(tasa_atraso_temporada.sort_values(0,ascending = False).head(1))\n",
    "print('*'*60)\n",
    "print(tasa_atraso_temporada.sort_values(1,ascending = False).head(1))"
   ]
  },
  {
   "cell_type": "markdown",
   "metadata": {},
   "source": [
    "##### Comentario para tasa de atraso por temporada:\n",
    "* Se observa que la media de los vuelos no atrasados es de 81.13%, mientras que la media de los vuelos atrasados es de 18.86%.\n",
    "\n",
    "##### Máximos\n",
    "* Cuando atraso_15 = 0, en la temporada baja se llega a la tasa de vuelos a tiempo más alta con 82.19%, así como una tasa de atraso de 17.80%\n",
    "* Cuando atraso_15 = 1, en la temporada alta se llega a una tasa de vuelos en tiempo de 79.20% y a una tasa de atraso maxima de 20.28% "
   ]
  },
  {
   "cell_type": "code",
   "execution_count": null,
   "metadata": {},
   "outputs": [],
   "source": [
    "# Tasa de atraso por tipo de vuelo\n",
    "tasa_atraso_tipovuelo= pd.crosstab(df.tipovuelo, df.atraso_15, margins = True,margins_name = \"Total\", normalize = False).reset_index()#.sort_values('Total',ascending = False)\n",
    "tasa_atraso_tipovuelo[0] = tasa_atraso_tipovuelo[0] / tasa_atraso_tipovuelo[\"Total\"]\n",
    "tasa_atraso_tipovuelo[1] = tasa_atraso_tipovuelo[1] / tasa_atraso_tipovuelo[\"Total\"]\n",
    "print('dataframe:')\n",
    "print(tasa_atraso_tipovuelo)\n",
    "print('*'*46)\n",
    "print('*'*46)\n",
    "print('describe tasa_atraso_tipovuelo:')\n",
    "print(tasa_atraso_tipovuelo[[0,1]].describe()[1:8])"
   ]
  },
  {
   "cell_type": "code",
   "execution_count": null,
   "metadata": {},
   "outputs": [],
   "source": [
    "print(tasa_atraso_tipovuelo.sort_values(0,ascending = False).head(1))\n",
    "print('*'*60)\n",
    "print(tasa_atraso_tipovuelo.sort_values(1,ascending = False).head(1))"
   ]
  },
  {
   "cell_type": "markdown",
   "metadata": {},
   "source": [
    "##### Comentario para tasa de atraso por tipo de vuelo:\n",
    "* Se observa que la media de los vuelos no atrasados es de 81.29%, mientras que la media de los vuelos atrasados es de 18.70%.\n",
    "\n",
    "##### Máximos\n",
    "* Cuando atraso_15 = 0, el tipo de vuelo Nacional presenta la tasa de vuelos a tiempo más alta con 84.94%, así como una tasa de atraso de 15.05%\n",
    "* Cuando atraso_15 = 1, el tipo de vuelo Internacional presenta una tasa de vuelos en tiempo de 77.43% y la tasa de atraso maxima de 22.56% "
   ]
  },
  {
   "cell_type": "markdown",
   "metadata": {},
   "source": [
    "#### 3. ¿Qué variables esperarías que más influyeran en predecir atrasos?\n",
    "* Para determinar cuales de estas variables están mayormente correlacionadas, propongo hacer un análisis de chi-cuadrada."
   ]
  },
  {
   "cell_type": "code",
   "execution_count": null,
   "metadata": {},
   "outputs": [],
   "source": [
    "# No correr\n",
    "\n",
    "# #df['temporada_alta'] = df['temporada_alta'].astype('string')\n",
    "#df['dif_min'] = df['dif_min'].astype('float')\n",
    "#df['atraso_15'] = df['atraso_15'].astype('string')\n",
    "#df['periodo_dia'] = df['periodo_dia'].astype('string')"
   ]
  },
  {
   "cell_type": "code",
   "execution_count": null,
   "metadata": {},
   "outputs": [],
   "source": [
    "# Encode variables\n",
    "new_df_chi_q = df[['atraso_15','dia','mes','dianom','tipovuelo','opera','siglades','temporada_alta','periodo_dia','dif_min']]\n",
    "new_df_chi_q = pd.get_dummies(new_df_chi_q, columns=['dia','mes','dianom','tipovuelo','opera','siglades','temporada_alta','periodo_dia'], drop_first=True)\n",
    "new_df_chi_q.columns"
   ]
  },
  {
   "cell_type": "code",
   "execution_count": null,
   "metadata": {},
   "outputs": [],
   "source": [
    "## Analicemos la Varianza\n",
    "new_df_chi_q.std()/new_df_chi_q.mean()"
   ]
  },
  {
   "cell_type": "code",
   "execution_count": null,
   "metadata": {},
   "outputs": [],
   "source": [
    "# Analicemos sus correlaciones de variables Continuas\n",
    "# Se debería de analizar las variables continuas, sin emabrog, compo no se debe utilizar la variable \"dif_min\" para entrenar los modelos de ML, \n",
    "# ya que es la variable que se utilizó para construir atraso_15, entonces no analizaré los resultados de la correlación. \n",
    "#new_df_chi_q.columns\n",
    "new_df_chi_q[['atraso_15','dif_min','mes']].corr()"
   ]
  },
  {
   "cell_type": "code",
   "execution_count": 1860,
   "metadata": {},
   "outputs": [
    {
     "data": {
      "text/html": [
       "<div>\n",
       "<style scoped>\n",
       "    .dataframe tbody tr th:only-of-type {\n",
       "        vertical-align: middle;\n",
       "    }\n",
       "\n",
       "    .dataframe tbody tr th {\n",
       "        vertical-align: top;\n",
       "    }\n",
       "\n",
       "    .dataframe thead th {\n",
       "        text-align: right;\n",
       "    }\n",
       "</style>\n",
       "<table border=\"1\" class=\"dataframe\">\n",
       "  <thead>\n",
       "    <tr style=\"text-align: right;\">\n",
       "      <th></th>\n",
       "      <th>variable</th>\n",
       "      <th>chi_sq</th>\n",
       "      <th>p_value</th>\n",
       "    </tr>\n",
       "  </thead>\n",
       "  <tbody>\n",
       "    <tr>\n",
       "      <th>64</th>\n",
       "      <td>opera_Latin American Wings</td>\n",
       "      <td>546.681</td>\n",
       "      <td>0.000</td>\n",
       "    </tr>\n",
       "    <tr>\n",
       "      <th>35</th>\n",
       "      <td>mes_7</td>\n",
       "      <td>467.544</td>\n",
       "      <td>0.000</td>\n",
       "    </tr>\n",
       "    <tr>\n",
       "      <th>47</th>\n",
       "      <td>tipovuelo_N</td>\n",
       "      <td>289.678</td>\n",
       "      <td>0.000</td>\n",
       "    </tr>\n",
       "    <tr>\n",
       "      <th>49</th>\n",
       "      <td>opera_Air Canada</td>\n",
       "      <td>276.694</td>\n",
       "      <td>0.000</td>\n",
       "    </tr>\n",
       "    <tr>\n",
       "      <th>77</th>\n",
       "      <td>siglades_Buenos Aires</td>\n",
       "      <td>210.561</td>\n",
       "      <td>0.000</td>\n",
       "    </tr>\n",
       "    <tr>\n",
       "      <th>...</th>\n",
       "      <td>...</td>\n",
       "      <td>...</td>\n",
       "      <td>...</td>\n",
       "    </tr>\n",
       "    <tr>\n",
       "      <th>108</th>\n",
       "      <td>siglades_Osorno</td>\n",
       "      <td>0.113</td>\n",
       "      <td>0.737</td>\n",
       "    </tr>\n",
       "    <tr>\n",
       "      <th>23</th>\n",
       "      <td>dia_25</td>\n",
       "      <td>0.027</td>\n",
       "      <td>0.869</td>\n",
       "    </tr>\n",
       "    <tr>\n",
       "      <th>116</th>\n",
       "      <td>siglades_Punta del Este</td>\n",
       "      <td>0.013</td>\n",
       "      <td>0.908</td>\n",
       "    </tr>\n",
       "    <tr>\n",
       "      <th>79</th>\n",
       "      <td>siglades_Cancun</td>\n",
       "      <td>0.013</td>\n",
       "      <td>0.910</td>\n",
       "    </tr>\n",
       "    <tr>\n",
       "      <th>90</th>\n",
       "      <td>siglades_Florianapolis</td>\n",
       "      <td>0.000</td>\n",
       "      <td>0.994</td>\n",
       "    </tr>\n",
       "  </tbody>\n",
       "</table>\n",
       "<p>134 rows × 3 columns</p>\n",
       "</div>"
      ],
      "text/plain": [
       "                       variable   chi_sq  p_value\n",
       "64   opera_Latin American Wings  546.681    0.000\n",
       "35                        mes_7  467.544    0.000\n",
       "47                  tipovuelo_N  289.678    0.000\n",
       "49             opera_Air Canada  276.694    0.000\n",
       "77        siglades_Buenos Aires  210.561    0.000\n",
       "..                          ...      ...      ...\n",
       "108             siglades_Osorno    0.113    0.737\n",
       "23                       dia_25    0.027    0.869\n",
       "116     siglades_Punta del Este    0.013    0.908\n",
       "79              siglades_Cancun    0.013    0.910\n",
       "90       siglades_Florianapolis    0.000    0.994\n",
       "\n",
       "[134 rows x 3 columns]"
      ]
     },
     "execution_count": 1860,
     "metadata": {},
     "output_type": "execute_result"
    }
   ],
   "source": [
    "# Importemos chi2 de sklearn\n",
    "from sklearn.feature_selection import chi2\n",
    "\n",
    "# La idea básica de la prueba de chi-cuadrado: Prueba de hipótesis común basado en la distribución.\n",
    "# Hipótesis H0: No hay diferencia entre la frecuencia observada y la frecuencia esperada, o bien, p value > 0.05,\n",
    "\n",
    "catv = [c for c in new_df_chi_q.columns if ('dia' in c)|('mes' in c)|('dianom' in c)|('tipovuelo' in c)|('opera' in c)|('siglades' in c)|('temporada_alta' in c)|('periodo_dia' in c)]\n",
    "\n",
    "#catv = [c for c in new_df_chi_q.columns if ('temporada_alta' in c)|('periodo_dia' in c)]\n",
    "\n",
    "X = new_df_chi_q[catv]\n",
    "y = new_df_chi_q['atraso_15']\n",
    "\n",
    "chi_sq, p_val = chi2(X,y)\n",
    "chi_values = pd.DataFrame.from_dict({'variable':X.columns,\n",
    "                        'chi_sq':chi_sq, 'p_value':p_val})\n",
    "chi_values.sort_values(ascending=True, by='p_value').round(3)"
   ]
  },
  {
   "cell_type": "code",
   "execution_count": 1861,
   "metadata": {},
   "outputs": [
    {
     "name": "stdout",
     "output_type": "stream",
     "text": [
      "(89, 3)\n"
     ]
    },
    {
     "data": {
      "text/html": [
       "<div>\n",
       "<style scoped>\n",
       "    .dataframe tbody tr th:only-of-type {\n",
       "        vertical-align: middle;\n",
       "    }\n",
       "\n",
       "    .dataframe tbody tr th {\n",
       "        vertical-align: top;\n",
       "    }\n",
       "\n",
       "    .dataframe thead th {\n",
       "        text-align: right;\n",
       "    }\n",
       "</style>\n",
       "<table border=\"1\" class=\"dataframe\">\n",
       "  <thead>\n",
       "    <tr style=\"text-align: right;\">\n",
       "      <th></th>\n",
       "      <th>variable</th>\n",
       "      <th>chi_sq</th>\n",
       "      <th>p_value</th>\n",
       "    </tr>\n",
       "  </thead>\n",
       "  <tbody>\n",
       "    <tr>\n",
       "      <th>64</th>\n",
       "      <td>opera_Latin American Wings</td>\n",
       "      <td>546.681</td>\n",
       "      <td>0.000</td>\n",
       "    </tr>\n",
       "    <tr>\n",
       "      <th>35</th>\n",
       "      <td>mes_7</td>\n",
       "      <td>467.544</td>\n",
       "      <td>0.000</td>\n",
       "    </tr>\n",
       "    <tr>\n",
       "      <th>47</th>\n",
       "      <td>tipovuelo_N</td>\n",
       "      <td>289.678</td>\n",
       "      <td>0.000</td>\n",
       "    </tr>\n",
       "    <tr>\n",
       "      <th>49</th>\n",
       "      <td>opera_Air Canada</td>\n",
       "      <td>276.694</td>\n",
       "      <td>0.000</td>\n",
       "    </tr>\n",
       "    <tr>\n",
       "      <th>77</th>\n",
       "      <td>siglades_Buenos Aires</td>\n",
       "      <td>210.561</td>\n",
       "      <td>0.000</td>\n",
       "    </tr>\n",
       "    <tr>\n",
       "      <th>...</th>\n",
       "      <td>...</td>\n",
       "      <td>...</td>\n",
       "      <td>...</td>\n",
       "    </tr>\n",
       "    <tr>\n",
       "      <th>113</th>\n",
       "      <td>siglades_Puerto Stanley</td>\n",
       "      <td>4.407</td>\n",
       "      <td>0.036</td>\n",
       "    </tr>\n",
       "    <tr>\n",
       "      <th>84</th>\n",
       "      <td>siglades_Cochabamba</td>\n",
       "      <td>4.407</td>\n",
       "      <td>0.036</td>\n",
       "    </tr>\n",
       "    <tr>\n",
       "      <th>12</th>\n",
       "      <td>dia_14</td>\n",
       "      <td>4.370</td>\n",
       "      <td>0.037</td>\n",
       "    </tr>\n",
       "    <tr>\n",
       "      <th>129</th>\n",
       "      <td>siglades_Valdivia</td>\n",
       "      <td>4.365</td>\n",
       "      <td>0.037</td>\n",
       "    </tr>\n",
       "    <tr>\n",
       "      <th>27</th>\n",
       "      <td>dia_29</td>\n",
       "      <td>4.210</td>\n",
       "      <td>0.040</td>\n",
       "    </tr>\n",
       "  </tbody>\n",
       "</table>\n",
       "<p>89 rows × 3 columns</p>\n",
       "</div>"
      ],
      "text/plain": [
       "                       variable   chi_sq  p_value\n",
       "64   opera_Latin American Wings  546.681    0.000\n",
       "35                        mes_7  467.544    0.000\n",
       "47                  tipovuelo_N  289.678    0.000\n",
       "49             opera_Air Canada  276.694    0.000\n",
       "77        siglades_Buenos Aires  210.561    0.000\n",
       "..                          ...      ...      ...\n",
       "113     siglades_Puerto Stanley    4.407    0.036\n",
       "84          siglades_Cochabamba    4.407    0.036\n",
       "12                       dia_14    4.370    0.037\n",
       "129           siglades_Valdivia    4.365    0.037\n",
       "27                       dia_29    4.210    0.040\n",
       "\n",
       "[89 rows x 3 columns]"
      ]
     },
     "execution_count": 1861,
     "metadata": {},
     "output_type": "execute_result"
    }
   ],
   "source": [
    "# Analisis de las categorias más relevantes para la predicción según la prueba de chi-cuadrada\n",
    "chi_values_t2 = chi_values[(chi_values['p_value'] <= 0.05 )].sort_values(['p_value'],ascending = True).round(3)\n",
    "print(chi_values_t2.shape)\n",
    "chi_values_t2.to_csv('C:/Archivos Globant/Globant/Challenge/Challenge - Data Scientist -20220817/chi_values_t2.csv', sep=',', encoding='utf-8')\n",
    "chi_values_t2\n",
    "\n",
    "# Se observa que el mayor valor del estadistico de prueba chi_sq lo obtiene  la variable categorica opera_Latin American Wings, que es una de las categorias de\n",
    "# la variable opera (nombre de aerolínea que opera). Al analizar de cerca la tasa de atraso por la variable opera, se aprecia que es la que presenta un mayor \n",
    "# numero de casos (1674) y la que en proporción de vuelos atrasados alcanza 45.68%, esto quiere decir que esta categoria tiene mayor realción con la variable \n",
    "# objetivo aqui analizada.\n",
    "\n",
    "# atraso_15                     opera         0         1  Total\n",
    "# 19         Plus Ultra Lineas Aereas  0.387755  0.612245     49\n",
    "# 20                   Qantas Airways  0.420513  0.579487    195\n",
    "# 2                        Air Canada  0.543363  0.456637    565\n",
    "# 17             Latin American Wings  0.593190  0.406810   1674 -----> Esta es al que tiene mayor numero de casos y una mayor proporción de vuelos atrasados.\n",
    "# 11                        Gol Trans  0.643921  0.356079    806\n",
    "# 7                           Avianca  0.734375  0.265625   1152"
   ]
  },
  {
   "cell_type": "code",
   "execution_count": 1862,
   "metadata": {},
   "outputs": [
    {
     "name": "stdout",
     "output_type": "stream",
     "text": [
      "dataframe:\n",
      "atraso_15                     opera         0         1  Total\n",
      "19         Plus Ultra Lineas Aereas  0.387755  0.612245     49\n",
      "20                   Qantas Airways  0.420513  0.579487    195\n",
      "2                        Air Canada  0.543363  0.456637    565\n",
      "17             Latin American Wings  0.593190  0.406810   1674\n",
      "11                        Gol Trans  0.643921  0.356079    806\n",
      "7                           Avianca  0.734375  0.265625   1152\n",
      "0             Aerolineas Argentinas  0.759877  0.240123   1949\n",
      "6                           Austral  0.797297  0.202703     74\n",
      "23                            Total  0.815060  0.184940  68206\n",
      "14                     JetSmart SPA  0.821005  0.178995   1095\n",
      "12                      Grupo LATAM  0.821334  0.178666  40892\n",
      "21                      Sky Airline  0.822353  0.177647  14298\n",
      "18           Oceanair Linhas Aereas  0.845878  0.154122    279\n",
      "8                   British Airways  0.858537  0.141463    205\n",
      "16                            Lacsa  0.880435  0.119565     92\n",
      "4                          Alitalia  0.888031  0.111969    259\n",
      "13                           Iberia  0.900552  0.099448    362\n",
      "3                        Air France  0.916201  0.083799    358\n",
      "15                           K.L.M.  0.916335  0.083665    251\n",
      "5                 American Airlines  0.932629  0.067371    757\n",
      "9                          Copa Air  0.937297  0.062703   1850\n",
      "10                        Delta Air  0.941341  0.058659    358\n",
      "22                  United Airlines  0.949254  0.050746    335\n",
      "1                        Aeromexico  0.971510  0.028490    351\n"
     ]
    }
   ],
   "source": [
    "# Analisis de las categorias más relevantes para la predicción según la prueba de chi-cuadrada\n",
    "# Tasa de atraso por nombre de aerolínea que opera\n",
    "tasa_atraso_opera= pd.crosstab(df.opera, df.atraso_15, margins = True,margins_name = \"Total\", normalize = False).reset_index()#.sort_values('Total',ascending = False)\n",
    "tasa_atraso_opera[0] = tasa_atraso_opera[0] / tasa_atraso_opera[\"Total\"]\n",
    "tasa_atraso_opera[1] = tasa_atraso_opera[1] / tasa_atraso_opera[\"Total\"]\n",
    "print('dataframe:')\n",
    "print(tasa_atraso_opera.sort_values(1,ascending = False))\n",
    "#print('*'*46)\n",
    "#print('*'*46)\n",
    "#print('describe tasa_atraso_tipovuelo:')\n",
    "#print(tasa_atraso_opera[[0,1]].describe()[1:8])\n",
    "#print(tasa_atraso_opera.sort_values(0,ascending = False).head(1))\n",
    "#print('*'*60)\n",
    "#print(tasa_atraso_opera.sort_values(1,ascending = False).head(1))"
   ]
  },
  {
   "cell_type": "code",
   "execution_count": 1863,
   "metadata": {},
   "outputs": [
    {
     "name": "stdout",
     "output_type": "stream",
     "text": [
      "(45, 3)\n"
     ]
    },
    {
     "data": {
      "text/html": [
       "<div>\n",
       "<style scoped>\n",
       "    .dataframe tbody tr th:only-of-type {\n",
       "        vertical-align: middle;\n",
       "    }\n",
       "\n",
       "    .dataframe tbody tr th {\n",
       "        vertical-align: top;\n",
       "    }\n",
       "\n",
       "    .dataframe thead th {\n",
       "        text-align: right;\n",
       "    }\n",
       "</style>\n",
       "<table border=\"1\" class=\"dataframe\">\n",
       "  <thead>\n",
       "    <tr style=\"text-align: right;\">\n",
       "      <th></th>\n",
       "      <th>variable</th>\n",
       "      <th>chi_sq</th>\n",
       "      <th>p_value</th>\n",
       "    </tr>\n",
       "  </thead>\n",
       "  <tbody>\n",
       "    <tr>\n",
       "      <th>90</th>\n",
       "      <td>siglades_Florianapolis</td>\n",
       "      <td>0.000</td>\n",
       "      <td>0.994</td>\n",
       "    </tr>\n",
       "    <tr>\n",
       "      <th>79</th>\n",
       "      <td>siglades_Cancun</td>\n",
       "      <td>0.013</td>\n",
       "      <td>0.910</td>\n",
       "    </tr>\n",
       "    <tr>\n",
       "      <th>116</th>\n",
       "      <td>siglades_Punta del Este</td>\n",
       "      <td>0.013</td>\n",
       "      <td>0.908</td>\n",
       "    </tr>\n",
       "    <tr>\n",
       "      <th>23</th>\n",
       "      <td>dia_25</td>\n",
       "      <td>0.027</td>\n",
       "      <td>0.869</td>\n",
       "    </tr>\n",
       "    <tr>\n",
       "      <th>108</th>\n",
       "      <td>siglades_Osorno</td>\n",
       "      <td>0.113</td>\n",
       "      <td>0.737</td>\n",
       "    </tr>\n",
       "    <tr>\n",
       "      <th>11</th>\n",
       "      <td>dia_13</td>\n",
       "      <td>0.151</td>\n",
       "      <td>0.698</td>\n",
       "    </tr>\n",
       "    <tr>\n",
       "      <th>53</th>\n",
       "      <td>opera_Austral</td>\n",
       "      <td>0.155</td>\n",
       "      <td>0.694</td>\n",
       "    </tr>\n",
       "    <tr>\n",
       "      <th>100</th>\n",
       "      <td>siglades_Madrid</td>\n",
       "      <td>0.161</td>\n",
       "      <td>0.688</td>\n",
       "    </tr>\n",
       "    <tr>\n",
       "      <th>130</th>\n",
       "      <td>siglades_Washington</td>\n",
       "      <td>0.227</td>\n",
       "      <td>0.634</td>\n",
       "    </tr>\n",
       "    <tr>\n",
       "      <th>110</th>\n",
       "      <td>siglades_Pisco, Peru</td>\n",
       "      <td>0.227</td>\n",
       "      <td>0.634</td>\n",
       "    </tr>\n",
       "    <tr>\n",
       "      <th>103</th>\n",
       "      <td>siglades_Miami</td>\n",
       "      <td>0.243</td>\n",
       "      <td>0.622</td>\n",
       "    </tr>\n",
       "    <tr>\n",
       "      <th>91</th>\n",
       "      <td>siglades_Guayaquil</td>\n",
       "      <td>0.246</td>\n",
       "      <td>0.620</td>\n",
       "    </tr>\n",
       "    <tr>\n",
       "      <th>61</th>\n",
       "      <td>opera_JetSmart SPA</td>\n",
       "      <td>0.257</td>\n",
       "      <td>0.612</td>\n",
       "    </tr>\n",
       "    <tr>\n",
       "      <th>2</th>\n",
       "      <td>dia_4</td>\n",
       "      <td>0.321</td>\n",
       "      <td>0.571</td>\n",
       "    </tr>\n",
       "    <tr>\n",
       "      <th>21</th>\n",
       "      <td>dia_23</td>\n",
       "      <td>0.420</td>\n",
       "      <td>0.517</td>\n",
       "    </tr>\n",
       "    <tr>\n",
       "      <th>94</th>\n",
       "      <td>siglades_Isla de Pascua</td>\n",
       "      <td>0.429</td>\n",
       "      <td>0.512</td>\n",
       "    </tr>\n",
       "    <tr>\n",
       "      <th>121</th>\n",
       "      <td>siglades_San Juan, Arg.</td>\n",
       "      <td>0.442</td>\n",
       "      <td>0.506</td>\n",
       "    </tr>\n",
       "    <tr>\n",
       "      <th>81</th>\n",
       "      <td>siglades_Cataratas Iguacu</td>\n",
       "      <td>0.454</td>\n",
       "      <td>0.501</td>\n",
       "    </tr>\n",
       "    <tr>\n",
       "      <th>16</th>\n",
       "      <td>dia_18</td>\n",
       "      <td>0.482</td>\n",
       "      <td>0.487</td>\n",
       "    </tr>\n",
       "    <tr>\n",
       "      <th>10</th>\n",
       "      <td>dia_12</td>\n",
       "      <td>0.537</td>\n",
       "      <td>0.464</td>\n",
       "    </tr>\n",
       "    <tr>\n",
       "      <th>19</th>\n",
       "      <td>dia_21</td>\n",
       "      <td>0.636</td>\n",
       "      <td>0.425</td>\n",
       "    </tr>\n",
       "    <tr>\n",
       "      <th>7</th>\n",
       "      <td>dia_9</td>\n",
       "      <td>0.658</td>\n",
       "      <td>0.417</td>\n",
       "    </tr>\n",
       "    <tr>\n",
       "      <th>88</th>\n",
       "      <td>siglades_Curitiba, Bra.</td>\n",
       "      <td>0.681</td>\n",
       "      <td>0.409</td>\n",
       "    </tr>\n",
       "    <tr>\n",
       "      <th>20</th>\n",
       "      <td>dia_22</td>\n",
       "      <td>0.730</td>\n",
       "      <td>0.393</td>\n",
       "    </tr>\n",
       "    <tr>\n",
       "      <th>1</th>\n",
       "      <td>dia_3</td>\n",
       "      <td>1.168</td>\n",
       "      <td>0.280</td>\n",
       "    </tr>\n",
       "    <tr>\n",
       "      <th>75</th>\n",
       "      <td>siglades_Bariloche</td>\n",
       "      <td>1.317</td>\n",
       "      <td>0.251</td>\n",
       "    </tr>\n",
       "    <tr>\n",
       "      <th>95</th>\n",
       "      <td>siglades_La Paz</td>\n",
       "      <td>1.405</td>\n",
       "      <td>0.236</td>\n",
       "    </tr>\n",
       "    <tr>\n",
       "      <th>107</th>\n",
       "      <td>siglades_Orlando</td>\n",
       "      <td>1.435</td>\n",
       "      <td>0.231</td>\n",
       "    </tr>\n",
       "    <tr>\n",
       "      <th>105</th>\n",
       "      <td>siglades_Neuquen</td>\n",
       "      <td>1.449</td>\n",
       "      <td>0.229</td>\n",
       "    </tr>\n",
       "    <tr>\n",
       "      <th>127</th>\n",
       "      <td>siglades_Tucuman</td>\n",
       "      <td>1.542</td>\n",
       "      <td>0.214</td>\n",
       "    </tr>\n",
       "    <tr>\n",
       "      <th>17</th>\n",
       "      <td>dia_19</td>\n",
       "      <td>1.554</td>\n",
       "      <td>0.213</td>\n",
       "    </tr>\n",
       "    <tr>\n",
       "      <th>15</th>\n",
       "      <td>dia_17</td>\n",
       "      <td>1.569</td>\n",
       "      <td>0.210</td>\n",
       "    </tr>\n",
       "    <tr>\n",
       "      <th>3</th>\n",
       "      <td>dia_5</td>\n",
       "      <td>1.628</td>\n",
       "      <td>0.202</td>\n",
       "    </tr>\n",
       "    <tr>\n",
       "      <th>65</th>\n",
       "      <td>opera_Oceanair Linhas Aereas</td>\n",
       "      <td>1.758</td>\n",
       "      <td>0.185</td>\n",
       "    </tr>\n",
       "    <tr>\n",
       "      <th>18</th>\n",
       "      <td>dia_20</td>\n",
       "      <td>1.882</td>\n",
       "      <td>0.170</td>\n",
       "    </tr>\n",
       "    <tr>\n",
       "      <th>106</th>\n",
       "      <td>siglades_Nueva York</td>\n",
       "      <td>2.238</td>\n",
       "      <td>0.135</td>\n",
       "    </tr>\n",
       "    <tr>\n",
       "      <th>4</th>\n",
       "      <td>dia_6</td>\n",
       "      <td>2.329</td>\n",
       "      <td>0.127</td>\n",
       "    </tr>\n",
       "    <tr>\n",
       "      <th>98</th>\n",
       "      <td>siglades_Londres</td>\n",
       "      <td>2.571</td>\n",
       "      <td>0.109</td>\n",
       "    </tr>\n",
       "    <tr>\n",
       "      <th>55</th>\n",
       "      <td>opera_British Airways</td>\n",
       "      <td>2.571</td>\n",
       "      <td>0.109</td>\n",
       "    </tr>\n",
       "    <tr>\n",
       "      <th>63</th>\n",
       "      <td>opera_Lacsa</td>\n",
       "      <td>2.608</td>\n",
       "      <td>0.106</td>\n",
       "    </tr>\n",
       "    <tr>\n",
       "      <th>22</th>\n",
       "      <td>dia_24</td>\n",
       "      <td>2.637</td>\n",
       "      <td>0.104</td>\n",
       "    </tr>\n",
       "    <tr>\n",
       "      <th>104</th>\n",
       "      <td>siglades_Montevideo</td>\n",
       "      <td>3.251</td>\n",
       "      <td>0.071</td>\n",
       "    </tr>\n",
       "    <tr>\n",
       "      <th>24</th>\n",
       "      <td>dia_26</td>\n",
       "      <td>3.332</td>\n",
       "      <td>0.068</td>\n",
       "    </tr>\n",
       "    <tr>\n",
       "      <th>122</th>\n",
       "      <td>siglades_Santa Cruz</td>\n",
       "      <td>3.370</td>\n",
       "      <td>0.066</td>\n",
       "    </tr>\n",
       "    <tr>\n",
       "      <th>26</th>\n",
       "      <td>dia_28</td>\n",
       "      <td>3.597</td>\n",
       "      <td>0.058</td>\n",
       "    </tr>\n",
       "  </tbody>\n",
       "</table>\n",
       "</div>"
      ],
      "text/plain": [
       "                         variable  chi_sq  p_value\n",
       "90         siglades_Florianapolis   0.000    0.994\n",
       "79                siglades_Cancun   0.013    0.910\n",
       "116       siglades_Punta del Este   0.013    0.908\n",
       "23                         dia_25   0.027    0.869\n",
       "108               siglades_Osorno   0.113    0.737\n",
       "11                         dia_13   0.151    0.698\n",
       "53                  opera_Austral   0.155    0.694\n",
       "100               siglades_Madrid   0.161    0.688\n",
       "130           siglades_Washington   0.227    0.634\n",
       "110          siglades_Pisco, Peru   0.227    0.634\n",
       "103                siglades_Miami   0.243    0.622\n",
       "91             siglades_Guayaquil   0.246    0.620\n",
       "61             opera_JetSmart SPA   0.257    0.612\n",
       "2                           dia_4   0.321    0.571\n",
       "21                         dia_23   0.420    0.517\n",
       "94        siglades_Isla de Pascua   0.429    0.512\n",
       "121       siglades_San Juan, Arg.   0.442    0.506\n",
       "81      siglades_Cataratas Iguacu   0.454    0.501\n",
       "16                         dia_18   0.482    0.487\n",
       "10                         dia_12   0.537    0.464\n",
       "19                         dia_21   0.636    0.425\n",
       "7                           dia_9   0.658    0.417\n",
       "88        siglades_Curitiba, Bra.   0.681    0.409\n",
       "20                         dia_22   0.730    0.393\n",
       "1                           dia_3   1.168    0.280\n",
       "75             siglades_Bariloche   1.317    0.251\n",
       "95                siglades_La Paz   1.405    0.236\n",
       "107              siglades_Orlando   1.435    0.231\n",
       "105              siglades_Neuquen   1.449    0.229\n",
       "127              siglades_Tucuman   1.542    0.214\n",
       "17                         dia_19   1.554    0.213\n",
       "15                         dia_17   1.569    0.210\n",
       "3                           dia_5   1.628    0.202\n",
       "65   opera_Oceanair Linhas Aereas   1.758    0.185\n",
       "18                         dia_20   1.882    0.170\n",
       "106           siglades_Nueva York   2.238    0.135\n",
       "4                           dia_6   2.329    0.127\n",
       "98               siglades_Londres   2.571    0.109\n",
       "55          opera_British Airways   2.571    0.109\n",
       "63                    opera_Lacsa   2.608    0.106\n",
       "22                         dia_24   2.637    0.104\n",
       "104           siglades_Montevideo   3.251    0.071\n",
       "24                         dia_26   3.332    0.068\n",
       "122           siglades_Santa Cruz   3.370    0.066\n",
       "26                         dia_28   3.597    0.058"
      ]
     },
     "execution_count": 1863,
     "metadata": {},
     "output_type": "execute_result"
    }
   ],
   "source": [
    "# Analisis de las categorias que no son relevantes para la predicción según la prueba de chi-cuadrada\n",
    "chi_values_t3 = chi_values[(chi_values['p_value'] > 0.05 )].sort_values(['p_value'],ascending = False).round(3)\n",
    "print(chi_values_t3.shape)\n",
    "chi_values_t3\n",
    "\n",
    "# Se observa que la categoria con menor valor estadistico de la prueba chi-cuadrada es la categoría Florianapolis que pertenece a la variable de\n",
    "# nombre de la ciudad de destino (siglades). En generlas las 45 variables del dataframe chi_values_t3 no deben ser consideradas para entrar a los modelos de ML\n",
    "# pues su p_value es poco significativo según a prueba de chi-cuadrada.\n",
    "# Tambien es de notar que la variabled día presenta 18 de 31 categorias que nos son significativas (p_value > 0.05), esto nos podría ayudar a suponer que \n",
    "# es muy probable que esta variable, en su totalidad, pueda no ser significativa para nuestro análisis."
   ]
  },
  {
   "cell_type": "code",
   "execution_count": 1864,
   "metadata": {},
   "outputs": [
    {
     "data": {
      "text/html": [
       "<div>\n",
       "<style scoped>\n",
       "    .dataframe tbody tr th:only-of-type {\n",
       "        vertical-align: middle;\n",
       "    }\n",
       "\n",
       "    .dataframe tbody tr th {\n",
       "        vertical-align: top;\n",
       "    }\n",
       "\n",
       "    .dataframe thead th {\n",
       "        text-align: right;\n",
       "    }\n",
       "</style>\n",
       "<table border=\"1\" class=\"dataframe\">\n",
       "  <thead>\n",
       "    <tr style=\"text-align: right;\">\n",
       "      <th></th>\n",
       "      <th>dia</th>\n",
       "      <th>mes</th>\n",
       "      <th>dianom</th>\n",
       "      <th>tipovuelo</th>\n",
       "      <th>opera</th>\n",
       "      <th>siglades</th>\n",
       "      <th>temporada_alta</th>\n",
       "      <th>periodo_dia</th>\n",
       "    </tr>\n",
       "  </thead>\n",
       "  <tbody>\n",
       "    <tr>\n",
       "      <th>0</th>\n",
       "      <td>1</td>\n",
       "      <td>1</td>\n",
       "      <td>0</td>\n",
       "      <td>0</td>\n",
       "      <td>0</td>\n",
       "      <td>0</td>\n",
       "      <td>1</td>\n",
       "      <td>2</td>\n",
       "    </tr>\n",
       "    <tr>\n",
       "      <th>1</th>\n",
       "      <td>2</td>\n",
       "      <td>1</td>\n",
       "      <td>1</td>\n",
       "      <td>0</td>\n",
       "      <td>0</td>\n",
       "      <td>0</td>\n",
       "      <td>1</td>\n",
       "      <td>2</td>\n",
       "    </tr>\n",
       "    <tr>\n",
       "      <th>2</th>\n",
       "      <td>3</td>\n",
       "      <td>1</td>\n",
       "      <td>2</td>\n",
       "      <td>0</td>\n",
       "      <td>0</td>\n",
       "      <td>0</td>\n",
       "      <td>1</td>\n",
       "      <td>2</td>\n",
       "    </tr>\n",
       "    <tr>\n",
       "      <th>3</th>\n",
       "      <td>4</td>\n",
       "      <td>1</td>\n",
       "      <td>3</td>\n",
       "      <td>0</td>\n",
       "      <td>0</td>\n",
       "      <td>0</td>\n",
       "      <td>1</td>\n",
       "      <td>2</td>\n",
       "    </tr>\n",
       "    <tr>\n",
       "      <th>4</th>\n",
       "      <td>5</td>\n",
       "      <td>1</td>\n",
       "      <td>4</td>\n",
       "      <td>0</td>\n",
       "      <td>0</td>\n",
       "      <td>0</td>\n",
       "      <td>1</td>\n",
       "      <td>2</td>\n",
       "    </tr>\n",
       "    <tr>\n",
       "      <th>...</th>\n",
       "      <td>...</td>\n",
       "      <td>...</td>\n",
       "      <td>...</td>\n",
       "      <td>...</td>\n",
       "      <td>...</td>\n",
       "      <td>...</td>\n",
       "      <td>...</td>\n",
       "      <td>...</td>\n",
       "    </tr>\n",
       "    <tr>\n",
       "      <th>68201</th>\n",
       "      <td>22</td>\n",
       "      <td>12</td>\n",
       "      <td>6</td>\n",
       "      <td>0</td>\n",
       "      <td>20</td>\n",
       "      <td>15</td>\n",
       "      <td>1</td>\n",
       "      <td>1</td>\n",
       "    </tr>\n",
       "    <tr>\n",
       "      <th>68202</th>\n",
       "      <td>25</td>\n",
       "      <td>12</td>\n",
       "      <td>1</td>\n",
       "      <td>0</td>\n",
       "      <td>20</td>\n",
       "      <td>15</td>\n",
       "      <td>1</td>\n",
       "      <td>1</td>\n",
       "    </tr>\n",
       "    <tr>\n",
       "      <th>68203</th>\n",
       "      <td>27</td>\n",
       "      <td>12</td>\n",
       "      <td>3</td>\n",
       "      <td>0</td>\n",
       "      <td>20</td>\n",
       "      <td>15</td>\n",
       "      <td>1</td>\n",
       "      <td>1</td>\n",
       "    </tr>\n",
       "    <tr>\n",
       "      <th>68204</th>\n",
       "      <td>29</td>\n",
       "      <td>12</td>\n",
       "      <td>6</td>\n",
       "      <td>0</td>\n",
       "      <td>20</td>\n",
       "      <td>15</td>\n",
       "      <td>1</td>\n",
       "      <td>1</td>\n",
       "    </tr>\n",
       "    <tr>\n",
       "      <th>68205</th>\n",
       "      <td>31</td>\n",
       "      <td>12</td>\n",
       "      <td>0</td>\n",
       "      <td>0</td>\n",
       "      <td>20</td>\n",
       "      <td>15</td>\n",
       "      <td>1</td>\n",
       "      <td>1</td>\n",
       "    </tr>\n",
       "  </tbody>\n",
       "</table>\n",
       "<p>68206 rows × 8 columns</p>\n",
       "</div>"
      ],
      "text/plain": [
       "       dia  mes  dianom  tipovuelo  opera  siglades  temporada_alta  \\\n",
       "0        1    1       0          0      0         0               1   \n",
       "1        2    1       1          0      0         0               1   \n",
       "2        3    1       2          0      0         0               1   \n",
       "3        4    1       3          0      0         0               1   \n",
       "4        5    1       4          0      0         0               1   \n",
       "...    ...  ...     ...        ...    ...       ...             ...   \n",
       "68201   22   12       6          0     20        15               1   \n",
       "68202   25   12       1          0     20        15               1   \n",
       "68203   27   12       3          0     20        15               1   \n",
       "68204   29   12       6          0     20        15               1   \n",
       "68205   31   12       0          0     20        15               1   \n",
       "\n",
       "       periodo_dia  \n",
       "0                2  \n",
       "1                2  \n",
       "2                2  \n",
       "3                2  \n",
       "4                2  \n",
       "...            ...  \n",
       "68201            1  \n",
       "68202            1  \n",
       "68203            1  \n",
       "68204            1  \n",
       "68205            1  \n",
       "\n",
       "[68206 rows x 8 columns]"
      ]
     },
     "execution_count": 1864,
     "metadata": {},
     "output_type": "execute_result"
    }
   ],
   "source": [
    "catv = [c for c in df.columns if ('dia' in c)|('mes' in c)|('dianom' in c)|('tipovuelo' in c)|('opera' in c)|('siglades' in c)|('temporada_alta' in c)|('periodo_dia' in c)]\n",
    "X = df[catv]\n",
    "y = df['atraso_15']\n",
    "# Encode categorical columns to numbers\n",
    "X.replace({'I':0,'N':1}, inplace=True)\n",
    "X.replace({'mañana':0,'tarde':1,'noche':2}, inplace=True)\n",
    "X.replace({'Domingo':0,'Lunes':1,'Martes':2,'Miercoles':3,'Jueves':4,'Sabado':5,'Viernes':6}, inplace=True)\n",
    "X.replace({'American Airlines':0,'Air Canada':1,'Air France':2,'Aeromexico':3,'Aerolineas Argentinas':4,'Austral':5,'Avianca':6,'Alitalia':7,'British Airways':8,'Copa Air':9,'Delta Air':10,'Gol Trans':11,'Iberia':12,'K.L.M.':13,'Qantas Airways':14,'United Airlines':15,'Grupo LATAM':16,'Sky Airline':17,'Latin American Wings':18,'Plus Ultra Lineas Aereas':19,'JetSmart SPA':20,'Oceanair Linhas Aereas':21,'Lacsa':22}, inplace=True)\n",
    "X.replace({'Miami':0,'Dallas':1,'Buenos Aires':2,'Toronto':3,'Paris':4,'Ciudad de Mexico':5,'Bogota':6,'Roma':7,'Londres':8,'Ciudad de Panama':9,'Atlanta':10,'Sao Paulo':11,'Rio de Janeiro':12,'Florianapolis':13,'Madrid':14,'Lima':15,'Sydney':16,'Houston':17,'Asuncion':18,'Cataratas Iguacu':19,'Puerto Montt':20,'Punta Arenas':21,'Puerto Natales':22,'Balmaceda':23,'Temuco':24,'Valdivia':25,'Concepcion':26,'La Serena':27,'Copiapo':28,'Calama':29,'Antofagasta':30,'Iquique':31,'Arica':32,'Mendoza':33,'Cordoba':34,'Montevideo':35,'Castro (Chiloe)':36,'Osorno':37,'Orlando':38,'Nueva York':39,'Guayaquil':40,'Cancun':41,'Punta Cana':42,'Los Angeles':43,'Auckland N.Z.':44,'Isla de Pascua':45,'La Paz':46,'Santa Cruz':47,\"Curitiba:,Bra.\":48,'Quito':49,'Bariloche':50,'Rosario':51,'Washington':52,'Tucuman':53,'Melbourne':54,'San Juan:,Arg.':55,'Neuquen':56,'Pisco:,Peru':57,'Ushuia':58,'Puerto Stanley':59,'Punta del Este':60,'Cochabamba':61}, inplace=True)\n",
    "X.siglades.replace(['Curitiba, Bra.'], 48, inplace=True)\n",
    "X.siglades.replace(['San Juan, Arg.'], 55, inplace=True)\n",
    "X.siglades.replace(['Pisco, Peru'], 57, inplace=True)\n",
    "X"
   ]
  },
  {
   "cell_type": "code",
   "execution_count": 1865,
   "metadata": {},
   "outputs": [
    {
     "data": {
      "text/html": [
       "<div>\n",
       "<style scoped>\n",
       "    .dataframe tbody tr th:only-of-type {\n",
       "        vertical-align: middle;\n",
       "    }\n",
       "\n",
       "    .dataframe tbody tr th {\n",
       "        vertical-align: top;\n",
       "    }\n",
       "\n",
       "    .dataframe thead th {\n",
       "        text-align: right;\n",
       "    }\n",
       "</style>\n",
       "<table border=\"1\" class=\"dataframe\">\n",
       "  <thead>\n",
       "    <tr style=\"text-align: right;\">\n",
       "      <th></th>\n",
       "      <th>variable</th>\n",
       "      <th>chi_sq</th>\n",
       "      <th>p_value</th>\n",
       "    </tr>\n",
       "  </thead>\n",
       "  <tbody>\n",
       "    <tr>\n",
       "      <th>1</th>\n",
       "      <td>mes</td>\n",
       "      <td>889.596</td>\n",
       "      <td>0.000</td>\n",
       "    </tr>\n",
       "    <tr>\n",
       "      <th>5</th>\n",
       "      <td>siglades</td>\n",
       "      <td>586.724</td>\n",
       "      <td>0.000</td>\n",
       "    </tr>\n",
       "    <tr>\n",
       "      <th>3</th>\n",
       "      <td>tipovuelo</td>\n",
       "      <td>289.678</td>\n",
       "      <td>0.000</td>\n",
       "    </tr>\n",
       "    <tr>\n",
       "      <th>7</th>\n",
       "      <td>periodo_dia</td>\n",
       "      <td>87.730</td>\n",
       "      <td>0.000</td>\n",
       "    </tr>\n",
       "    <tr>\n",
       "      <th>2</th>\n",
       "      <td>dianom</td>\n",
       "      <td>67.334</td>\n",
       "      <td>0.000</td>\n",
       "    </tr>\n",
       "    <tr>\n",
       "      <th>6</th>\n",
       "      <td>temporada_alta</td>\n",
       "      <td>40.405</td>\n",
       "      <td>0.000</td>\n",
       "    </tr>\n",
       "    <tr>\n",
       "      <th>0</th>\n",
       "      <td>dia</td>\n",
       "      <td>2.121</td>\n",
       "      <td>0.145</td>\n",
       "    </tr>\n",
       "    <tr>\n",
       "      <th>4</th>\n",
       "      <td>opera</td>\n",
       "      <td>0.262</td>\n",
       "      <td>0.609</td>\n",
       "    </tr>\n",
       "  </tbody>\n",
       "</table>\n",
       "</div>"
      ],
      "text/plain": [
       "         variable   chi_sq  p_value\n",
       "1             mes  889.596    0.000\n",
       "5        siglades  586.724    0.000\n",
       "3       tipovuelo  289.678    0.000\n",
       "7     periodo_dia   87.730    0.000\n",
       "2          dianom   67.334    0.000\n",
       "6  temporada_alta   40.405    0.000\n",
       "0             dia    2.121    0.145\n",
       "4           opera    0.262    0.609"
      ]
     },
     "execution_count": 1865,
     "metadata": {},
     "output_type": "execute_result"
    }
   ],
   "source": [
    "# Independence Test\n",
    "chi_sq, p_val = chi2(X,y)\n",
    "chi_values = pd.DataFrame.from_dict({'variable':X.columns,\n",
    "                        'chi_sq':chi_sq, 'p_value':p_val})\n",
    "chi_values.sort_values(ascending=True, by='p_value').round(3)\n",
    "# Rechazamos H0 y concluimos que si hay diferencia significativa entre el atrsos vs. mes, siglades, tipovuelo, periodo_dia, dianom y temporada_alta.\n",
    "# Existe diferencia entre las categorias de los vuelos atrasados (0,1) y estas variables."
   ]
  },
  {
   "cell_type": "markdown",
   "metadata": {},
   "source": [
    "* Por el análisis anterior y para contestar la pregunta \"¿qué variables esperarías que más influyeran en predecir atrasos?\", yo diria que las variables que más influiran serán: mes, siglades, tipovuelo, periodo_dia, dianom y temporada_alta. Aunque existen categorias de las variables día y opera que presentan una relación\n",
    "significatica con la variable atrasos_15, por lo que dichas categorías serán incluidas en los modelos de ML.\n"
   ]
  },
  {
   "cell_type": "markdown",
   "metadata": {},
   "source": [
    "#### 4. Entrena uno o varios modelos (usando el/los algoritmo(s) que prefieras) para estimar la probabilidad de atraso de un vuelo. Siéntete libre de generar variables adicionales y/o complementar con variables externas."
   ]
  },
  {
   "cell_type": "code",
   "execution_count": 1968,
   "metadata": {},
   "outputs": [],
   "source": [
    "# Preprocess data\n",
    "from sklearn.preprocessing import StandardScaler\n",
    "from sklearn.model_selection import train_test_split\n",
    "\n",
    "def preprocess_split(X, y,test_size=0.2,random_state=5874,\n",
    "                        scale_x=True,\n",
    "                        cat_variables=[], \n",
    "                        scale_y=False):\n",
    "\n",
    "  # Split data\n",
    "  x_train, x_test, y_train, y_test = train_test_split(X, y,\n",
    "                                                    test_size=test_size, \n",
    "                                                    random_state=random_state)\n",
    "  # Scale X\n",
    "  if scale_x:\n",
    "    # Find numerical column index\n",
    "    num_i = [X.columns.get_loc(c) for c in X.columns if c not in cat_variables]\n",
    "    cat_i = [X.columns.get_loc(c) for c in X.columns if c in cat_variables]\n",
    "    # Scale Numerical Variables\n",
    "    x_train_ = x_train.iloc[:, num_i]\n",
    "    x_test_ = x_test.iloc[:, num_i]\n",
    "    scaler = StandardScaler().fit(x_train_)\n",
    "    x_train_ = scaler.transform(x_train_)\n",
    "    x_test_ = scaler.transform(x_test_)\n",
    "    # Create new dataframe\n",
    "    x_train = np.concatenate([x_train_, x_train.iloc[:,cat_i]], axis=1)\n",
    "    x_test = np.concatenate([x_test_, x_test.iloc[:,cat_i]],axis=1)\n",
    "\n",
    "  # Scale Y\n",
    "  if scale_y:\n",
    "    scaler = StandardScaler().fit(y_train)\n",
    "    y_train = scaler.transform(y_train)\n",
    "    y_test = scaler.transform(y_test)\n",
    "\n",
    "  return x_train, x_test, y_train, y_test\n",
    "\n"
   ]
  },
  {
   "cell_type": "code",
   "execution_count": 1957,
   "metadata": {},
   "outputs": [],
   "source": [
    "# Funcion de regresion logistica\n",
    "from sklearn.linear_model import LogisticRegression\n",
    "from sklearn.metrics import classification_report\n",
    "from sklearn.metrics import accuracy_score\n",
    "\n",
    "def log_regression(x_train, x_test, y_train, y_test):\n",
    "  \n",
    "  #print(x_train.columns)\n",
    "  # Train Logistic Model\n",
    "  model_log_reg = LogisticRegression()\n",
    "  model_log_reg.fit(x_train, y_train)\n",
    "\n",
    "  #Test the model\n",
    "  predictions_log_reg = model_log_reg.predict(x_test)\n",
    "\n",
    "  #Check precision, recall, f1-score\n",
    "  #print( '', classification_report(y_test, predictions) )\n",
    "  print( 'Accuracy: ', accuracy_score(y_test, predictions_log_reg))\n",
    "  #print(' Coefficients: ', model.coef_)\n",
    "  print('----------------------------------------------------------------')\n",
    "  return model_log_reg, predictions_log_reg\n",
    "\n"
   ]
  },
  {
   "cell_type": "code",
   "execution_count": 1983,
   "metadata": {},
   "outputs": [
    {
     "data": {
      "text/plain": [
       "\"['atraso_15' 'dia_2' 'dia_3' 'dia_4' 'dia_5' 'dia_6' 'dia_7' 'dia_8'\\n 'dia_9' 'dia_10' 'dia_11' 'dia_12' 'dia_13' 'dia_14' 'dia_15' 'dia_16'\\n 'dia_17' 'dia_18' 'dia_19' 'dia_20' 'dia_21' 'dia_22' 'dia_23' 'dia_24'\\n 'dia_25' 'dia_26' 'dia_27' 'dia_28' 'dia_29' 'dia_30' 'dia_31' 'mes_2'\\n 'mes_3' 'mes_4' 'mes_5' 'mes_6' 'mes_7' 'mes_8' 'mes_9' 'mes_10' 'mes_11'\\n 'mes_12' 'dianom_Jueves' 'dianom_Lunes' 'dianom_Martes'\\n 'dianom_Miercoles' 'dianom_Sabado' 'dianom_Viernes' 'tipovuelo_N'\\n 'opera_Aeromexico' 'opera_Air Canada' 'opera_Air France' 'opera_Alitalia'\\n 'opera_American Airlines' 'opera_Austral' 'opera_Avianca'\\n 'opera_British Airways' 'opera_Copa Air' 'opera_Delta Air'\\n 'opera_Gol Trans' 'opera_Grupo LATAM' 'opera_Iberia' 'opera_JetSmart SPA'\\n 'opera_K.L.M.' 'opera_Lacsa' 'opera_Latin American Wings'\\n 'opera_Oceanair Linhas Aereas' 'opera_Plus Ultra Lineas Aereas'\\n 'opera_Qantas Airways' 'opera_Sky Airline' 'opera_United Airlines'\\n 'siglades_Arica' 'siglades_Asuncion' 'siglades_Atlanta'\\n 'siglades_Auckland N.Z.' 'siglades_Balmaceda' 'siglades_Bariloche'\\n 'siglades_Bogota' 'siglades_Buenos Aires' 'siglades_Calama'\\n 'siglades_Cancun' 'siglades_Castro (Chiloe)' 'siglades_Cataratas Iguacu'\\n 'siglades_Ciudad de Mexico' 'siglades_Ciudad de Panama'\\n 'siglades_Cochabamba' 'siglades_Concepcion' 'siglades_Copiapo'\\n 'siglades_Cordoba' 'siglades_Curitiba, Bra.' 'siglades_Dallas'\\n 'siglades_Florianapolis' 'siglades_Guayaquil' 'siglades_Houston'\\n 'siglades_Iquique' 'siglades_Isla de Pascua' 'siglades_La Paz'\\n 'siglades_La Serena' 'siglades_Lima' 'siglades_Londres'\\n 'siglades_Los Angeles' 'siglades_Madrid' 'siglades_Melbourne'\\n 'siglades_Mendoza' 'siglades_Miami' 'siglades_Montevideo'\\n 'siglades_Neuquen' 'siglades_Nueva York' 'siglades_Orlando'\\n 'siglades_Osorno' 'siglades_Paris' 'siglades_Pisco, Peru'\\n 'siglades_Puerto Montt' 'siglades_Puerto Natales'\\n 'siglades_Puerto Stanley' 'siglades_Punta Arenas' 'siglades_Punta Cana'\\n 'siglades_Punta del Este' 'siglades_Quito' 'siglades_Rio de Janeiro'\\n 'siglades_Roma' 'siglades_Rosario' 'siglades_San Juan, Arg.'\\n 'siglades_Santa Cruz' 'siglades_Sao Paulo' 'siglades_Sydney'\\n 'siglades_Temuco' 'siglades_Toronto' 'siglades_Tucuman' 'siglades_Ushuia'\\n 'siglades_Valdivia' 'siglades_Washington' 'temporada_alta_1'\\n 'periodo_dia_noche' 'periodo_dia_tarde']\""
      ]
     },
     "execution_count": 1983,
     "metadata": {},
     "output_type": "execute_result"
    }
   ],
   "source": [
    "str(df_chi_q.columns.values)"
   ]
  },
  {
   "cell_type": "code",
   "execution_count": 2191,
   "metadata": {},
   "outputs": [
    {
     "name": "stdout",
     "output_type": "stream",
     "text": [
      "Accuracy:  0.8187948981087817\n",
      "----------------------------------------------------------------\n",
      "Shape dataset X: 134\n",
      "Shape list cat_variables 134\n"
     ]
    }
   ],
   "source": [
    "# Modelo con las variables extraidas de la prueba chi-cuadrada\n",
    "\n",
    "#cat_variables =  ['opera_Latin American Wings','mes_7','tipovuelo_N','opera_Air Canada','siglades_Buenos Aires','siglades_Sydney','mes_12',\n",
    "#'opera_Qantas Airways','opera_Copa Air','siglades_Ciudad de Panama','mes_3','opera_Gol Trans','mes_4','siglades_Calama','dianom_Viernes',\n",
    "#'siglades_Cordoba','siglades_Sao Paulo','siglades_Rio de Janeiro','siglades_Auckland N.Z.','siglades_Mendoza','siglades_Lima',\n",
    "#'opera_American Airlines','mes_10','opera_Plus Ultra Lineas Aereas','siglades_Bogota','opera_Aeromexico','dia_15','opera_Avianca',\n",
    "#'mes_2','siglades_Rosario','temporada_alta_1','opera_United Airlines','siglades_Houston','siglades_Arica','siglades_Ciudad de Mexico',\n",
    "#'opera_Delta Air','siglades_Atlanta','periodo_dia_tarde','dia_11','siglades_Melbourne','siglades_Toronto','siglades_Dallas','siglades_Copiapo',\n",
    "#'dianom_Sabado','periodo_dia_noche','mes_5','dia_10','opera_Air France','siglades_Paris','siglades_Concepcion','dianom_Lunes','siglades_Castro (Chiloe)',\n",
    "#'opera_Iberia','opera_K.L.M.','dianom_Martes','siglades_Asuncion','siglades_Temuco','dianom_Jueves','siglades_Punta Arenas','dianom_Miercoles','dia_7',\n",
    "#'opera_Grupo LATAM','dia_2','dia_27','siglades_Ushuia','opera_Alitalia','siglades_Roma','siglades_Quito','siglades_La Serena','siglades_Balmaceda',\n",
    "#'siglades_Punta Cana','siglades_Puerto Montt','dia_8','dia_16','dia_30','dia_31','mes_6','mes_11','mes_9','mes_8','opera_Sky Airline','siglades_Iquique',\n",
    "#'siglades_Puerto Natales','siglades_Los Angeles','siglades_Puerto Stanley','siglades_Cochabamba','dia_14','siglades_Valdivia','dia_29']\n",
    "\n",
    "df_chi_q = df[['atraso_15','dia','mes','dianom','tipovuelo','opera','siglades','temporada_alta','periodo_dia']]\n",
    "df_chi_q = pd.get_dummies(df_chi_q, columns=['dia','mes','dianom','tipovuelo','opera','siglades','temporada_alta','periodo_dia'], drop_first=True)\n",
    "#df_chi_q.columns\n",
    "\n",
    "X = df_chi_q.loc[:, df_chi_q.columns!='atraso_15']\n",
    "\n",
    "#X = df_chi_q.loc[:,['opera_Latin American Wings','mes_7','tipovuelo_N','opera_Air Canada','siglades_Buenos Aires','siglades_Sydney','mes_12',\n",
    "#'opera_Qantas Airways','opera_Copa Air','siglades_Ciudad de Panama','mes_3','opera_Gol Trans','mes_4','siglades_Calama','dianom_Viernes',\n",
    "#'siglades_Cordoba','siglades_Sao Paulo','siglades_Rio de Janeiro','siglades_Auckland N.Z.','siglades_Mendoza','siglades_Lima',\n",
    "#'opera_American Airlines','mes_10','opera_Plus Ultra Lineas Aereas','siglades_Bogota','opera_Aeromexico','dia_15','opera_Avianca',\n",
    "#'mes_2','siglades_Rosario','temporada_alta_1','opera_United Airlines','siglades_Houston','siglades_Arica','siglades_Ciudad de Mexico',\n",
    "#'opera_Delta Air','siglades_Atlanta','periodo_dia_tarde','dia_11','siglades_Melbourne','siglades_Toronto','siglades_Dallas','siglades_Copiapo',\n",
    "#'dianom_Sabado','periodo_dia_noche','mes_5','dia_10','opera_Air France','siglades_Paris','siglades_Concepcion','dianom_Lunes','siglades_Castro (Chiloe)',\n",
    "#'opera_Iberia','opera_K.L.M.','dianom_Martes','siglades_Asuncion','siglades_Temuco','dianom_Jueves','siglades_Punta Arenas','dianom_Miercoles','dia_7',\n",
    "#'opera_Grupo LATAM','dia_2','dia_27','siglades_Ushuia','opera_Alitalia','siglades_Roma','siglades_Quito','siglades_La Serena','siglades_Balmaceda',\n",
    "#'siglades_Punta Cana','siglades_Puerto Montt','dia_8','dia_16','dia_30','dia_31','mes_6','mes_11','mes_9','mes_8','opera_Sky Airline','siglades_Iquique',\n",
    "#'siglades_Puerto Natales','siglades_Los Angeles','siglades_Puerto Stanley','siglades_Cochabamba','dia_14','siglades_Valdivia','dia_29']]\n",
    "\n",
    "#Son todas las Variables\n",
    "cat_variables = ['dia_2','dia_3','dia_4','dia_5','dia_6','dia_7','dia_8','dia_9','dia_10','dia_11','dia_12','dia_13','dia_14','dia_15','dia_16'\n",
    ",'dia_17','dia_18','dia_19','dia_20','dia_21','dia_22','dia_23','dia_24','dia_25','dia_26','dia_27','dia_28','dia_29','dia_30','dia_31','mes_2'\n",
    ",'mes_3','mes_4','mes_5','mes_6','mes_7','mes_8','mes_9','mes_10','mes_11','mes_12','dianom_Jueves','dianom_Lunes','dianom_Martes'\n",
    ",'dianom_Miercoles','dianom_Sabado','dianom_Viernes','tipovuelo_N','opera_Aeromexico','opera_Air,Canada','opera_Air,France','opera_Alitalia'\n",
    ",'opera_American,Airlines','opera_Austral','opera_Avianca','opera_British,Airways','opera_Copa,Air','opera_Delta,Air'\n",
    ",'opera_Gol,Trans','opera_Grupo,LATAM','opera_Iberia','opera_JetSmart,SPA','opera_K.L.M.','opera_Lacsa','opera_Latin,American,Wings'\n",
    ",'opera_Oceanair,Linhas,Aereas','opera_Plus,Ultra,Lineas,Aereas','opera_Qantas,Airways','opera_Sky,Airline','opera_United,Airlines'\n",
    ",'siglades_Arica','siglades_Asuncion','siglades_Atlanta','siglades_Auckland,N.Z.','siglades_Balmaceda','siglades_Bariloche'\n",
    ",'siglades_Bogota','siglades_Buenos,Aires','siglades_Calama','siglades_Cancun','siglades_Castro,(Chiloe)','siglades_Cataratas,Iguacu'\n",
    ",'siglades_Ciudad,de,Mexico','siglades_Ciudad,de,Panama','siglades_Cochabamba','siglades_Concepcion','siglades_Copiapo'\n",
    ",'siglades_Cordoba','siglades_Curitiba,,Bra.','siglades_Dallas','siglades_Florianapolis','siglades_Guayaquil','siglades_Houston'\n",
    ",'siglades_Iquique','siglades_Isla,de,Pascua','siglades_La,Paz','siglades_La,Serena','siglades_Lima','siglades_Londres'\n",
    ",'siglades_Los,Angeles','siglades_Madrid','siglades_Melbourne','siglades_Mendoza','siglades_Miami','siglades_Montevideo'\n",
    ",'siglades_Neuquen','siglades_Nueva,York','siglades_Orlando','siglades_Osorno','siglades_Paris','siglades_Pisco,,Peru'\n",
    ",'siglades_Puerto,Montt','siglades_Puerto,Natales','siglades_Puerto,Stanley','siglades_Punta,Arenas','siglades_Punta,Cana'\n",
    ",'siglades_Punta,del,Este','siglades_Quito','siglades_Rio,de,Janeiro','siglades_Roma','siglades_Rosario','siglades_San,Juan,,Arg.'\n",
    ",'siglades_Santa,Cruz','siglades_Sao,Paulo','siglades_Sydney','siglades_Temuco','siglades_Toronto','siglades_Tucuman','siglades_Ushuia'\n",
    ",'siglades_Valdivia','siglades_Washington','temporada_alta_1','periodo_dia_noche','periodo_dia_tarde']\n",
    "\n",
    "\n",
    "#cat_variables =  ['dia_10',]\n",
    "#X = df_chi_q.loc[:,['dia_10',]]\n",
    "\n",
    "y = df['atraso_15']\n",
    "\n",
    "x_train, x_test, y_train, y_test = preprocess_split(X, y, scale_x=True, random_state=2453,\n",
    "                                                    cat_variables =cat_variables,\n",
    "                                                    test_size=0.2)\n",
    "#print('X columns: ',X.columns)\n",
    "model_log_reg, predictions_log_reg = log_regression(x_train, x_test, y_train, y_test)\n",
    "\n",
    "# Accuracy:  0.8176220495528514 con 89 variables\n",
    "# Accuracy:  0.8179885647265797 con 60 variables sin: 'dia_7','opera_Grupo LATAM','dia_2','dia_27','siglades_Ushuia','opera_Alitalia','siglades_Roma',\n",
    "# 'siglades_Quito','siglades_La Serena','siglades_Balmaceda','siglades_Punta Cana','siglades_Puerto Montt','dia_8','dia_16','dia_30','dia_31','mes_6',\n",
    "# 'mes_11','mes_9','mes_8','opera_Sky Airline','siglades_Iquique','siglades_Puerto Natales','siglades_Los Angeles','siglades_Puerto Stanley',\n",
    "# 'siglades_Cochabamba','dia_14','siglades_Valdivia','dia_29'\n",
    "\n",
    "print('Shape dataset X:',X.shape[1])\n",
    "print('Shape list cat_variables',len(cat_variables))"
   ]
  },
  {
   "cell_type": "code",
   "execution_count": 2193,
   "metadata": {},
   "outputs": [
    {
     "name": "stdout",
     "output_type": "stream",
     "text": [
      "accuracy:   0.819\n",
      "              precision    recall  f1-score   support\n",
      "\n",
      "           0       0.82      0.99      0.90     11144\n",
      "           1       0.56      0.05      0.09      2498\n",
      "\n",
      "    accuracy                           0.82     13642\n",
      "   macro avg       0.69      0.52      0.50     13642\n",
      "weighted avg       0.77      0.82      0.75     13642\n",
      "\n"
     ]
    }
   ],
   "source": [
    "from sklearn.metrics import classification_report, accuracy_score, confusion_matrix\n",
    "\n",
    "score = accuracy_score(y_test, predictions_log_reg)\n",
    "print(\"accuracy:   %0.3f\" % score)\n",
    "report = classification_report(y_test,predictions_log_reg)\n",
    "print(report)"
   ]
  },
  {
   "cell_type": "code",
   "execution_count": 2194,
   "metadata": {},
   "outputs": [
    {
     "name": "stdout",
     "output_type": "stream",
     "text": [
      "accuracy_score: 0.8187948981087817\n",
      "Matriz de confusión\n",
      "-------------------\n"
     ]
    },
    {
     "data": {
      "text/plain": [
       "array([[11046,    98],\n",
       "       [ 2374,   124]], dtype=int64)"
      ]
     },
     "execution_count": 2194,
     "metadata": {},
     "output_type": "execute_result"
    }
   ],
   "source": [
    "from sklearn.metrics import accuracy_score, roc_auc_score, roc_curve, confusion_matrix\n",
    "\n",
    "print('accuracy_score:',accuracy_score(y_test, predictions_log_reg))\n",
    "\n",
    "print(\"Matriz de confusión\")\n",
    "print(\"-------------------\")\n",
    "confusion_matrix(y_test,predictions_log_reg)"
   ]
  },
  {
   "cell_type": "markdown",
   "metadata": {},
   "source": [
    "Comentarios:\n",
    "\n",
    "Por lo que se observa del \"classification_report\" de l modelo anterior\n",
    "\n",
    "              precision    recall  f1-score   support\n",
    "\n",
    "           0       0.82      0.99      0.90     11144\n",
    "           1       0.56      0.05      0.09      2498\n",
    "\n",
    "    accuracy                           0.82     13642\n",
    "   macro avg       0.69      0.52      0.50     13642\n",
    "weighted avg       0.77      0.82      0.75     13642\n",
    "\n",
    "Se tiene un modelo desbalanceado, pues el accuracy es 82%, si embargo el Recaal es de  5% para lo atrasos = 1. Esto de suma importancia, ya que si dejaramos el modelo estariamos prediciendo muchos casos 0 correctamente, pero los 1 los estaríamos predicendo sumamente mal. Por lo anterior, existen dos posibilidades:\n",
    "\n",
    "* Caso 1: Predecir un vuelo como No Atraso, pero que si lo fue (FN).\n",
    "\n",
    "* Caso 2: Predecir un vuelo como Atraso, pero que no lo fue (FP). \n",
    "\n",
    "Considero que es peor predecir un vuelo como No Atraso, pero que si lo fue. ¨Por lo que se debe minimizar los FN (Recall)."
   ]
  },
  {
   "cell_type": "markdown",
   "metadata": {},
   "source": [
    "### Presicion-Recall curve"
   ]
  },
  {
   "cell_type": "code",
   "execution_count": 1998,
   "metadata": {},
   "outputs": [],
   "source": [
    "from sklearn.metrics import precision_recall_curve\n",
    "# Getting prediction probabilities\n",
    "y_scores = model_log_reg.predict_proba(x_train)\n",
    "y_scores = y_scores[:,1]\n",
    "\n",
    "precision, recall, threshold = precision_recall_curve(y_train, y_scores, pos_label=0)"
   ]
  },
  {
   "cell_type": "code",
   "execution_count": 2016,
   "metadata": {},
   "outputs": [
    {
     "data": {
      "image/png": "[encoded data removed]",
      "text/plain": [
       "<Figure size 640x480 with 1 Axes>"
      ]
     },
     "metadata": {},
     "output_type": "display_data"
    }
   ],
   "source": [
    "def plot_precision_recall_vs_threshold(precision, recall, threshold):\n",
    "    recall_80_precision = recall[np.argmax(precision >= 0.7)]\n",
    "    threshold_80_precision = threshold[np.argmax(precision >= 0.7)]\n",
    "    \n",
    "    plt.plot(threshold, precision[:-1], \"b--\", label=\"Precision\", linewidth=2)\n",
    "    plt.plot(threshold, recall[:-1], \"g-\", label=\"Recall\", linewidth=2)\n",
    "    plt.xlabel(\"Threshold\")\n",
    "    plt.plot([threshold_80_precision, threshold_80_precision], [0, 0.7], \"r:\")\n",
    "    plt.axis([0, 1, 0, 1])\n",
    "    #plt.plot([-4, threshold_80_precision], [0.7, 0.78], \"r:\")\n",
    "    plt.plot([-4, threshold_80_precision], [recall_80_precision, recall_80_precision], \"r:\")\n",
    "    #plt.plot([threshold_80_precision], [0.78], \"ro\") \n",
    "    plt.plot([threshold_80_precision], [recall_80_precision], \"ro\")\n",
    "    plt.grid(True)\n",
    "    plt.legend()\n",
    "    \n",
    "plot_precision_recall_vs_threshold(precision, recall, threshold)\n",
    "plt.show()"
   ]
  },
  {
   "cell_type": "code",
   "execution_count": 2051,
   "metadata": {},
   "outputs": [],
   "source": [
    "from sklearn.metrics import roc_curve\n",
    "fpr, tpr, thresholds = roc_curve(y_test.values, prediction_scores[:,1], pos_label=1)"
   ]
  },
  {
   "cell_type": "code",
   "execution_count": 2052,
   "metadata": {},
   "outputs": [],
   "source": [
    "from sklearn.metrics import roc_curve\n",
    "# Compute the true positive and false positive rate\n",
    "false_positive_rate, true_positive_rate, thresholds = roc_curve(y_test.values, prediction_scores[:,1], pos_label=1)"
   ]
  },
  {
   "cell_type": "code",
   "execution_count": 2053,
   "metadata": {},
   "outputs": [],
   "source": [
    "#grid_CNB.fit(X_train, y_train)\n",
    "#pred = clf_txt.predict(X_test)\n",
    "prediction_labels = model_log_reg.predict(x_test)\n",
    "prediction_scores = model_log_reg.predict_proba(x_test)"
   ]
  },
  {
   "cell_type": "code",
   "execution_count": 2054,
   "metadata": {},
   "outputs": [],
   "source": [
    "import matplotlib.pyplot as plt\n",
    "from sklearn.metrics import accuracy_score, roc_auc_score, roc_curve, confusion_matrix\n",
    "%matplotlib inline"
   ]
  },
  {
   "cell_type": "markdown",
   "metadata": {},
   "source": [
    "ROC-AUC score\n",
    "Compute the size of this AUC space, known as the ROC-AUC score."
   ]
  },
  {
   "cell_type": "code",
   "execution_count": 2055,
   "metadata": {},
   "outputs": [
    {
     "data": {
      "text/plain": [
       "0.8187948981087817"
      ]
     },
     "execution_count": 2055,
     "metadata": {},
     "output_type": "execute_result"
    }
   ],
   "source": [
    "accuracy_score(y_test, prediction_labels)"
   ]
  },
  {
   "cell_type": "code",
   "execution_count": null,
   "metadata": {},
   "outputs": [],
   "source": [
    "# Plotting the true positive and false positive rate\n",
    "def plot_roc_curve(false_positive_rate, true_positive_rate, label=None):\n",
    "    plt.plot(false_positive_rate, true_positive_rate, linewidth=2, label=label)\n",
    "    plt.plot([0, 1], [0, 1], 'r', linewidth=4)\n",
    "    plt.axis([0, 1, 0, 1])\n",
    "    plt.xlabel('False Positive Rate (FPR)', fontsize=16)\n",
    "    plt.ylabel('True Positive Rate (TPR)', fontsize=16)\n",
    "    plt.title(\"Solution Grid Complement NB: ROC test - CV:10, AUC: \" + str(roc_auc_score(y_test, prediction_scores[:,1])))\n",
    "\n",
    "plt.figure(figsize=(14, 7))\n",
    "plot_roc_curve(false_positive_rate, true_positive_rate)\n",
    "plt.show()"
   ]
  },
  {
   "cell_type": "markdown",
   "metadata": {},
   "source": [
    "Ejemplo: ¿Cuál es el punto de corte a utilizar en producción para que no tengamos más del 1% de falsos positivos consiguiendo el mayor número de verdaderos positivos?"
   ]
  },
  {
   "cell_type": "code",
   "execution_count": 2056,
   "metadata": {},
   "outputs": [
    {
     "data": {
      "text/html": [
       "<div>\n",
       "<style scoped>\n",
       "    .dataframe tbody tr th:only-of-type {\n",
       "        vertical-align: middle;\n",
       "    }\n",
       "\n",
       "    .dataframe tbody tr th {\n",
       "        vertical-align: top;\n",
       "    }\n",
       "\n",
       "    .dataframe thead th {\n",
       "        text-align: right;\n",
       "    }\n",
       "</style>\n",
       "<table border=\"1\" class=\"dataframe\">\n",
       "  <thead>\n",
       "    <tr style=\"text-align: right;\">\n",
       "      <th></th>\n",
       "      <th>fpr</th>\n",
       "      <th>tpr</th>\n",
       "      <th>thresholds</th>\n",
       "    </tr>\n",
       "  </thead>\n",
       "  <tbody>\n",
       "    <tr>\n",
       "      <th>840</th>\n",
       "      <td>0.099874</td>\n",
       "      <td>0.268615</td>\n",
       "      <td>0.292495</td>\n",
       "    </tr>\n",
       "    <tr>\n",
       "      <th>839</th>\n",
       "      <td>0.099874</td>\n",
       "      <td>0.268215</td>\n",
       "      <td>0.292510</td>\n",
       "    </tr>\n",
       "    <tr>\n",
       "      <th>838</th>\n",
       "      <td>0.099605</td>\n",
       "      <td>0.268215</td>\n",
       "      <td>0.292760</td>\n",
       "    </tr>\n",
       "    <tr>\n",
       "      <th>837</th>\n",
       "      <td>0.099605</td>\n",
       "      <td>0.267414</td>\n",
       "      <td>0.292827</td>\n",
       "    </tr>\n",
       "    <tr>\n",
       "      <th>836</th>\n",
       "      <td>0.099426</td>\n",
       "      <td>0.267414</td>\n",
       "      <td>0.292876</td>\n",
       "    </tr>\n",
       "    <tr>\n",
       "      <th>...</th>\n",
       "      <td>...</td>\n",
       "      <td>...</td>\n",
       "      <td>...</td>\n",
       "    </tr>\n",
       "    <tr>\n",
       "      <th>745</th>\n",
       "      <td>0.085786</td>\n",
       "      <td>0.243395</td>\n",
       "      <td>0.304319</td>\n",
       "    </tr>\n",
       "    <tr>\n",
       "      <th>744</th>\n",
       "      <td>0.085427</td>\n",
       "      <td>0.243395</td>\n",
       "      <td>0.304542</td>\n",
       "    </tr>\n",
       "    <tr>\n",
       "      <th>743</th>\n",
       "      <td>0.085427</td>\n",
       "      <td>0.242994</td>\n",
       "      <td>0.304648</td>\n",
       "    </tr>\n",
       "    <tr>\n",
       "      <th>742</th>\n",
       "      <td>0.085337</td>\n",
       "      <td>0.242994</td>\n",
       "      <td>0.304706</td>\n",
       "    </tr>\n",
       "    <tr>\n",
       "      <th>741</th>\n",
       "      <td>0.085337</td>\n",
       "      <td>0.242594</td>\n",
       "      <td>0.304818</td>\n",
       "    </tr>\n",
       "  </tbody>\n",
       "</table>\n",
       "<p>100 rows × 3 columns</p>\n",
       "</div>"
      ],
      "text/plain": [
       "          fpr       tpr  thresholds\n",
       "840  0.099874  0.268615    0.292495\n",
       "839  0.099874  0.268215    0.292510\n",
       "838  0.099605  0.268215    0.292760\n",
       "837  0.099605  0.267414    0.292827\n",
       "836  0.099426  0.267414    0.292876\n",
       "..        ...       ...         ...\n",
       "745  0.085786  0.243395    0.304319\n",
       "744  0.085427  0.243395    0.304542\n",
       "743  0.085427  0.242994    0.304648\n",
       "742  0.085337  0.242994    0.304706\n",
       "741  0.085337  0.242594    0.304818\n",
       "\n",
       "[100 rows x 3 columns]"
      ]
     },
     "execution_count": 2056,
     "metadata": {},
     "output_type": "execute_result"
    }
   ],
   "source": [
    "df_metrics = pd.DataFrame({'fpr': fpr, 'tpr': tpr, 'thresholds': thresholds})\n",
    "df_metrics[df_metrics.fpr <= 0.10].sort_values(by=\"fpr\", ascending=False).head(100)"
   ]
  },
  {
   "cell_type": "markdown",
   "metadata": {},
   "source": [
    "# Modificar"
   ]
  },
  {
   "cell_type": "code",
   "execution_count": 2166,
   "metadata": {},
   "outputs": [
    {
     "data": {
      "text/html": [
       "<div>\n",
       "<style scoped>\n",
       "    .dataframe tbody tr th:only-of-type {\n",
       "        vertical-align: middle;\n",
       "    }\n",
       "\n",
       "    .dataframe tbody tr th {\n",
       "        vertical-align: top;\n",
       "    }\n",
       "\n",
       "    .dataframe thead th {\n",
       "        text-align: right;\n",
       "    }\n",
       "</style>\n",
       "<table border=\"1\" class=\"dataframe\">\n",
       "  <thead>\n",
       "    <tr style=\"text-align: right;\">\n",
       "      <th></th>\n",
       "      <th>fpr</th>\n",
       "      <th>tpr</th>\n",
       "      <th>thresholds</th>\n",
       "    </tr>\n",
       "  </thead>\n",
       "  <tbody>\n",
       "    <tr>\n",
       "      <th>3124</th>\n",
       "      <td>0.499551</td>\n",
       "      <td>0.7494</td>\n",
       "      <td>0.151918</td>\n",
       "    </tr>\n",
       "  </tbody>\n",
       "</table>\n",
       "</div>"
      ],
      "text/plain": [
       "           fpr     tpr  thresholds\n",
       "3124  0.499551  0.7494    0.151918"
      ]
     },
     "execution_count": 2166,
     "metadata": {},
     "output_type": "execute_result"
    }
   ],
   "source": [
    "#punto_corte = df_metrics[df_metrics.fpr < 0.01].sort_values(by=[\"fpr\", \"tpr\"], ascending=False).head(1)\n",
    "punto_corte = df_metrics[df_metrics.fpr < 0.5].sort_values(by=[\"fpr\", \"tpr\"], ascending=False).head(1)\n",
    "punto_corte"
   ]
  },
  {
   "cell_type": "code",
   "execution_count": 2167,
   "metadata": {},
   "outputs": [
    {
     "data": {
      "text/html": [
       "<div>\n",
       "<style scoped>\n",
       "    .dataframe tbody tr th:only-of-type {\n",
       "        vertical-align: middle;\n",
       "    }\n",
       "\n",
       "    .dataframe tbody tr th {\n",
       "        vertical-align: top;\n",
       "    }\n",
       "\n",
       "    .dataframe thead th {\n",
       "        text-align: right;\n",
       "    }\n",
       "</style>\n",
       "<table border=\"1\" class=\"dataframe\">\n",
       "  <thead>\n",
       "    <tr style=\"text-align: right;\">\n",
       "      <th></th>\n",
       "      <th>tpr</th>\n",
       "      <th>fpr</th>\n",
       "      <th>thresholds</th>\n",
       "      <th>precision</th>\n",
       "      <th>recall</th>\n",
       "    </tr>\n",
       "  </thead>\n",
       "  <tbody>\n",
       "    <tr>\n",
       "      <th>0</th>\n",
       "      <td>0.000400</td>\n",
       "      <td>0.000000</td>\n",
       "      <td>0.795200</td>\n",
       "      <td>0.000000</td>\n",
       "      <td>0.000000</td>\n",
       "    </tr>\n",
       "    <tr>\n",
       "      <th>1</th>\n",
       "      <td>0.001601</td>\n",
       "      <td>0.000000</td>\n",
       "      <td>0.767882</td>\n",
       "      <td>0.000000</td>\n",
       "      <td>0.000000</td>\n",
       "    </tr>\n",
       "    <tr>\n",
       "      <th>2</th>\n",
       "      <td>0.001601</td>\n",
       "      <td>0.000179</td>\n",
       "      <td>0.742825</td>\n",
       "      <td>0.333333</td>\n",
       "      <td>0.000179</td>\n",
       "    </tr>\n",
       "    <tr>\n",
       "      <th>3</th>\n",
       "      <td>0.002402</td>\n",
       "      <td>0.000179</td>\n",
       "      <td>0.737185</td>\n",
       "      <td>0.250000</td>\n",
       "      <td>0.000179</td>\n",
       "    </tr>\n",
       "    <tr>\n",
       "      <th>4</th>\n",
       "      <td>0.002402</td>\n",
       "      <td>0.000449</td>\n",
       "      <td>0.725562</td>\n",
       "      <td>0.454545</td>\n",
       "      <td>0.000449</td>\n",
       "    </tr>\n",
       "    <tr>\n",
       "      <th>...</th>\n",
       "      <td>...</td>\n",
       "      <td>...</td>\n",
       "      <td>...</td>\n",
       "      <td>...</td>\n",
       "      <td>...</td>\n",
       "    </tr>\n",
       "    <tr>\n",
       "      <th>5097</th>\n",
       "      <td>0.999199</td>\n",
       "      <td>0.998205</td>\n",
       "      <td>0.021035</td>\n",
       "      <td>0.816740</td>\n",
       "      <td>0.998205</td>\n",
       "    </tr>\n",
       "    <tr>\n",
       "      <th>5098</th>\n",
       "      <td>0.999600</td>\n",
       "      <td>0.998205</td>\n",
       "      <td>0.020939</td>\n",
       "      <td>0.816680</td>\n",
       "      <td>0.998205</td>\n",
       "    </tr>\n",
       "    <tr>\n",
       "      <th>5099</th>\n",
       "      <td>0.999600</td>\n",
       "      <td>0.998295</td>\n",
       "      <td>0.020874</td>\n",
       "      <td>0.816694</td>\n",
       "      <td>0.998295</td>\n",
       "    </tr>\n",
       "    <tr>\n",
       "      <th>5100</th>\n",
       "      <td>1.000000</td>\n",
       "      <td>0.998295</td>\n",
       "      <td>0.020820</td>\n",
       "      <td>0.816634</td>\n",
       "      <td>0.998295</td>\n",
       "    </tr>\n",
       "    <tr>\n",
       "      <th>5101</th>\n",
       "      <td>1.000000</td>\n",
       "      <td>1.000000</td>\n",
       "      <td>0.000034</td>\n",
       "      <td>0.816889</td>\n",
       "      <td>1.000000</td>\n",
       "    </tr>\n",
       "  </tbody>\n",
       "</table>\n",
       "<p>5102 rows × 5 columns</p>\n",
       "</div>"
      ],
      "text/plain": [
       "           tpr       fpr  thresholds  precision    recall\n",
       "0     0.000400  0.000000    0.795200   0.000000  0.000000\n",
       "1     0.001601  0.000000    0.767882   0.000000  0.000000\n",
       "2     0.001601  0.000179    0.742825   0.333333  0.000179\n",
       "3     0.002402  0.000179    0.737185   0.250000  0.000179\n",
       "4     0.002402  0.000449    0.725562   0.454545  0.000449\n",
       "...        ...       ...         ...        ...       ...\n",
       "5097  0.999199  0.998205    0.021035   0.816740  0.998205\n",
       "5098  0.999600  0.998205    0.020939   0.816680  0.998205\n",
       "5099  0.999600  0.998295    0.020874   0.816694  0.998295\n",
       "5100  1.000000  0.998295    0.020820   0.816634  0.998295\n",
       "5101  1.000000  1.000000    0.000034   0.816889  1.000000\n",
       "\n",
       "[5102 rows x 5 columns]"
      ]
     },
     "execution_count": 2167,
     "metadata": {},
     "output_type": "execute_result"
    }
   ],
   "source": [
    "from sklearn.metrics import precision_recall_curve\n",
    "\n",
    "precision, recall, threshold = precision_recall_curve(y_test, prediction_scores[:,1], pos_label=0)\n",
    "\n",
    "thresholds_ = np.append(threshold, 1)\n",
    "precision_recall = pd.DataFrame({'precision': precision, 'recall': recall, 'thresholds': thresholds_})\n",
    "tpr_fpr = pd.DataFrame({'tpr': tpr, 'fpr': fpr, 'thresholds': thresholds})\n",
    "\n",
    "metrics = tpr_fpr.merge(precision_recall, how=\"inner\", on=\"thresholds\")\n",
    "metrics\n",
    "#metrics[metrics.fpr <= 0.01]\n"
   ]
  },
  {
   "cell_type": "markdown",
   "metadata": {},
   "source": [
    "A partir del punto de corte se genera la matriz de confusión asociada. Aquellos valores que sean iguales o superiores al punto de corte seleccionado se etiquetarán como etiqueta positiva."
   ]
  },
  {
   "cell_type": "code",
   "execution_count": 2168,
   "metadata": {},
   "outputs": [
    {
     "name": "stdout",
     "output_type": "stream",
     "text": [
      "0.1519180709643261\n",
      "           fpr     tpr  thresholds\n",
      "3124  0.499551  0.7494    0.151918\n"
     ]
    }
   ],
   "source": [
    "print(punto_corte.thresholds.values[0])\n",
    "print(punto_corte)"
   ]
  },
  {
   "cell_type": "code",
   "execution_count": 2169,
   "metadata": {},
   "outputs": [],
   "source": [
    "labels_punto_corte = [1 if prediction >= punto_corte.thresholds.values[0] else 0\n",
    "                      for prediction in prediction_scores[:,1]]"
   ]
  },
  {
   "cell_type": "markdown",
   "metadata": {},
   "source": [
    "Reference\n",
    "\n",
    "sklearn.metrics.confusion_matrix\n",
    "\n",
    "Thus in binary classification, the count of true negatives is C00, false negatives is C10, true positives is C11 and false positives is C01.\n",
    "\n",
    "Recall = TP / (TP + FN) = TP / P = TPR Precision = TP / (TP + FP) = TP / PP"
   ]
  },
  {
   "cell_type": "code",
   "execution_count": 2170,
   "metadata": {},
   "outputs": [
    {
     "data": {
      "text/plain": [
       "array([[5577, 5567],\n",
       "       [ 626, 1872]], dtype=int64)"
      ]
     },
     "execution_count": 2170,
     "metadata": {},
     "output_type": "execute_result"
    }
   ],
   "source": [
    "confusion_matrix(y_test, labels_punto_corte)"
   ]
  },
  {
   "cell_type": "markdown",
   "metadata": {},
   "source": [
    "Confusion Matrix 1122 = TN (C0,0), 10022 = FP (C0,1) 69 = FN (C1,0), 2429 = TP (C1,1)"
   ]
  },
  {
   "cell_type": "code",
   "execution_count": 2171,
   "metadata": {},
   "outputs": [
    {
     "data": {
      "text/plain": [
       "(5577, 5567, 626, 1872)"
      ]
     },
     "execution_count": 2171,
     "metadata": {},
     "output_type": "execute_result"
    }
   ],
   "source": [
    "tn, fp, fn, tp = confusion_matrix(y_test, labels_punto_corte).ravel()\n",
    "(tn, fp, fn, tp)\n"
   ]
  },
  {
   "cell_type": "markdown",
   "metadata": {},
   "source": [
    "### Nuevo modelo de regresión logistica con el punto de corte establecido por nosotros"
   ]
  },
  {
   "cell_type": "code",
   "execution_count": 2181,
   "metadata": {},
   "outputs": [
    {
     "data": {
      "text/plain": [
       "0.1519180709643261"
      ]
     },
     "execution_count": 2181,
     "metadata": {},
     "output_type": "execute_result"
    }
   ],
   "source": [
    "punto_corte.thresholds.values[0]"
   ]
  },
  {
   "cell_type": "code",
   "execution_count": 2182,
   "metadata": {},
   "outputs": [
    {
     "data": {
      "text/plain": [
       "array([[5579, 5565],\n",
       "       [ 626, 1872]], dtype=int64)"
      ]
     },
     "execution_count": 2182,
     "metadata": {},
     "output_type": "execute_result"
    }
   ],
   "source": [
    "threshold_new = punto_corte.thresholds.values[0]\n",
    "\n",
    "y_pred = (model_log_reg.predict_proba(x_test)[:, 1] > threshold_new).astype('float')\n",
    "confusion_matrix(y_test, y_pred)"
   ]
  },
  {
   "cell_type": "code",
   "execution_count": 2185,
   "metadata": {},
   "outputs": [
    {
     "name": "stdout",
     "output_type": "stream",
     "text": [
      "accuracy:   0.819\n",
      "              precision    recall  f1-score   support\n",
      "\n",
      "           0       0.90      0.50      0.64     11144\n",
      "           1       0.25      0.75      0.38      2498\n",
      "\n",
      "    accuracy                           0.55     13642\n",
      "   macro avg       0.58      0.63      0.51     13642\n",
      "weighted avg       0.78      0.55      0.59     13642\n",
      "\n"
     ]
    }
   ],
   "source": [
    "from sklearn.metrics import classification_report, accuracy_score, confusion_matrix\n",
    "\n",
    "score_new = accuracy_score(y_test, y_pred)\n",
    "print(\"accuracy:   %0.3f\" % score)\n",
    "report_new = classification_report(y_test,y_pred)\n",
    "print(report_new)"
   ]
  },
  {
   "cell_type": "markdown",
   "metadata": {},
   "source": [
    "Se ejecutaron varios proceso con distintos umbrables de fpr, es decir, se probaron los siguientes umbrales:\n",
    "\n",
    "* (df_metrics.fpr < 0.3) -> Recall (0) = 0.70, disminución de los FN en 47.01%\n",
    "* (df_metrics.fpr < 0.5) -> Recall (0) = 0.50, disminución de los FN en 26.37%\n",
    "* (df_metrics.fpr < 0.7) -> Recall (0) = 0.30, disminución de los FN en 12.37%\n",
    "* (df_metrics.fpr < 0.9) -> Recall (0) = 0.10, disminución de los FN en 2.91%\n",
    "\n",
    "A mi consideración, creo que dejar el umbral de \"df_metrics.fpr < 0.5\" es el mejor, ya que caen hasta la cuarta parte (26%) el número de Falso Negativos respecto del primer modelo. Es decir, no bajamos todos, pero si dejamos de predecir de forma incorrecta muchos.  "
   ]
  },
  {
   "cell_type": "markdown",
   "metadata": {},
   "source": [
    "# !Hasta aqui"
   ]
  },
  {
   "cell_type": "markdown",
   "metadata": {},
   "source": [
    "#### Modelo experimentando eliminando diferentes variables"
   ]
  },
  {
   "cell_type": "code",
   "execution_count": null,
   "metadata": {},
   "outputs": [],
   "source": [
    "sub_set =[]\n",
    "sub_set = [c for c in df_chi_q if ('atraso_15' not in c)]\n",
    "sub_set = [c for c in sub_set if ('mes' not in c)]\n",
    "#sub_set = [c for c in sub_set if ('dia' not in c)]\n",
    "#sub_set = [c for c in sub_set if ('opera' not in c)]\n",
    "#sub_set = [c for c in sub_set if ('dianom' not in c)]\n",
    "#sub_set = [c for c in sub_set if ('tipovuelo' not in c)]\n",
    "#sub_set = [c for c in sub_set if ('siglades' not in c)]\n",
    "#sub_set = [c for c in sub_set if ('temporada_alta' not in c)]\n",
    "#sub_set = [c for c in sub_set if ('periodo_dia' not in c)]\n",
    "\n",
    "print('sub_set:',len(sub_set))\n",
    "X_1 = df_chi_q[sub_set]\n",
    "var_cat = X_1.columns\n",
    "var_cat = var_cat.to_list()\n",
    "#type(var_cat)\n",
    "#X = X.df_chi_q('alguna_variable', axis=1)\n",
    "y = df['atraso_15']\n",
    "\n",
    "x_train, x_test, y_train, y_test = preprocess_split(X_1, y, #scale_x=True, \n",
    "                                                    test_size=0.2,\n",
    "                                                    cat_variables = var_cat, \n",
    "                                                    random_state=2453)\n",
    "#print(X.columns)\n",
    "log_regression(x_train, x_test, y_train, y_test)\n",
    "\n",
    "#Accuracy:  0.8182817768655622 -> Eliminando variable día\n",
    "#Accuracy:  0.8177686556223428 -> Eliminando variable opera\n",
    "#Accuracy:  0.8175487465181058 -> Eliminando variable día y opera\n",
    "#Accuracy:  0.8197478375604753 -> Eliminando variable mes\n",
    "#Accuracy:  0.8196745345257294 -> Eliminando variable mes y tipo_vuelo\n",
    "\n",
    "print('Shape dataset X_1:',X_1.shape[1])\n",
    "print('Shape list var_cat',len(var_cat))\n"
   ]
  },
  {
   "cell_type": "markdown",
   "metadata": {},
   "source": [
    "#### Correlacion Biserial Puntual"
   ]
  },
  {
   "cell_type": "code",
   "execution_count": null,
   "metadata": {},
   "outputs": [],
   "source": [
    "#from scipy.stats import pointbiserialr\n",
    "\n",
    "#for c in ['mes_2','mes_3','mes_4','mes_5','mes_6','mes_7','mes_8','mes_9','mes_10','mes_11','mes_12']:\n",
    "#  pbc = pointbiserialr(X[c], df['atraso_15'])\n",
    "#  print(c, ',atraso_15')\n",
    "#  print('Correlation: ', pbc[0])\n",
    "#  print('P-value: ', pbc[1])\n",
    "#  print()"
   ]
  },
  {
   "cell_type": "markdown",
   "metadata": {},
   "source": [
    "#### Feature Importance"
   ]
  },
  {
   "cell_type": "code",
   "execution_count": 1883,
   "metadata": {},
   "outputs": [
    {
     "data": {
      "text/html": [
       "<div>\n",
       "<style scoped>\n",
       "    .dataframe tbody tr th:only-of-type {\n",
       "        vertical-align: middle;\n",
       "    }\n",
       "\n",
       "    .dataframe tbody tr th {\n",
       "        vertical-align: top;\n",
       "    }\n",
       "\n",
       "    .dataframe thead th {\n",
       "        text-align: right;\n",
       "    }\n",
       "</style>\n",
       "<table border=\"1\" class=\"dataframe\">\n",
       "  <thead>\n",
       "    <tr style=\"text-align: right;\">\n",
       "      <th></th>\n",
       "      <th>variable</th>\n",
       "      <th>importance</th>\n",
       "    </tr>\n",
       "  </thead>\n",
       "  <tbody>\n",
       "    <tr>\n",
       "      <th>1</th>\n",
       "      <td>mes_7</td>\n",
       "      <td>0.081812</td>\n",
       "    </tr>\n",
       "    <tr>\n",
       "      <th>0</th>\n",
       "      <td>opera_Latin American Wings</td>\n",
       "      <td>0.075094</td>\n",
       "    </tr>\n",
       "    <tr>\n",
       "      <th>2</th>\n",
       "      <td>tipovuelo_N</td>\n",
       "      <td>0.063195</td>\n",
       "    </tr>\n",
       "    <tr>\n",
       "      <th>37</th>\n",
       "      <td>periodo_dia_tarde</td>\n",
       "      <td>0.049420</td>\n",
       "    </tr>\n",
       "    <tr>\n",
       "      <th>44</th>\n",
       "      <td>periodo_dia_noche</td>\n",
       "      <td>0.045164</td>\n",
       "    </tr>\n",
       "    <tr>\n",
       "      <th>6</th>\n",
       "      <td>mes_12</td>\n",
       "      <td>0.040561</td>\n",
       "    </tr>\n",
       "    <tr>\n",
       "      <th>30</th>\n",
       "      <td>temporada_alta_1</td>\n",
       "      <td>0.035698</td>\n",
       "    </tr>\n",
       "    <tr>\n",
       "      <th>3</th>\n",
       "      <td>opera_Air Canada</td>\n",
       "      <td>0.031125</td>\n",
       "    </tr>\n",
       "    <tr>\n",
       "      <th>22</th>\n",
       "      <td>mes_10</td>\n",
       "      <td>0.027612</td>\n",
       "    </tr>\n",
       "    <tr>\n",
       "      <th>14</th>\n",
       "      <td>dianom_Viernes</td>\n",
       "      <td>0.027527</td>\n",
       "    </tr>\n",
       "    <tr>\n",
       "      <th>10</th>\n",
       "      <td>mes_3</td>\n",
       "      <td>0.024568</td>\n",
       "    </tr>\n",
       "    <tr>\n",
       "      <th>54</th>\n",
       "      <td>dianom_Martes</td>\n",
       "      <td>0.023991</td>\n",
       "    </tr>\n",
       "    <tr>\n",
       "      <th>4</th>\n",
       "      <td>siglades_Buenos Aires</td>\n",
       "      <td>0.023652</td>\n",
       "    </tr>\n",
       "    <tr>\n",
       "      <th>57</th>\n",
       "      <td>dianom_Jueves</td>\n",
       "      <td>0.023645</td>\n",
       "    </tr>\n",
       "    <tr>\n",
       "      <th>50</th>\n",
       "      <td>dianom_Lunes</td>\n",
       "      <td>0.023429</td>\n",
       "    </tr>\n",
       "    <tr>\n",
       "      <th>11</th>\n",
       "      <td>opera_Gol Trans</td>\n",
       "      <td>0.022897</td>\n",
       "    </tr>\n",
       "    <tr>\n",
       "      <th>26</th>\n",
       "      <td>dia_15</td>\n",
       "      <td>0.021712</td>\n",
       "    </tr>\n",
       "    <tr>\n",
       "      <th>12</th>\n",
       "      <td>mes_4</td>\n",
       "      <td>0.021695</td>\n",
       "    </tr>\n",
       "    <tr>\n",
       "      <th>46</th>\n",
       "      <td>dia_10</td>\n",
       "      <td>0.018592</td>\n",
       "    </tr>\n",
       "    <tr>\n",
       "      <th>43</th>\n",
       "      <td>dianom_Sabado</td>\n",
       "      <td>0.016787</td>\n",
       "    </tr>\n",
       "    <tr>\n",
       "      <th>8</th>\n",
       "      <td>opera_Copa Air</td>\n",
       "      <td>0.016707</td>\n",
       "    </tr>\n",
       "    <tr>\n",
       "      <th>9</th>\n",
       "      <td>siglades_Ciudad de Panama</td>\n",
       "      <td>0.016578</td>\n",
       "    </tr>\n",
       "    <tr>\n",
       "      <th>20</th>\n",
       "      <td>siglades_Lima</td>\n",
       "      <td>0.015533</td>\n",
       "    </tr>\n",
       "    <tr>\n",
       "      <th>59</th>\n",
       "      <td>dianom_Miercoles</td>\n",
       "      <td>0.015118</td>\n",
       "    </tr>\n",
       "    <tr>\n",
       "      <th>45</th>\n",
       "      <td>mes_5</td>\n",
       "      <td>0.013879</td>\n",
       "    </tr>\n",
       "    <tr>\n",
       "      <th>13</th>\n",
       "      <td>siglades_Calama</td>\n",
       "      <td>0.012576</td>\n",
       "    </tr>\n",
       "    <tr>\n",
       "      <th>16</th>\n",
       "      <td>siglades_Sao Paulo</td>\n",
       "      <td>0.012537</td>\n",
       "    </tr>\n",
       "    <tr>\n",
       "      <th>38</th>\n",
       "      <td>dia_11</td>\n",
       "      <td>0.012496</td>\n",
       "    </tr>\n",
       "    <tr>\n",
       "      <th>15</th>\n",
       "      <td>siglades_Cordoba</td>\n",
       "      <td>0.012019</td>\n",
       "    </tr>\n",
       "    <tr>\n",
       "      <th>28</th>\n",
       "      <td>mes_2</td>\n",
       "      <td>0.011561</td>\n",
       "    </tr>\n",
       "    <tr>\n",
       "      <th>27</th>\n",
       "      <td>opera_Avianca</td>\n",
       "      <td>0.011214</td>\n",
       "    </tr>\n",
       "    <tr>\n",
       "      <th>17</th>\n",
       "      <td>siglades_Rio de Janeiro</td>\n",
       "      <td>0.011172</td>\n",
       "    </tr>\n",
       "    <tr>\n",
       "      <th>5</th>\n",
       "      <td>siglades_Sydney</td>\n",
       "      <td>0.010531</td>\n",
       "    </tr>\n",
       "    <tr>\n",
       "      <th>18</th>\n",
       "      <td>siglades_Auckland N.Z.</td>\n",
       "      <td>0.009841</td>\n",
       "    </tr>\n",
       "    <tr>\n",
       "      <th>19</th>\n",
       "      <td>siglades_Mendoza</td>\n",
       "      <td>0.009808</td>\n",
       "    </tr>\n",
       "    <tr>\n",
       "      <th>7</th>\n",
       "      <td>opera_Qantas Airways</td>\n",
       "      <td>0.009647</td>\n",
       "    </tr>\n",
       "    <tr>\n",
       "      <th>21</th>\n",
       "      <td>opera_American Airlines</td>\n",
       "      <td>0.009572</td>\n",
       "    </tr>\n",
       "    <tr>\n",
       "      <th>24</th>\n",
       "      <td>siglades_Bogota</td>\n",
       "      <td>0.008600</td>\n",
       "    </tr>\n",
       "    <tr>\n",
       "      <th>49</th>\n",
       "      <td>siglades_Concepcion</td>\n",
       "      <td>0.008589</td>\n",
       "    </tr>\n",
       "    <tr>\n",
       "      <th>58</th>\n",
       "      <td>siglades_Punta Arenas</td>\n",
       "      <td>0.006781</td>\n",
       "    </tr>\n",
       "    <tr>\n",
       "      <th>25</th>\n",
       "      <td>opera_Aeromexico</td>\n",
       "      <td>0.006279</td>\n",
       "    </tr>\n",
       "    <tr>\n",
       "      <th>33</th>\n",
       "      <td>siglades_Arica</td>\n",
       "      <td>0.005926</td>\n",
       "    </tr>\n",
       "    <tr>\n",
       "      <th>56</th>\n",
       "      <td>siglades_Temuco</td>\n",
       "      <td>0.005230</td>\n",
       "    </tr>\n",
       "    <tr>\n",
       "      <th>34</th>\n",
       "      <td>siglades_Ciudad de Mexico</td>\n",
       "      <td>0.004421</td>\n",
       "    </tr>\n",
       "    <tr>\n",
       "      <th>42</th>\n",
       "      <td>siglades_Copiapo</td>\n",
       "      <td>0.004338</td>\n",
       "    </tr>\n",
       "    <tr>\n",
       "      <th>23</th>\n",
       "      <td>opera_Plus Ultra Lineas Aereas</td>\n",
       "      <td>0.003897</td>\n",
       "    </tr>\n",
       "    <tr>\n",
       "      <th>40</th>\n",
       "      <td>siglades_Toronto</td>\n",
       "      <td>0.003491</td>\n",
       "    </tr>\n",
       "    <tr>\n",
       "      <th>29</th>\n",
       "      <td>siglades_Rosario</td>\n",
       "      <td>0.003305</td>\n",
       "    </tr>\n",
       "    <tr>\n",
       "      <th>52</th>\n",
       "      <td>opera_Iberia</td>\n",
       "      <td>0.003212</td>\n",
       "    </tr>\n",
       "    <tr>\n",
       "      <th>31</th>\n",
       "      <td>opera_United Airlines</td>\n",
       "      <td>0.003118</td>\n",
       "    </tr>\n",
       "    <tr>\n",
       "      <th>48</th>\n",
       "      <td>siglades_Paris</td>\n",
       "      <td>0.003100</td>\n",
       "    </tr>\n",
       "    <tr>\n",
       "      <th>47</th>\n",
       "      <td>opera_Air France</td>\n",
       "      <td>0.003068</td>\n",
       "    </tr>\n",
       "    <tr>\n",
       "      <th>32</th>\n",
       "      <td>siglades_Houston</td>\n",
       "      <td>0.003028</td>\n",
       "    </tr>\n",
       "    <tr>\n",
       "      <th>35</th>\n",
       "      <td>opera_Delta Air</td>\n",
       "      <td>0.003011</td>\n",
       "    </tr>\n",
       "    <tr>\n",
       "      <th>53</th>\n",
       "      <td>opera_K.L.M.</td>\n",
       "      <td>0.002902</td>\n",
       "    </tr>\n",
       "    <tr>\n",
       "      <th>36</th>\n",
       "      <td>siglades_Atlanta</td>\n",
       "      <td>0.002841</td>\n",
       "    </tr>\n",
       "    <tr>\n",
       "      <th>39</th>\n",
       "      <td>siglades_Melbourne</td>\n",
       "      <td>0.002400</td>\n",
       "    </tr>\n",
       "    <tr>\n",
       "      <th>41</th>\n",
       "      <td>siglades_Dallas</td>\n",
       "      <td>0.001652</td>\n",
       "    </tr>\n",
       "    <tr>\n",
       "      <th>55</th>\n",
       "      <td>siglades_Asuncion</td>\n",
       "      <td>0.001181</td>\n",
       "    </tr>\n",
       "    <tr>\n",
       "      <th>51</th>\n",
       "      <td>siglades_Castro (Chiloe)</td>\n",
       "      <td>0.000668</td>\n",
       "    </tr>\n",
       "  </tbody>\n",
       "</table>\n",
       "</div>"
      ],
      "text/plain": [
       "                          variable  importance\n",
       "1                            mes_7    0.081812\n",
       "0       opera_Latin American Wings    0.075094\n",
       "2                      tipovuelo_N    0.063195\n",
       "37               periodo_dia_tarde    0.049420\n",
       "44               periodo_dia_noche    0.045164\n",
       "6                           mes_12    0.040561\n",
       "30                temporada_alta_1    0.035698\n",
       "3                 opera_Air Canada    0.031125\n",
       "22                          mes_10    0.027612\n",
       "14                  dianom_Viernes    0.027527\n",
       "10                           mes_3    0.024568\n",
       "54                   dianom_Martes    0.023991\n",
       "4            siglades_Buenos Aires    0.023652\n",
       "57                   dianom_Jueves    0.023645\n",
       "50                    dianom_Lunes    0.023429\n",
       "11                 opera_Gol Trans    0.022897\n",
       "26                          dia_15    0.021712\n",
       "12                           mes_4    0.021695\n",
       "46                          dia_10    0.018592\n",
       "43                   dianom_Sabado    0.016787\n",
       "8                   opera_Copa Air    0.016707\n",
       "9        siglades_Ciudad de Panama    0.016578\n",
       "20                   siglades_Lima    0.015533\n",
       "59                dianom_Miercoles    0.015118\n",
       "45                           mes_5    0.013879\n",
       "13                 siglades_Calama    0.012576\n",
       "16              siglades_Sao Paulo    0.012537\n",
       "38                          dia_11    0.012496\n",
       "15                siglades_Cordoba    0.012019\n",
       "28                           mes_2    0.011561\n",
       "27                   opera_Avianca    0.011214\n",
       "17         siglades_Rio de Janeiro    0.011172\n",
       "5                  siglades_Sydney    0.010531\n",
       "18          siglades_Auckland N.Z.    0.009841\n",
       "19                siglades_Mendoza    0.009808\n",
       "7             opera_Qantas Airways    0.009647\n",
       "21         opera_American Airlines    0.009572\n",
       "24                 siglades_Bogota    0.008600\n",
       "49             siglades_Concepcion    0.008589\n",
       "58           siglades_Punta Arenas    0.006781\n",
       "25                opera_Aeromexico    0.006279\n",
       "33                  siglades_Arica    0.005926\n",
       "56                 siglades_Temuco    0.005230\n",
       "34       siglades_Ciudad de Mexico    0.004421\n",
       "42                siglades_Copiapo    0.004338\n",
       "23  opera_Plus Ultra Lineas Aereas    0.003897\n",
       "40                siglades_Toronto    0.003491\n",
       "29                siglades_Rosario    0.003305\n",
       "52                    opera_Iberia    0.003212\n",
       "31           opera_United Airlines    0.003118\n",
       "48                  siglades_Paris    0.003100\n",
       "47                opera_Air France    0.003068\n",
       "32                siglades_Houston    0.003028\n",
       "35                 opera_Delta Air    0.003011\n",
       "53                    opera_K.L.M.    0.002902\n",
       "36                siglades_Atlanta    0.002841\n",
       "39              siglades_Melbourne    0.002400\n",
       "41                 siglades_Dallas    0.001652\n",
       "55               siglades_Asuncion    0.001181\n",
       "51        siglades_Castro (Chiloe)    0.000668"
      ]
     },
     "execution_count": 1883,
     "metadata": {},
     "output_type": "execute_result"
    }
   ],
   "source": [
    "# random forest for feature importance on a classification problem\n",
    "from sklearn.ensemble import RandomForestClassifier\n",
    "\n",
    "# Modelo con las variables extraidas de la prueba chi-cuadrada\n",
    "\n",
    "cat_variables =  ['opera_Latin American Wings','mes_7','tipovuelo_N','opera_Air Canada','siglades_Buenos Aires','siglades_Sydney','mes_12',\n",
    "'opera_Qantas Airways','opera_Copa Air','siglades_Ciudad de Panama','mes_3','opera_Gol Trans','mes_4','siglades_Calama','dianom_Viernes',\n",
    "'siglades_Cordoba','siglades_Sao Paulo','siglades_Rio de Janeiro','siglades_Auckland N.Z.','siglades_Mendoza','siglades_Lima',\n",
    "'opera_American Airlines','mes_10','opera_Plus Ultra Lineas Aereas','siglades_Bogota','opera_Aeromexico','dia_15','opera_Avianca',\n",
    "'mes_2','siglades_Rosario','temporada_alta_1','opera_United Airlines','siglades_Houston','siglades_Arica','siglades_Ciudad de Mexico',\n",
    "'opera_Delta Air','siglades_Atlanta','periodo_dia_tarde','dia_11','siglades_Melbourne','siglades_Toronto','siglades_Dallas','siglades_Copiapo',\n",
    "'dianom_Sabado','periodo_dia_noche','mes_5','dia_10','opera_Air France','siglades_Paris','siglades_Concepcion','dianom_Lunes','siglades_Castro (Chiloe)',\n",
    "'opera_Iberia','opera_K.L.M.','dianom_Martes','siglades_Asuncion','siglades_Temuco','dianom_Jueves','siglades_Punta Arenas','dianom_Miercoles']\n",
    "\n",
    "df_chi_q = df[['atraso_15','dia','mes','dianom','tipovuelo','opera','siglades','temporada_alta','periodo_dia']]\n",
    "df_chi_q = pd.get_dummies(df_chi_q, columns=['dia','mes','dianom','tipovuelo','opera','siglades','temporada_alta','periodo_dia'], drop_first=True)\n",
    "#df_chi_q.columns\n",
    "\n",
    "#X = df_chi_q.loc[:, df_chi_q.columns!='atraso_15']\n",
    "X = df_chi_q.loc[:,['opera_Latin American Wings','mes_7','tipovuelo_N','opera_Air Canada','siglades_Buenos Aires','siglades_Sydney','mes_12',\n",
    "'opera_Qantas Airways','opera_Copa Air','siglades_Ciudad de Panama','mes_3','opera_Gol Trans','mes_4','siglades_Calama','dianom_Viernes',\n",
    "'siglades_Cordoba','siglades_Sao Paulo','siglades_Rio de Janeiro','siglades_Auckland N.Z.','siglades_Mendoza','siglades_Lima',\n",
    "'opera_American Airlines','mes_10','opera_Plus Ultra Lineas Aereas','siglades_Bogota','opera_Aeromexico','dia_15','opera_Avianca',\n",
    "'mes_2','siglades_Rosario','temporada_alta_1','opera_United Airlines','siglades_Houston','siglades_Arica','siglades_Ciudad de Mexico',\n",
    "'opera_Delta Air','siglades_Atlanta','periodo_dia_tarde','dia_11','siglades_Melbourne','siglades_Toronto','siglades_Dallas','siglades_Copiapo',\n",
    "'dianom_Sabado','periodo_dia_noche','mes_5','dia_10','opera_Air France','siglades_Paris','siglades_Concepcion','dianom_Lunes','siglades_Castro (Chiloe)',\n",
    "'opera_Iberia','opera_K.L.M.','dianom_Martes','siglades_Asuncion','siglades_Temuco','dianom_Jueves','siglades_Punta Arenas','dianom_Miercoles']]\n",
    "\n",
    "y = df['atraso_15']\n",
    "\n",
    "x_train, x_test, y_train, y_test = preprocess_split(X, y, #scale_x=True, \n",
    "                                                    random_state=5874,\n",
    "                                                    cat_variables =cat_variables, \n",
    "                                                    test_size=0.2)\n",
    "# define the model\n",
    "model = RandomForestClassifier(n_estimators=1000,criterion='gini',max_depth=None,min_samples_split=5,min_samples_leaf=10,random_state=28347)\n",
    "\n",
    "# fit the model\n",
    "model.fit(x_train, y_train)\n",
    "# get importance\n",
    "importance = model.feature_importances_\n",
    "df_importance = pd.DataFrame.from_dict({'variable':X.columns,'importance':importance})\n",
    "df_importance = df_importance.sort_values(['importance'],ascending = False)\n",
    "df_importance.to_csv('C:/Archivos Globant/Globant/Challenge/Challenge - Data Scientist -20220817/df_importance.csv', sep=',', encoding='utf-8')\n",
    "df_importance"
   ]
  },
  {
   "cell_type": "code",
   "execution_count": null,
   "metadata": {},
   "outputs": [],
   "source": [
    "from sklearn.metrics import mean_squared_error, mean_absolute_error\n",
    "\n",
    "predictions = model.predict(x_test)\n",
    "# RMSE\n",
    "mean_squared_error(y_test, predictions,squared=False)"
   ]
  },
  {
   "cell_type": "code",
   "execution_count": null,
   "metadata": {},
   "outputs": [],
   "source": [
    "# MAE\n",
    "mean_absolute_error(y_test, predictions)"
   ]
  },
  {
   "cell_type": "code",
   "execution_count": null,
   "metadata": {},
   "outputs": [],
   "source": [
    "# Error de test del modelo\n",
    "#-------------------------------------------------------------------------------\n",
    "#import matplotlib.pyplot as plt\n",
    "\n",
    "from sklearn.metrics import accuracy_score, roc_auc_score, roc_curve, confusion_matrix\n",
    "\n",
    "#%matplotlib inline\n",
    "\n",
    "predictions = model.predict(x_test)\n",
    "\n",
    "print(\"Matriz de confusión\")\n",
    "print(\"-------------------\")\n",
    "confusion_matrix(y_test,predictions)"
   ]
  },
  {
   "cell_type": "code",
   "execution_count": null,
   "metadata": {},
   "outputs": [],
   "source": [
    "#x_train, x_test, y_train, y_test \n",
    "predictions = model.predict(x_test)\n",
    "prediction_scores = model.predict_proba(x_test)\n",
    "accuracy = accuracy_score(y_true= y_test,y_pred= predictions)\n",
    "print(f\"El accuracy de test es: {100 * accuracy} %\")"
   ]
  },
  {
   "cell_type": "code",
   "execution_count": null,
   "metadata": {},
   "outputs": [],
   "source": [
    "# Area bajo la curva (AUC)\n",
    "roc_auc_score(y_test, prediction_scores[:,1])"
   ]
  },
  {
   "cell_type": "markdown",
   "metadata": {},
   "source": [
    "* Grafica el ROC y obtén el AUC"
   ]
  },
  {
   "cell_type": "code",
   "execution_count": null,
   "metadata": {},
   "outputs": [],
   "source": [
    "fpr, tpr, thresholds = roc_curve(y_test.values, prediction_scores[:,1], pos_label=1)\n"
   ]
  },
  {
   "cell_type": "code",
   "execution_count": null,
   "metadata": {},
   "outputs": [],
   "source": [
    "fpr, tpr, thresholds = roc_curve(y_test.values, prediction_scores[:,1], pos_label=1)\n",
    "\n",
    "plt.clf()\n",
    "plt.plot([0, 1], [0, 1], 'k--', c=\"red\")\n",
    "plt.plot(fpr, tpr)\n",
    "plt.title(\"ROC curve & AUC: \" + str(roc_auc_score(y_test, prediction_scores[:,1]).round(4)))\n",
    "plt.xlabel(\"fpr\")\n",
    "plt.ylabel(\"tpr\")\n",
    "plt.show()"
   ]
  },
  {
   "cell_type": "markdown",
   "metadata": {},
   "source": [
    "### Red Neuronal Artificial"
   ]
  },
  {
   "cell_type": "code",
   "execution_count": 1867,
   "metadata": {},
   "outputs": [
    {
     "data": {
      "text/plain": [
       "0        0\n",
       "1        0\n",
       "2        0\n",
       "3        0\n",
       "4        0\n",
       "        ..\n",
       "68201    1\n",
       "68202    1\n",
       "68203    1\n",
       "68204    0\n",
       "68205    0\n",
       "Name: atraso_15, Length: 68206, dtype: int64"
      ]
     },
     "execution_count": 1867,
     "metadata": {},
     "output_type": "execute_result"
    }
   ],
   "source": [
    "df['atraso_15']"
   ]
  },
  {
   "cell_type": "code",
   "execution_count": 1868,
   "metadata": {},
   "outputs": [
    {
     "data": {
      "text/plain": [
       "0        0\n",
       "1        0\n",
       "2        0\n",
       "3        0\n",
       "4        0\n",
       "        ..\n",
       "68201    1\n",
       "68202    1\n",
       "68203    1\n",
       "68204    0\n",
       "68205    0\n",
       "Name: atraso_15, Length: 68206, dtype: int64"
      ]
     },
     "execution_count": 1868,
     "metadata": {},
     "output_type": "execute_result"
    }
   ],
   "source": [
    "from tensorflow.keras.utils import to_categorical\n",
    "y = df['atraso_15']\n",
    "#y = to_categorical(y)\n",
    "#y = np.delete(y, 0, axis=1)\n",
    "#y = y.reshape((len(y), 1))\n",
    "y"
   ]
  },
  {
   "cell_type": "code",
   "execution_count": 1869,
   "metadata": {},
   "outputs": [
    {
     "name": "stdout",
     "output_type": "stream",
     "text": [
      "<class 'pandas.core.series.Series'>\n",
      "RangeIndex: 68206 entries, 0 to 68205\n",
      "Series name: dif_min\n",
      "Non-Null Count  Dtype  \n",
      "--------------  -----  \n",
      "68206 non-null  float64\n",
      "dtypes: float64(1)\n",
      "memory usage: 533.0 KB\n"
     ]
    }
   ],
   "source": [
    "df.dif_min.info()"
   ]
  },
  {
   "cell_type": "code",
   "execution_count": 1876,
   "metadata": {},
   "outputs": [
    {
     "name": "stdout",
     "output_type": "stream",
     "text": [
      "Shape X_completa: 21\n"
     ]
    }
   ],
   "source": [
    "df_chi_q = df[['atraso_15','dia','mes','dianom','tipovuelo','opera','siglades','temporada_alta','periodo_dia']]\n",
    "df_chi_q = pd.get_dummies(df_chi_q, columns=['dia','mes','dianom','tipovuelo','opera','siglades','temporada_alta','periodo_dia'], drop_first=True)\n",
    "\n",
    "X_completa = df_chi_q.loc[:,['opera_Latin American Wings','mes_7','tipovuelo_N','opera_Air Canada','siglades_Buenos Aires','siglades_Sydney','mes_12',\n",
    "'opera_Qantas Airways','opera_Copa Air','siglades_Ciudad de Panama','mes_3','opera_Gol Trans','mes_4','siglades_Calama','dianom_Viernes',\n",
    "'siglades_Cordoba','siglades_Sao Paulo','siglades_Rio de Janeiro','siglades_Auckland N.Z.','siglades_Mendoza','siglades_Lima',\n",
    "#'opera_American Airlines','mes_10','opera_Plus Ultra Lineas Aereas','siglades_Bogota','opera_Aeromexico','dia_15','opera_Avianca',\n",
    "#'mes_2','siglades_Rosario','temporada_alta_1','opera_United Airlines','siglades_Houston','siglades_Arica','siglades_Ciudad de Mexico',\n",
    "#'opera_Delta Air','siglades_Atlanta','periodo_dia_tarde','dia_11','siglades_Melbourne','siglades_Toronto','siglades_Dallas','siglades_Copiapo',\n",
    "#'dianom_Sabado','periodo_dia_noche','mes_5','dia_10','opera_Air France','siglades_Paris','siglades_Concepcion','dianom_Lunes','siglades_Castro (Chiloe)',\n",
    "#'opera_Iberia','opera_K.L.M.','dianom_Martes','siglades_Asuncion','siglades_Temuco','dianom_Jueves','siglades_Punta Arenas','dianom_Miercoles',\n",
    "#'dia_7','opera_Grupo LATAM','dia_2','dia_27','siglades_Ushuia','opera_Alitalia','siglades_Roma','siglades_Quito','siglades_La Serena','siglades_Balmaceda',\n",
    "#'siglades_Punta Cana','siglades_Puerto Montt','dia_8','dia_16','dia_30','dia_31','mes_6','mes_11','mes_9','mes_8','opera_Sky Airline','siglades_Iquique',\n",
    "#'siglades_Puerto Natales','siglades_Los Angeles','siglades_Puerto Stanley','siglades_Cochabamba','dia_14','siglades_Valdivia',\n",
    "#'dia_29'\n",
    "]]\n",
    "\n",
    "#X_completa = df_chi_q.loc[:,['opera_Qantas Airways', 'siglades_Ciudad de Panama', 'opera_Avianca', 'siglades_Houston', 'siglades_Ciudad de Mexico', 'siglades_Atlanta', 'siglades_Toronto', 'siglades_Dallas', 'siglades_Paris']]\n",
    "\n",
    "#X_completa = df_chi_q.loc[:,]\n",
    "#X_completa = X_completa.drop(['atraso_15'], axis=1)\n",
    "#X_completa\n",
    "\n",
    "#from tensorflow.keras.utils import to_categorical\n",
    "y = df['atraso_15']\n",
    "y\n",
    "\n",
    "#print(y.info())\n",
    "print('Shape X_completa:',X_completa.shape[1])"
   ]
  },
  {
   "cell_type": "code",
   "execution_count": null,
   "metadata": {},
   "outputs": [],
   "source": [
    "#feature_correlation = X_completa.loc[:, X_completa.columns != 'charged_off'].corr()\n",
    "#feature_correlation\n",
    "#feature_correlation.to_csv('feature_correlation.csv', sep=',', encoding='utf-8')\n"
   ]
  },
  {
   "cell_type": "code",
   "execution_count": 1877,
   "metadata": {},
   "outputs": [
    {
     "data": {
      "text/plain": [
       "['opera_Qantas Airways', 'siglades_Ciudad de Panama']"
      ]
     },
     "execution_count": 1877,
     "metadata": {},
     "output_type": "execute_result"
    }
   ],
   "source": [
    "feature_correlation = X_completa.loc[:, X_completa.columns != 'charged_off'].corr()\n",
    "feature_correlation\n",
    "\n",
    "# Solo usaremos la matriz triangular\n",
    "# Recuerda que la matriz de correlacion es simetrica\n",
    "upper = feature_correlation.where(np.triu(np.ones(\n",
    "    feature_correlation.shape), k=1).astype(np.bool))\n",
    "\n",
    "# Encuentra variables con correlacion mayor a threshold\n",
    "to_drop = [column for column in upper.columns if any(upper[column] > 0.5)]\n",
    "\n",
    "to_drop\n",
    "\n",
    "#to_drop_v1 = ['siglades_Paris','siglades_Houston','opera_Qantas Airways','siglades_Ciudad de Mexico','siglades_Toronto','siglades_Dallas','opera_Avianca']\n",
    "#to_drop_v1"
   ]
  },
  {
   "cell_type": "code",
   "execution_count": null,
   "metadata": {},
   "outputs": [],
   "source": [
    "# Eliminar columnas \n",
    "#X_completa.drop(to_drop_v1, axis=1, inplace=True)\n",
    "#print('Shape X_completa:',X_completa.shape[1])"
   ]
  },
  {
   "cell_type": "code",
   "execution_count": 1878,
   "metadata": {},
   "outputs": [
    {
     "name": "stdout",
     "output_type": "stream",
     "text": [
      "21\n"
     ]
    }
   ],
   "source": [
    "import tensorflow as tf\n",
    "import tensorflow.keras as keras\n",
    "from tensorflow.keras.models import Sequential\n",
    "from tensorflow.keras.layers import Dense,Dropout\n",
    "\n",
    "X_train, X_test, y_train, y_test = train_test_split(X_completa, y, test_size = 0.2, random_state = 0)\n",
    "print(X_train.shape[1])"
   ]
  },
  {
   "cell_type": "code",
   "execution_count": 1879,
   "metadata": {},
   "outputs": [
    {
     "data": {
      "text/plain": [
       "0    0.815061\n",
       "1    0.184939\n",
       "Name: atraso_15, dtype: float64"
      ]
     },
     "execution_count": 1879,
     "metadata": {},
     "output_type": "execute_result"
    }
   ],
   "source": [
    "y_train.value_counts(normalize =True)"
   ]
  },
  {
   "cell_type": "code",
   "execution_count": 1880,
   "metadata": {},
   "outputs": [
    {
     "data": {
      "text/html": [
       "<div>\n",
       "<style scoped>\n",
       "    .dataframe tbody tr th:only-of-type {\n",
       "        vertical-align: middle;\n",
       "    }\n",
       "\n",
       "    .dataframe tbody tr th {\n",
       "        vertical-align: top;\n",
       "    }\n",
       "\n",
       "    .dataframe thead th {\n",
       "        text-align: right;\n",
       "    }\n",
       "</style>\n",
       "<table border=\"1\" class=\"dataframe\">\n",
       "  <thead>\n",
       "    <tr style=\"text-align: right;\">\n",
       "      <th></th>\n",
       "      <th>opera_Latin American Wings</th>\n",
       "      <th>mes_7</th>\n",
       "      <th>tipovuelo_N</th>\n",
       "      <th>opera_Air Canada</th>\n",
       "      <th>siglades_Buenos Aires</th>\n",
       "      <th>siglades_Sydney</th>\n",
       "      <th>mes_12</th>\n",
       "      <th>opera_Qantas Airways</th>\n",
       "      <th>opera_Copa Air</th>\n",
       "      <th>siglades_Ciudad de Panama</th>\n",
       "      <th>mes_3</th>\n",
       "      <th>opera_Gol Trans</th>\n",
       "      <th>mes_4</th>\n",
       "      <th>siglades_Calama</th>\n",
       "      <th>dianom_Viernes</th>\n",
       "      <th>siglades_Cordoba</th>\n",
       "      <th>siglades_Sao Paulo</th>\n",
       "      <th>siglades_Rio de Janeiro</th>\n",
       "      <th>siglades_Auckland N.Z.</th>\n",
       "      <th>siglades_Mendoza</th>\n",
       "      <th>siglades_Lima</th>\n",
       "    </tr>\n",
       "  </thead>\n",
       "  <tbody>\n",
       "    <tr>\n",
       "      <th>21733</th>\n",
       "      <td>0</td>\n",
       "      <td>0</td>\n",
       "      <td>0</td>\n",
       "      <td>0</td>\n",
       "      <td>0</td>\n",
       "      <td>0</td>\n",
       "      <td>0</td>\n",
       "      <td>0</td>\n",
       "      <td>0</td>\n",
       "      <td>0</td>\n",
       "      <td>0</td>\n",
       "      <td>0</td>\n",
       "      <td>1</td>\n",
       "      <td>0</td>\n",
       "      <td>0</td>\n",
       "      <td>0</td>\n",
       "      <td>1</td>\n",
       "      <td>0</td>\n",
       "      <td>0</td>\n",
       "      <td>0</td>\n",
       "      <td>0</td>\n",
       "    </tr>\n",
       "    <tr>\n",
       "      <th>30677</th>\n",
       "      <td>0</td>\n",
       "      <td>0</td>\n",
       "      <td>1</td>\n",
       "      <td>0</td>\n",
       "      <td>0</td>\n",
       "      <td>0</td>\n",
       "      <td>0</td>\n",
       "      <td>0</td>\n",
       "      <td>0</td>\n",
       "      <td>0</td>\n",
       "      <td>0</td>\n",
       "      <td>0</td>\n",
       "      <td>0</td>\n",
       "      <td>0</td>\n",
       "      <td>0</td>\n",
       "      <td>0</td>\n",
       "      <td>0</td>\n",
       "      <td>0</td>\n",
       "      <td>0</td>\n",
       "      <td>0</td>\n",
       "      <td>0</td>\n",
       "    </tr>\n",
       "    <tr>\n",
       "      <th>6711</th>\n",
       "      <td>0</td>\n",
       "      <td>0</td>\n",
       "      <td>0</td>\n",
       "      <td>0</td>\n",
       "      <td>0</td>\n",
       "      <td>0</td>\n",
       "      <td>0</td>\n",
       "      <td>0</td>\n",
       "      <td>0</td>\n",
       "      <td>0</td>\n",
       "      <td>0</td>\n",
       "      <td>1</td>\n",
       "      <td>0</td>\n",
       "      <td>0</td>\n",
       "      <td>0</td>\n",
       "      <td>0</td>\n",
       "      <td>1</td>\n",
       "      <td>0</td>\n",
       "      <td>0</td>\n",
       "      <td>0</td>\n",
       "      <td>0</td>\n",
       "    </tr>\n",
       "    <tr>\n",
       "      <th>67547</th>\n",
       "      <td>0</td>\n",
       "      <td>0</td>\n",
       "      <td>0</td>\n",
       "      <td>0</td>\n",
       "      <td>0</td>\n",
       "      <td>0</td>\n",
       "      <td>1</td>\n",
       "      <td>0</td>\n",
       "      <td>0</td>\n",
       "      <td>0</td>\n",
       "      <td>0</td>\n",
       "      <td>0</td>\n",
       "      <td>0</td>\n",
       "      <td>0</td>\n",
       "      <td>0</td>\n",
       "      <td>0</td>\n",
       "      <td>0</td>\n",
       "      <td>0</td>\n",
       "      <td>0</td>\n",
       "      <td>0</td>\n",
       "      <td>1</td>\n",
       "    </tr>\n",
       "    <tr>\n",
       "      <th>9284</th>\n",
       "      <td>0</td>\n",
       "      <td>0</td>\n",
       "      <td>1</td>\n",
       "      <td>0</td>\n",
       "      <td>0</td>\n",
       "      <td>0</td>\n",
       "      <td>0</td>\n",
       "      <td>0</td>\n",
       "      <td>0</td>\n",
       "      <td>0</td>\n",
       "      <td>0</td>\n",
       "      <td>0</td>\n",
       "      <td>0</td>\n",
       "      <td>0</td>\n",
       "      <td>0</td>\n",
       "      <td>0</td>\n",
       "      <td>0</td>\n",
       "      <td>0</td>\n",
       "      <td>0</td>\n",
       "      <td>0</td>\n",
       "      <td>0</td>\n",
       "    </tr>\n",
       "    <tr>\n",
       "      <th>...</th>\n",
       "      <td>...</td>\n",
       "      <td>...</td>\n",
       "      <td>...</td>\n",
       "      <td>...</td>\n",
       "      <td>...</td>\n",
       "      <td>...</td>\n",
       "      <td>...</td>\n",
       "      <td>...</td>\n",
       "      <td>...</td>\n",
       "      <td>...</td>\n",
       "      <td>...</td>\n",
       "      <td>...</td>\n",
       "      <td>...</td>\n",
       "      <td>...</td>\n",
       "      <td>...</td>\n",
       "      <td>...</td>\n",
       "      <td>...</td>\n",
       "      <td>...</td>\n",
       "      <td>...</td>\n",
       "      <td>...</td>\n",
       "      <td>...</td>\n",
       "    </tr>\n",
       "    <tr>\n",
       "      <th>41993</th>\n",
       "      <td>0</td>\n",
       "      <td>0</td>\n",
       "      <td>1</td>\n",
       "      <td>0</td>\n",
       "      <td>0</td>\n",
       "      <td>0</td>\n",
       "      <td>0</td>\n",
       "      <td>0</td>\n",
       "      <td>0</td>\n",
       "      <td>0</td>\n",
       "      <td>0</td>\n",
       "      <td>0</td>\n",
       "      <td>0</td>\n",
       "      <td>0</td>\n",
       "      <td>0</td>\n",
       "      <td>0</td>\n",
       "      <td>0</td>\n",
       "      <td>0</td>\n",
       "      <td>0</td>\n",
       "      <td>0</td>\n",
       "      <td>0</td>\n",
       "    </tr>\n",
       "    <tr>\n",
       "      <th>21243</th>\n",
       "      <td>0</td>\n",
       "      <td>0</td>\n",
       "      <td>0</td>\n",
       "      <td>0</td>\n",
       "      <td>1</td>\n",
       "      <td>0</td>\n",
       "      <td>0</td>\n",
       "      <td>0</td>\n",
       "      <td>0</td>\n",
       "      <td>0</td>\n",
       "      <td>0</td>\n",
       "      <td>0</td>\n",
       "      <td>1</td>\n",
       "      <td>0</td>\n",
       "      <td>0</td>\n",
       "      <td>0</td>\n",
       "      <td>0</td>\n",
       "      <td>0</td>\n",
       "      <td>0</td>\n",
       "      <td>0</td>\n",
       "      <td>0</td>\n",
       "    </tr>\n",
       "    <tr>\n",
       "      <th>45891</th>\n",
       "      <td>0</td>\n",
       "      <td>0</td>\n",
       "      <td>1</td>\n",
       "      <td>0</td>\n",
       "      <td>0</td>\n",
       "      <td>0</td>\n",
       "      <td>0</td>\n",
       "      <td>0</td>\n",
       "      <td>0</td>\n",
       "      <td>0</td>\n",
       "      <td>0</td>\n",
       "      <td>0</td>\n",
       "      <td>0</td>\n",
       "      <td>0</td>\n",
       "      <td>0</td>\n",
       "      <td>0</td>\n",
       "      <td>0</td>\n",
       "      <td>0</td>\n",
       "      <td>0</td>\n",
       "      <td>0</td>\n",
       "      <td>0</td>\n",
       "    </tr>\n",
       "    <tr>\n",
       "      <th>42613</th>\n",
       "      <td>0</td>\n",
       "      <td>0</td>\n",
       "      <td>1</td>\n",
       "      <td>0</td>\n",
       "      <td>0</td>\n",
       "      <td>0</td>\n",
       "      <td>0</td>\n",
       "      <td>0</td>\n",
       "      <td>0</td>\n",
       "      <td>0</td>\n",
       "      <td>0</td>\n",
       "      <td>0</td>\n",
       "      <td>0</td>\n",
       "      <td>0</td>\n",
       "      <td>0</td>\n",
       "      <td>0</td>\n",
       "      <td>0</td>\n",
       "      <td>0</td>\n",
       "      <td>0</td>\n",
       "      <td>0</td>\n",
       "      <td>0</td>\n",
       "    </tr>\n",
       "    <tr>\n",
       "      <th>43567</th>\n",
       "      <td>0</td>\n",
       "      <td>0</td>\n",
       "      <td>0</td>\n",
       "      <td>0</td>\n",
       "      <td>0</td>\n",
       "      <td>0</td>\n",
       "      <td>0</td>\n",
       "      <td>0</td>\n",
       "      <td>0</td>\n",
       "      <td>0</td>\n",
       "      <td>0</td>\n",
       "      <td>0</td>\n",
       "      <td>0</td>\n",
       "      <td>0</td>\n",
       "      <td>0</td>\n",
       "      <td>0</td>\n",
       "      <td>0</td>\n",
       "      <td>0</td>\n",
       "      <td>1</td>\n",
       "      <td>0</td>\n",
       "      <td>0</td>\n",
       "    </tr>\n",
       "  </tbody>\n",
       "</table>\n",
       "<p>54564 rows × 21 columns</p>\n",
       "</div>"
      ],
      "text/plain": [
       "       opera_Latin American Wings  mes_7  tipovuelo_N  opera_Air Canada  \\\n",
       "21733                           0      0            0                 0   \n",
       "30677                           0      0            1                 0   \n",
       "6711                            0      0            0                 0   \n",
       "67547                           0      0            0                 0   \n",
       "9284                            0      0            1                 0   \n",
       "...                           ...    ...          ...               ...   \n",
       "41993                           0      0            1                 0   \n",
       "21243                           0      0            0                 0   \n",
       "45891                           0      0            1                 0   \n",
       "42613                           0      0            1                 0   \n",
       "43567                           0      0            0                 0   \n",
       "\n",
       "       siglades_Buenos Aires  siglades_Sydney  mes_12  opera_Qantas Airways  \\\n",
       "21733                      0                0       0                     0   \n",
       "30677                      0                0       0                     0   \n",
       "6711                       0                0       0                     0   \n",
       "67547                      0                0       1                     0   \n",
       "9284                       0                0       0                     0   \n",
       "...                      ...              ...     ...                   ...   \n",
       "41993                      0                0       0                     0   \n",
       "21243                      1                0       0                     0   \n",
       "45891                      0                0       0                     0   \n",
       "42613                      0                0       0                     0   \n",
       "43567                      0                0       0                     0   \n",
       "\n",
       "       opera_Copa Air  siglades_Ciudad de Panama  mes_3  opera_Gol Trans  \\\n",
       "21733               0                          0      0                0   \n",
       "30677               0                          0      0                0   \n",
       "6711                0                          0      0                1   \n",
       "67547               0                          0      0                0   \n",
       "9284                0                          0      0                0   \n",
       "...               ...                        ...    ...              ...   \n",
       "41993               0                          0      0                0   \n",
       "21243               0                          0      0                0   \n",
       "45891               0                          0      0                0   \n",
       "42613               0                          0      0                0   \n",
       "43567               0                          0      0                0   \n",
       "\n",
       "       mes_4  siglades_Calama  dianom_Viernes  siglades_Cordoba  \\\n",
       "21733      1                0               0                 0   \n",
       "30677      0                0               0                 0   \n",
       "6711       0                0               0                 0   \n",
       "67547      0                0               0                 0   \n",
       "9284       0                0               0                 0   \n",
       "...      ...              ...             ...               ...   \n",
       "41993      0                0               0                 0   \n",
       "21243      1                0               0                 0   \n",
       "45891      0                0               0                 0   \n",
       "42613      0                0               0                 0   \n",
       "43567      0                0               0                 0   \n",
       "\n",
       "       siglades_Sao Paulo  siglades_Rio de Janeiro  siglades_Auckland N.Z.  \\\n",
       "21733                   1                        0                       0   \n",
       "30677                   0                        0                       0   \n",
       "6711                    1                        0                       0   \n",
       "67547                   0                        0                       0   \n",
       "9284                    0                        0                       0   \n",
       "...                   ...                      ...                     ...   \n",
       "41993                   0                        0                       0   \n",
       "21243                   0                        0                       0   \n",
       "45891                   0                        0                       0   \n",
       "42613                   0                        0                       0   \n",
       "43567                   0                        0                       1   \n",
       "\n",
       "       siglades_Mendoza  siglades_Lima  \n",
       "21733                 0              0  \n",
       "30677                 0              0  \n",
       "6711                  0              0  \n",
       "67547                 0              1  \n",
       "9284                  0              0  \n",
       "...                 ...            ...  \n",
       "41993                 0              0  \n",
       "21243                 0              0  \n",
       "45891                 0              0  \n",
       "42613                 0              0  \n",
       "43567                 0              0  \n",
       "\n",
       "[54564 rows x 21 columns]"
      ]
     },
     "execution_count": 1880,
     "metadata": {},
     "output_type": "execute_result"
    }
   ],
   "source": [
    "#X_train.drop(['atraso_15'], axis = 'columns', inplace=True)\n",
    "#X_test.drop(['atraso_15'], axis = 'columns', inplace=True)\n",
    "X_train"
   ]
  },
  {
   "cell_type": "code",
   "execution_count": 1881,
   "metadata": {},
   "outputs": [
    {
     "data": {
      "text/plain": [
       "<BatchDataset element_spec=(TensorSpec(shape=(None, 21), dtype=tf.uint8, name=None), TensorSpec(shape=(None,), dtype=tf.int64, name=None))>"
      ]
     },
     "execution_count": 1881,
     "metadata": {},
     "output_type": "execute_result"
    }
   ],
   "source": [
    "test_ds = tf.data.Dataset.from_tensor_slices((X_test, y_test)).batch(32)\n",
    "test_ds"
   ]
  },
  {
   "cell_type": "code",
   "execution_count": 1882,
   "metadata": {},
   "outputs": [
    {
     "name": "stdout",
     "output_type": "stream",
     "text": [
      "Epoch 1/100\n",
      "853/853 [==============================] - 2s 2ms/step - loss: 0.4699 - accuracy: 0.8150 - val_loss: 0.4557 - val_accuracy: 0.8151\n",
      "Epoch 2/100\n",
      "853/853 [==============================] - 2s 2ms/step - loss: 0.4562 - accuracy: 0.8159 - val_loss: 0.4546 - val_accuracy: 0.8176\n",
      "Epoch 3/100\n",
      "853/853 [==============================] - 2s 3ms/step - loss: 0.4554 - accuracy: 0.8175 - val_loss: 0.4559 - val_accuracy: 0.8181\n",
      "Epoch 4/100\n",
      "853/853 [==============================] - 2s 3ms/step - loss: 0.4547 - accuracy: 0.8177 - val_loss: 0.4547 - val_accuracy: 0.8170\n",
      "Epoch 5/100\n",
      "853/853 [==============================] - 3s 3ms/step - loss: 0.4544 - accuracy: 0.8176 - val_loss: 0.4544 - val_accuracy: 0.8176\n",
      "Epoch 6/100\n",
      "853/853 [==============================] - 3s 4ms/step - loss: 0.4542 - accuracy: 0.8180 - val_loss: 0.4554 - val_accuracy: 0.8182\n",
      "Epoch 7/100\n",
      "853/853 [==============================] - 3s 4ms/step - loss: 0.4539 - accuracy: 0.8182 - val_loss: 0.4551 - val_accuracy: 0.8165\n",
      "Epoch 8/100\n",
      "853/853 [==============================] - 2s 3ms/step - loss: 0.4539 - accuracy: 0.8176 - val_loss: 0.4548 - val_accuracy: 0.8169\n",
      "Epoch 9/100\n",
      "853/853 [==============================] - 2s 3ms/step - loss: 0.4540 - accuracy: 0.8178 - val_loss: 0.4547 - val_accuracy: 0.8178\n",
      "Epoch 10/100\n",
      "853/853 [==============================] - 3s 3ms/step - loss: 0.4539 - accuracy: 0.8179 - val_loss: 0.4541 - val_accuracy: 0.8184\n",
      "Epoch 11/100\n",
      "853/853 [==============================] - 3s 4ms/step - loss: 0.4537 - accuracy: 0.8178 - val_loss: 0.4544 - val_accuracy: 0.8169\n",
      "Epoch 12/100\n",
      "853/853 [==============================] - 4s 4ms/step - loss: 0.4536 - accuracy: 0.8178 - val_loss: 0.4548 - val_accuracy: 0.8172\n",
      "Epoch 13/100\n",
      "853/853 [==============================] - 3s 4ms/step - loss: 0.4536 - accuracy: 0.8183 - val_loss: 0.4548 - val_accuracy: 0.8173\n",
      "Epoch 14/100\n",
      "853/853 [==============================] - 4s 4ms/step - loss: 0.4534 - accuracy: 0.8179 - val_loss: 0.4550 - val_accuracy: 0.8179\n",
      "Epoch 15/100\n",
      "853/853 [==============================] - 3s 4ms/step - loss: 0.4536 - accuracy: 0.8179 - val_loss: 0.4558 - val_accuracy: 0.8170\n",
      "Epoch 16/100\n",
      "853/853 [==============================] - 3s 4ms/step - loss: 0.4535 - accuracy: 0.8180 - val_loss: 0.4547 - val_accuracy: 0.8181\n",
      "Epoch 17/100\n",
      "853/853 [==============================] - 4s 4ms/step - loss: 0.4534 - accuracy: 0.8177 - val_loss: 0.4561 - val_accuracy: 0.8180\n",
      "Epoch 18/100\n",
      "853/853 [==============================] - 3s 4ms/step - loss: 0.4533 - accuracy: 0.8181 - val_loss: 0.4549 - val_accuracy: 0.8175\n",
      "Epoch 19/100\n",
      "853/853 [==============================] - 3s 4ms/step - loss: 0.4534 - accuracy: 0.8180 - val_loss: 0.4553 - val_accuracy: 0.8181\n",
      "Epoch 20/100\n",
      "853/853 [==============================] - 2s 3ms/step - loss: 0.4533 - accuracy: 0.8176 - val_loss: 0.4552 - val_accuracy: 0.8178\n",
      "Epoch 21/100\n",
      "853/853 [==============================] - 3s 3ms/step - loss: 0.4532 - accuracy: 0.8181 - val_loss: 0.4546 - val_accuracy: 0.8178\n",
      "Epoch 22/100\n",
      "853/853 [==============================] - 3s 4ms/step - loss: 0.4532 - accuracy: 0.8179 - val_loss: 0.4549 - val_accuracy: 0.8178\n",
      "Epoch 23/100\n",
      "853/853 [==============================] - 3s 3ms/step - loss: 0.4533 - accuracy: 0.8180 - val_loss: 0.4555 - val_accuracy: 0.8173\n",
      "Epoch 24/100\n",
      "853/853 [==============================] - 3s 3ms/step - loss: 0.4533 - accuracy: 0.8180 - val_loss: 0.4548 - val_accuracy: 0.8178\n",
      "Epoch 25/100\n",
      "853/853 [==============================] - 3s 3ms/step - loss: 0.4532 - accuracy: 0.8180 - val_loss: 0.4553 - val_accuracy: 0.8184\n",
      "Epoch 26/100\n",
      "853/853 [==============================] - 2s 3ms/step - loss: 0.4531 - accuracy: 0.8178 - val_loss: 0.4550 - val_accuracy: 0.8181\n",
      "Epoch 27/100\n",
      "853/853 [==============================] - 3s 3ms/step - loss: 0.4531 - accuracy: 0.8180 - val_loss: 0.4549 - val_accuracy: 0.8179\n",
      "Epoch 28/100\n",
      "853/853 [==============================] - 3s 4ms/step - loss: 0.4530 - accuracy: 0.8178 - val_loss: 0.4554 - val_accuracy: 0.8187\n",
      "Epoch 29/100\n",
      "853/853 [==============================] - 3s 3ms/step - loss: 0.4530 - accuracy: 0.8181 - val_loss: 0.4558 - val_accuracy: 0.8179\n",
      "Epoch 30/100\n",
      "853/853 [==============================] - 3s 3ms/step - loss: 0.4532 - accuracy: 0.8178 - val_loss: 0.4550 - val_accuracy: 0.8160\n",
      "Epoch 31/100\n",
      "853/853 [==============================] - 3s 3ms/step - loss: 0.4531 - accuracy: 0.8176 - val_loss: 0.4550 - val_accuracy: 0.8187\n",
      "Epoch 32/100\n",
      "853/853 [==============================] - 2s 3ms/step - loss: 0.4530 - accuracy: 0.8180 - val_loss: 0.4578 - val_accuracy: 0.8177\n",
      "Epoch 33/100\n",
      "853/853 [==============================] - 3s 3ms/step - loss: 0.4531 - accuracy: 0.8180 - val_loss: 0.4548 - val_accuracy: 0.8179\n",
      "Epoch 34/100\n",
      "853/853 [==============================] - 3s 3ms/step - loss: 0.4529 - accuracy: 0.8181 - val_loss: 0.4553 - val_accuracy: 0.8179\n",
      "Epoch 35/100\n",
      "853/853 [==============================] - 3s 3ms/step - loss: 0.4528 - accuracy: 0.8179 - val_loss: 0.4556 - val_accuracy: 0.8170\n",
      "Epoch 36/100\n",
      "853/853 [==============================] - 3s 3ms/step - loss: 0.4529 - accuracy: 0.8180 - val_loss: 0.4556 - val_accuracy: 0.8179\n",
      "Epoch 37/100\n",
      "853/853 [==============================] - 3s 3ms/step - loss: 0.4529 - accuracy: 0.8181 - val_loss: 0.4551 - val_accuracy: 0.8176\n",
      "Epoch 38/100\n",
      "853/853 [==============================] - 3s 4ms/step - loss: 0.4530 - accuracy: 0.8178 - val_loss: 0.4555 - val_accuracy: 0.8184\n",
      "Epoch 39/100\n",
      "853/853 [==============================] - 3s 4ms/step - loss: 0.4529 - accuracy: 0.8182 - val_loss: 0.4559 - val_accuracy: 0.8179\n",
      "Epoch 40/100\n",
      "853/853 [==============================] - 4s 5ms/step - loss: 0.4530 - accuracy: 0.8180 - val_loss: 0.4551 - val_accuracy: 0.8173\n",
      "Epoch 41/100\n",
      "853/853 [==============================] - 2s 3ms/step - loss: 0.4528 - accuracy: 0.8179 - val_loss: 0.4567 - val_accuracy: 0.8184\n",
      "Epoch 42/100\n",
      "853/853 [==============================] - 2s 3ms/step - loss: 0.4529 - accuracy: 0.8176 - val_loss: 0.4566 - val_accuracy: 0.8185\n",
      "Epoch 43/100\n",
      "853/853 [==============================] - 3s 3ms/step - loss: 0.4529 - accuracy: 0.8180 - val_loss: 0.4554 - val_accuracy: 0.8170\n",
      "Epoch 44/100\n",
      "853/853 [==============================] - 3s 3ms/step - loss: 0.4528 - accuracy: 0.8181 - val_loss: 0.4547 - val_accuracy: 0.8181\n",
      "Epoch 45/100\n",
      " 39/853 [>.............................] - ETA: 2s - loss: 0.4584 - accuracy: 0.8141"
     ]
    },
    {
     "ename": "KeyboardInterrupt",
     "evalue": "",
     "output_type": "error",
     "traceback": [
      "\u001b[1;31m---------------------------------------------------------------------------\u001b[0m",
      "\u001b[1;31mKeyboardInterrupt\u001b[0m                         Traceback (most recent call last)",
      "\u001b[1;32mc:\\Archivos Globant\\Globant\\Challenge\\Challenge - Data Scientist -20220817\\solution.ipynb Cell 117'\u001b[0m in \u001b[0;36m<cell line: 24>\u001b[1;34m()\u001b[0m\n\u001b[0;32m     <a href='vscode-notebook-cell:/c%3A/Archivos%20Globant/Globant/Challenge/Challenge%20-%20Data%20Scientist%20-20220817/solution.ipynb#ch0000199?line=19'>20</a>\u001b[0m model_rna\u001b[39m.\u001b[39mcompile(optimizer \u001b[39m=\u001b[39m \u001b[39m\"\u001b[39m\u001b[39madam\u001b[39m\u001b[39m\"\u001b[39m, loss \u001b[39m=\u001b[39m \u001b[39m\"\u001b[39m\u001b[39mbinary_crossentropy\u001b[39m\u001b[39m\"\u001b[39m, metrics \u001b[39m=\u001b[39m [\u001b[39m\"\u001b[39m\u001b[39maccuracy\u001b[39m\u001b[39m\"\u001b[39m])\n\u001b[0;32m     <a href='vscode-notebook-cell:/c%3A/Archivos%20Globant/Globant/Challenge/Challenge%20-%20Data%20Scientist%20-20220817/solution.ipynb#ch0000199?line=21'>22</a>\u001b[0m \u001b[39m#model_rna.fit(X_train, y_train,  batch_size = 32, epochs = 5, verbose=1,)\u001b[39;00m\n\u001b[1;32m---> <a href='vscode-notebook-cell:/c%3A/Archivos%20Globant/Globant/Challenge/Challenge%20-%20Data%20Scientist%20-20220817/solution.ipynb#ch0000199?line=23'>24</a>\u001b[0m history \u001b[39m=\u001b[39m model_rna\u001b[39m.\u001b[39;49mfit(X_train, y_train,  batch_size \u001b[39m=\u001b[39;49m \u001b[39m64\u001b[39;49m, epochs \u001b[39m=\u001b[39;49m \u001b[39m100\u001b[39;49m, verbose\u001b[39m=\u001b[39;49m\u001b[39m1\u001b[39;49m,\n\u001b[0;32m     <a href='vscode-notebook-cell:/c%3A/Archivos%20Globant/Globant/Challenge/Challenge%20-%20Data%20Scientist%20-20220817/solution.ipynb#ch0000199?line=24'>25</a>\u001b[0m                     \u001b[39m#validation_split=0.1)\u001b[39;49;00m\n\u001b[0;32m     <a href='vscode-notebook-cell:/c%3A/Archivos%20Globant/Globant/Challenge/Challenge%20-%20Data%20Scientist%20-20220817/solution.ipynb#ch0000199?line=25'>26</a>\u001b[0m                     validation_data\u001b[39m=\u001b[39;49mtest_ds)\u001b[39m#,callbacks=[reduce_lr])\u001b[39;00m\n\u001b[0;32m     <a href='vscode-notebook-cell:/c%3A/Archivos%20Globant/Globant/Challenge/Challenge%20-%20Data%20Scientist%20-20220817/solution.ipynb#ch0000199?line=27'>28</a>\u001b[0m fig, ax \u001b[39m=\u001b[39m plt\u001b[39m.\u001b[39msubplots(\u001b[39m2\u001b[39m,\u001b[39m1\u001b[39m)\n\u001b[0;32m     <a href='vscode-notebook-cell:/c%3A/Archivos%20Globant/Globant/Challenge/Challenge%20-%20Data%20Scientist%20-20220817/solution.ipynb#ch0000199?line=28'>29</a>\u001b[0m ax[\u001b[39m0\u001b[39m]\u001b[39m.\u001b[39mplot(history\u001b[39m.\u001b[39mhistory[\u001b[39m'\u001b[39m\u001b[39mloss\u001b[39m\u001b[39m'\u001b[39m], color\u001b[39m=\u001b[39m\u001b[39m'\u001b[39m\u001b[39mb\u001b[39m\u001b[39m'\u001b[39m, label\u001b[39m=\u001b[39m\u001b[39m\"\u001b[39m\u001b[39mTraining loss\u001b[39m\u001b[39m\"\u001b[39m)\n",
      "File \u001b[1;32mc:\\Users\\jorgeantonio.lopez\\Anaconda3\\envs\\Challenge_Airlines\\lib\\site-packages\\keras\\utils\\traceback_utils.py:64\u001b[0m, in \u001b[0;36mfilter_traceback.<locals>.error_handler\u001b[1;34m(*args, **kwargs)\u001b[0m\n\u001b[0;32m     62\u001b[0m filtered_tb \u001b[39m=\u001b[39m \u001b[39mNone\u001b[39;00m\n\u001b[0;32m     63\u001b[0m \u001b[39mtry\u001b[39;00m:\n\u001b[1;32m---> 64\u001b[0m   \u001b[39mreturn\u001b[39;00m fn(\u001b[39m*\u001b[39;49margs, \u001b[39m*\u001b[39;49m\u001b[39m*\u001b[39;49mkwargs)\n\u001b[0;32m     65\u001b[0m \u001b[39mexcept\u001b[39;00m \u001b[39mException\u001b[39;00m \u001b[39mas\u001b[39;00m e:  \u001b[39m# pylint: disable=broad-except\u001b[39;00m\n\u001b[0;32m     66\u001b[0m   filtered_tb \u001b[39m=\u001b[39m _process_traceback_frames(e\u001b[39m.\u001b[39m__traceback__)\n",
      "File \u001b[1;32mc:\\Users\\jorgeantonio.lopez\\Anaconda3\\envs\\Challenge_Airlines\\lib\\site-packages\\keras\\engine\\training.py:1409\u001b[0m, in \u001b[0;36mModel.fit\u001b[1;34m(self, x, y, batch_size, epochs, verbose, callbacks, validation_split, validation_data, shuffle, class_weight, sample_weight, initial_epoch, steps_per_epoch, validation_steps, validation_batch_size, validation_freq, max_queue_size, workers, use_multiprocessing)\u001b[0m\n\u001b[0;32m   1402\u001b[0m \u001b[39mwith\u001b[39;00m tf\u001b[39m.\u001b[39mprofiler\u001b[39m.\u001b[39mexperimental\u001b[39m.\u001b[39mTrace(\n\u001b[0;32m   1403\u001b[0m     \u001b[39m'\u001b[39m\u001b[39mtrain\u001b[39m\u001b[39m'\u001b[39m,\n\u001b[0;32m   1404\u001b[0m     epoch_num\u001b[39m=\u001b[39mepoch,\n\u001b[0;32m   1405\u001b[0m     step_num\u001b[39m=\u001b[39mstep,\n\u001b[0;32m   1406\u001b[0m     batch_size\u001b[39m=\u001b[39mbatch_size,\n\u001b[0;32m   1407\u001b[0m     _r\u001b[39m=\u001b[39m\u001b[39m1\u001b[39m):\n\u001b[0;32m   1408\u001b[0m   callbacks\u001b[39m.\u001b[39mon_train_batch_begin(step)\n\u001b[1;32m-> 1409\u001b[0m   tmp_logs \u001b[39m=\u001b[39m \u001b[39mself\u001b[39;49m\u001b[39m.\u001b[39;49mtrain_function(iterator)\n\u001b[0;32m   1410\u001b[0m   \u001b[39mif\u001b[39;00m data_handler\u001b[39m.\u001b[39mshould_sync:\n\u001b[0;32m   1411\u001b[0m     context\u001b[39m.\u001b[39masync_wait()\n",
      "File \u001b[1;32mc:\\Users\\jorgeantonio.lopez\\Anaconda3\\envs\\Challenge_Airlines\\lib\\site-packages\\tensorflow\\python\\util\\traceback_utils.py:150\u001b[0m, in \u001b[0;36mfilter_traceback.<locals>.error_handler\u001b[1;34m(*args, **kwargs)\u001b[0m\n\u001b[0;32m    148\u001b[0m filtered_tb \u001b[39m=\u001b[39m \u001b[39mNone\u001b[39;00m\n\u001b[0;32m    149\u001b[0m \u001b[39mtry\u001b[39;00m:\n\u001b[1;32m--> 150\u001b[0m   \u001b[39mreturn\u001b[39;00m fn(\u001b[39m*\u001b[39;49margs, \u001b[39m*\u001b[39;49m\u001b[39m*\u001b[39;49mkwargs)\n\u001b[0;32m    151\u001b[0m \u001b[39mexcept\u001b[39;00m \u001b[39mException\u001b[39;00m \u001b[39mas\u001b[39;00m e:\n\u001b[0;32m    152\u001b[0m   filtered_tb \u001b[39m=\u001b[39m _process_traceback_frames(e\u001b[39m.\u001b[39m__traceback__)\n",
      "File \u001b[1;32mc:\\Users\\jorgeantonio.lopez\\Anaconda3\\envs\\Challenge_Airlines\\lib\\site-packages\\tensorflow\\python\\eager\\def_function.py:915\u001b[0m, in \u001b[0;36mFunction.__call__\u001b[1;34m(self, *args, **kwds)\u001b[0m\n\u001b[0;32m    912\u001b[0m compiler \u001b[39m=\u001b[39m \u001b[39m\"\u001b[39m\u001b[39mxla\u001b[39m\u001b[39m\"\u001b[39m \u001b[39mif\u001b[39;00m \u001b[39mself\u001b[39m\u001b[39m.\u001b[39m_jit_compile \u001b[39melse\u001b[39;00m \u001b[39m\"\u001b[39m\u001b[39mnonXla\u001b[39m\u001b[39m\"\u001b[39m\n\u001b[0;32m    914\u001b[0m \u001b[39mwith\u001b[39;00m OptionalXlaContext(\u001b[39mself\u001b[39m\u001b[39m.\u001b[39m_jit_compile):\n\u001b[1;32m--> 915\u001b[0m   result \u001b[39m=\u001b[39m \u001b[39mself\u001b[39;49m\u001b[39m.\u001b[39;49m_call(\u001b[39m*\u001b[39;49margs, \u001b[39m*\u001b[39;49m\u001b[39m*\u001b[39;49mkwds)\n\u001b[0;32m    917\u001b[0m new_tracing_count \u001b[39m=\u001b[39m \u001b[39mself\u001b[39m\u001b[39m.\u001b[39mexperimental_get_tracing_count()\n\u001b[0;32m    918\u001b[0m without_tracing \u001b[39m=\u001b[39m (tracing_count \u001b[39m==\u001b[39m new_tracing_count)\n",
      "File \u001b[1;32mc:\\Users\\jorgeantonio.lopez\\Anaconda3\\envs\\Challenge_Airlines\\lib\\site-packages\\tensorflow\\python\\eager\\def_function.py:947\u001b[0m, in \u001b[0;36mFunction._call\u001b[1;34m(self, *args, **kwds)\u001b[0m\n\u001b[0;32m    944\u001b[0m   \u001b[39mself\u001b[39m\u001b[39m.\u001b[39m_lock\u001b[39m.\u001b[39mrelease()\n\u001b[0;32m    945\u001b[0m   \u001b[39m# In this case we have created variables on the first call, so we run the\u001b[39;00m\n\u001b[0;32m    946\u001b[0m   \u001b[39m# defunned version which is guaranteed to never create variables.\u001b[39;00m\n\u001b[1;32m--> 947\u001b[0m   \u001b[39mreturn\u001b[39;00m \u001b[39mself\u001b[39;49m\u001b[39m.\u001b[39;49m_stateless_fn(\u001b[39m*\u001b[39;49margs, \u001b[39m*\u001b[39;49m\u001b[39m*\u001b[39;49mkwds)  \u001b[39m# pylint: disable=not-callable\u001b[39;00m\n\u001b[0;32m    948\u001b[0m \u001b[39melif\u001b[39;00m \u001b[39mself\u001b[39m\u001b[39m.\u001b[39m_stateful_fn \u001b[39mis\u001b[39;00m \u001b[39mnot\u001b[39;00m \u001b[39mNone\u001b[39;00m:\n\u001b[0;32m    949\u001b[0m   \u001b[39m# Release the lock early so that multiple threads can perform the call\u001b[39;00m\n\u001b[0;32m    950\u001b[0m   \u001b[39m# in parallel.\u001b[39;00m\n\u001b[0;32m    951\u001b[0m   \u001b[39mself\u001b[39m\u001b[39m.\u001b[39m_lock\u001b[39m.\u001b[39mrelease()\n",
      "File \u001b[1;32mc:\\Users\\jorgeantonio.lopez\\Anaconda3\\envs\\Challenge_Airlines\\lib\\site-packages\\tensorflow\\python\\eager\\function.py:2453\u001b[0m, in \u001b[0;36mFunction.__call__\u001b[1;34m(self, *args, **kwargs)\u001b[0m\n\u001b[0;32m   2450\u001b[0m \u001b[39mwith\u001b[39;00m \u001b[39mself\u001b[39m\u001b[39m.\u001b[39m_lock:\n\u001b[0;32m   2451\u001b[0m   (graph_function,\n\u001b[0;32m   2452\u001b[0m    filtered_flat_args) \u001b[39m=\u001b[39m \u001b[39mself\u001b[39m\u001b[39m.\u001b[39m_maybe_define_function(args, kwargs)\n\u001b[1;32m-> 2453\u001b[0m \u001b[39mreturn\u001b[39;00m graph_function\u001b[39m.\u001b[39;49m_call_flat(\n\u001b[0;32m   2454\u001b[0m     filtered_flat_args, captured_inputs\u001b[39m=\u001b[39;49mgraph_function\u001b[39m.\u001b[39;49mcaptured_inputs)\n",
      "File \u001b[1;32mc:\\Users\\jorgeantonio.lopez\\Anaconda3\\envs\\Challenge_Airlines\\lib\\site-packages\\tensorflow\\python\\eager\\function.py:1860\u001b[0m, in \u001b[0;36mConcreteFunction._call_flat\u001b[1;34m(self, args, captured_inputs, cancellation_manager)\u001b[0m\n\u001b[0;32m   1856\u001b[0m possible_gradient_type \u001b[39m=\u001b[39m gradients_util\u001b[39m.\u001b[39mPossibleTapeGradientTypes(args)\n\u001b[0;32m   1857\u001b[0m \u001b[39mif\u001b[39;00m (possible_gradient_type \u001b[39m==\u001b[39m gradients_util\u001b[39m.\u001b[39mPOSSIBLE_GRADIENT_TYPES_NONE\n\u001b[0;32m   1858\u001b[0m     \u001b[39mand\u001b[39;00m executing_eagerly):\n\u001b[0;32m   1859\u001b[0m   \u001b[39m# No tape is watching; skip to running the function.\u001b[39;00m\n\u001b[1;32m-> 1860\u001b[0m   \u001b[39mreturn\u001b[39;00m \u001b[39mself\u001b[39m\u001b[39m.\u001b[39m_build_call_outputs(\u001b[39mself\u001b[39;49m\u001b[39m.\u001b[39;49m_inference_function\u001b[39m.\u001b[39;49mcall(\n\u001b[0;32m   1861\u001b[0m       ctx, args, cancellation_manager\u001b[39m=\u001b[39;49mcancellation_manager))\n\u001b[0;32m   1862\u001b[0m forward_backward \u001b[39m=\u001b[39m \u001b[39mself\u001b[39m\u001b[39m.\u001b[39m_select_forward_and_backward_functions(\n\u001b[0;32m   1863\u001b[0m     args,\n\u001b[0;32m   1864\u001b[0m     possible_gradient_type,\n\u001b[0;32m   1865\u001b[0m     executing_eagerly)\n\u001b[0;32m   1866\u001b[0m forward_function, args_with_tangents \u001b[39m=\u001b[39m forward_backward\u001b[39m.\u001b[39mforward()\n",
      "File \u001b[1;32mc:\\Users\\jorgeantonio.lopez\\Anaconda3\\envs\\Challenge_Airlines\\lib\\site-packages\\tensorflow\\python\\eager\\function.py:497\u001b[0m, in \u001b[0;36m_EagerDefinedFunction.call\u001b[1;34m(self, ctx, args, cancellation_manager)\u001b[0m\n\u001b[0;32m    495\u001b[0m \u001b[39mwith\u001b[39;00m _InterpolateFunctionError(\u001b[39mself\u001b[39m):\n\u001b[0;32m    496\u001b[0m   \u001b[39mif\u001b[39;00m cancellation_manager \u001b[39mis\u001b[39;00m \u001b[39mNone\u001b[39;00m:\n\u001b[1;32m--> 497\u001b[0m     outputs \u001b[39m=\u001b[39m execute\u001b[39m.\u001b[39;49mexecute(\n\u001b[0;32m    498\u001b[0m         \u001b[39mstr\u001b[39;49m(\u001b[39mself\u001b[39;49m\u001b[39m.\u001b[39;49msignature\u001b[39m.\u001b[39;49mname),\n\u001b[0;32m    499\u001b[0m         num_outputs\u001b[39m=\u001b[39;49m\u001b[39mself\u001b[39;49m\u001b[39m.\u001b[39;49m_num_outputs,\n\u001b[0;32m    500\u001b[0m         inputs\u001b[39m=\u001b[39;49margs,\n\u001b[0;32m    501\u001b[0m         attrs\u001b[39m=\u001b[39;49mattrs,\n\u001b[0;32m    502\u001b[0m         ctx\u001b[39m=\u001b[39;49mctx)\n\u001b[0;32m    503\u001b[0m   \u001b[39melse\u001b[39;00m:\n\u001b[0;32m    504\u001b[0m     outputs \u001b[39m=\u001b[39m execute\u001b[39m.\u001b[39mexecute_with_cancellation(\n\u001b[0;32m    505\u001b[0m         \u001b[39mstr\u001b[39m(\u001b[39mself\u001b[39m\u001b[39m.\u001b[39msignature\u001b[39m.\u001b[39mname),\n\u001b[0;32m    506\u001b[0m         num_outputs\u001b[39m=\u001b[39m\u001b[39mself\u001b[39m\u001b[39m.\u001b[39m_num_outputs,\n\u001b[1;32m   (...)\u001b[0m\n\u001b[0;32m    509\u001b[0m         ctx\u001b[39m=\u001b[39mctx,\n\u001b[0;32m    510\u001b[0m         cancellation_manager\u001b[39m=\u001b[39mcancellation_manager)\n",
      "File \u001b[1;32mc:\\Users\\jorgeantonio.lopez\\Anaconda3\\envs\\Challenge_Airlines\\lib\\site-packages\\tensorflow\\python\\eager\\execute.py:54\u001b[0m, in \u001b[0;36mquick_execute\u001b[1;34m(op_name, num_outputs, inputs, attrs, ctx, name)\u001b[0m\n\u001b[0;32m     52\u001b[0m \u001b[39mtry\u001b[39;00m:\n\u001b[0;32m     53\u001b[0m   ctx\u001b[39m.\u001b[39mensure_initialized()\n\u001b[1;32m---> 54\u001b[0m   tensors \u001b[39m=\u001b[39m pywrap_tfe\u001b[39m.\u001b[39;49mTFE_Py_Execute(ctx\u001b[39m.\u001b[39;49m_handle, device_name, op_name,\n\u001b[0;32m     55\u001b[0m                                       inputs, attrs, num_outputs)\n\u001b[0;32m     56\u001b[0m \u001b[39mexcept\u001b[39;00m core\u001b[39m.\u001b[39m_NotOkStatusException \u001b[39mas\u001b[39;00m e:\n\u001b[0;32m     57\u001b[0m   \u001b[39mif\u001b[39;00m name \u001b[39mis\u001b[39;00m \u001b[39mnot\u001b[39;00m \u001b[39mNone\u001b[39;00m:\n",
      "\u001b[1;31mKeyboardInterrupt\u001b[0m: "
     ]
    }
   ],
   "source": [
    "from tensorflow.keras.callbacks import ReduceLROnPlateau\n",
    "\n",
    "kernel_initializer = tf.keras.initializers.LecunNormal(seed=456)\n",
    "\n",
    "#reduce_lr = ReduceLROnPlateau(monitor='val_accuracy', factor=0.5,\n",
    "#                              patience=5, min_lr=0.0001 )\n",
    "\n",
    "#optimizer=tf.keras.optimizers.Adam(learning_rate=0.001)\n",
    "\n",
    "model_rna = Sequential()\n",
    "model_rna.add(Dense(units = 64, input_dim = X_train.shape[1], activation = \"relu\",kernel_initializer = kernel_initializer, ))\n",
    "#model_rna.add(Dropout(0.2))\n",
    "model_rna.add(Dense(units = 32, activation = \"relu\",kernel_initializer = kernel_initializer, ))\n",
    "#model_rna.add(Dropout(0.2))\n",
    "model_rna.add(Dense(units = 16, activation = \"relu\",kernel_initializer = kernel_initializer))\n",
    "#model_rna.add(Dropout(0.2))\n",
    "model_rna.add(Dense(units = 8, activation = \"relu\",kernel_initializer = kernel_initializer))\n",
    "#model_rna.add(Dropout(0.2))\n",
    "model_rna.add(Dense(units = 1, activation = \"sigmoid\",kernel_initializer = kernel_initializer))\n",
    "model_rna.compile(optimizer = \"adam\", loss = \"binary_crossentropy\", metrics = [\"accuracy\"])\n",
    "\n",
    "#model_rna.fit(X_train, y_train,  batch_size = 32, epochs = 5, verbose=1,)\n",
    "\n",
    "history = model_rna.fit(X_train, y_train,  batch_size = 64, epochs = 100, verbose=1,\n",
    "                    #validation_split=0.1)\n",
    "                    validation_data=test_ds)#,callbacks=[reduce_lr])\n",
    "\n",
    "fig, ax = plt.subplots(2,1)\n",
    "ax[0].plot(history.history['loss'], color='b', label=\"Training loss\")\n",
    "ax[0].plot(history.history['val_loss'], color='r', label=\"Validation loss\",axes =ax[0])\n",
    "legend = ax[0].legend(loc='best', shadow=True)\n",
    "\n",
    "#ax[1].plot(history.history['top_k_categorical_accuracy'], color='b', label=\"Training accuracy\")\n",
    "#ax[1].plot(history.history['val_top_k_categorical_accuracy'], color='r',label=\"Validation accuracy\")\n",
    "ax[1].plot(history.history['accuracy'], color='b', label=\"Training accuracy\")\n",
    "ax[1].plot(history.history['val_accuracy'], color='r',label=\"Validation accuracy\")\n",
    "legend = ax[1].legend(loc='best', shadow=True)\n",
    "\n",
    "test_loss, test_accuracy = model_rna.evaluate(X_test, y_test)\n",
    "print(\"Test accuracy: {}\".format(test_accuracy))\n",
    "\n",
    "#Becnmark logaritmo -> -accuracy:  0.8179885647265797\n",
    "\n",
    "#Test accuracy: 0.8216537237167358\n",
    "#Test accuracy: 0.8217270374298096"
   ]
  },
  {
   "cell_type": "code",
   "execution_count": null,
   "metadata": {},
   "outputs": [],
   "source": [
    "print(\"Test accuracy: {}\".format(test_accuracy))"
   ]
  },
  {
   "cell_type": "code",
   "execution_count": null,
   "metadata": {},
   "outputs": [],
   "source": [
    "Y_test_cat=np.argmax(y_test, axis=1)\n",
    "Y_test_cat"
   ]
  },
  {
   "cell_type": "code",
   "execution_count": null,
   "metadata": {},
   "outputs": [],
   "source": [
    "import matplotlib.pyplot as plt\n",
    "import seaborn as sns; sns.set_theme()\n",
    "#https://www.programcreek.com/python/example/87183/sklearn.metrics.confusion_matrix\n",
    "from sklearn.metrics import confusion_matrix\n",
    "Y_pred  = model_rna.predict(X_test)\n",
    "Y_pred=np.argmax(Y_pred, axis=1)\n",
    "\n",
    "#Y_test_cat=np.argmax(y_test, axis=1)\n",
    "#Y_test_cat\n",
    "Y_test_cat = y_test\n",
    "\n",
    "#matrix = confusion_matrix(Y_test.argmax(axis=1), Y_pred.argmax(axis=1))\n",
    "matrix = confusion_matrix(Y_test_cat,Y_pred)\n",
    "matrix\n",
    "\n",
    "#Label = positions = [\"Data Scientist\", \"Java Developer\", \"Python Developer\", \"Test Automation Engineer\", \"Quality Control Engineer\", \"Web UI\", \"Android Developer\", \"iOS Developer\", \"Project Manager\",\"Cloud Engineer\"]\n",
    "\n",
    "Label = positions = ['Atraso','No atraso']\n",
    "\n",
    "def plot_confusion_matrix(y_true, y_pred):\n",
    "    conf_matrix = confusion_matrix(y_true, y_pred)\n",
    "\n",
    "    plt.figure(figsize=(8, 8))\n",
    "    sns.heatmap(conf_matrix, xticklabels=Label, yticklabels=Label, annot=True, fmt=\"d\")\n",
    "    plt.title(\"Confusion matrix\")\n",
    "    plt.ylabel('True class')\n",
    "    plt.xlabel('Predicted class')\n",
    "    plt.savefig(\"confusion_matrix.png\", bbox_inches='tight')\n",
    "    plt.show() \n",
    "\n",
    "plot_confusion_matrix(Y_test_cat,Y_pred)"
   ]
  },
  {
   "cell_type": "markdown",
   "metadata": {},
   "source": [
    "##### Otra idea\n",
    "* https://www.tensorflow.org/tutorials/structured_data/feature_columns#bucketized_columns"
   ]
  },
  {
   "cell_type": "code",
   "execution_count": 1751,
   "metadata": {},
   "outputs": [],
   "source": [
    "from tensorflow import feature_column\n",
    "from tensorflow.keras import layers\n",
    "from sklearn.model_selection import train_test_split\n",
    "\n",
    "import tensorflow as tf\n",
    "import tensorflow.keras as keras\n",
    "from tensorflow.keras.models import Sequential\n",
    "from tensorflow.keras.layers import Dense,Dropout"
   ]
  },
  {
   "cell_type": "code",
   "execution_count": 1834,
   "metadata": {},
   "outputs": [
    {
     "name": "stdout",
     "output_type": "stream",
     "text": [
      "Shape X_completa: 21\n"
     ]
    }
   ],
   "source": [
    "df_chi_q = df[['atraso_15','dia','mes','dianom','tipovuelo','opera','siglades','temporada_alta','periodo_dia']]\n",
    "df_chi_q['dia'] = df_chi_q.dia.astype(int)\n",
    "df_chi_q\n",
    "\n",
    "#df_chi_q = pd.get_dummies(df_chi_q, columns=['dia','mes','dianom','tipovuelo','opera','siglades','temporada_alta','periodo_dia'], drop_first=True)\n",
    "\n",
    "#X_completa = df_chi_q.loc[:,['opera_Latin American Wings','mes_7','tipovuelo_N','opera_Air Canada','siglades_Buenos Aires','siglades_Sydney','mes_12',\n",
    "#'opera_Qantas Airways','opera_Copa Air','siglades_Ciudad de Panama','mes_3','opera_Gol Trans','mes_4','siglades_Calama','dianom_Viernes',\n",
    "#'siglades_Cordoba','siglades_Sao Paulo','siglades_Rio de Janeiro','siglades_Auckland N.Z.','siglades_Mendoza','siglades_Lima',\n",
    "#'opera_American Airlines','mes_10','opera_Plus Ultra Lineas Aereas','siglades_Bogota','opera_Aeromexico','dia_15','opera_Avianca',\n",
    "#'mes_2','siglades_Rosario','temporada_alta_1','opera_United Airlines','siglades_Houston','siglades_Arica','siglades_Ciudad de Mexico',\n",
    "#'opera_Delta Air','siglades_Atlanta','periodo_dia_tarde','dia_11','siglades_Melbourne','siglades_Toronto','siglades_Dallas','siglades_Copiapo',\n",
    "#'dianom_Sabado','periodo_dia_noche','mes_5','dia_10','opera_Air France','siglades_Paris','siglades_Concepcion','dianom_Lunes','siglades_Castro (Chiloe)',\n",
    "#'opera_Iberia','opera_K.L.M.','dianom_Martes','siglades_Asuncion','siglades_Temuco','dianom_Jueves','siglades_Punta Arenas','dianom_Miercoles',\n",
    "#'dia_7','opera_Grupo LATAM','dia_2','dia_27','siglades_Ushuia','opera_Alitalia','siglades_Roma','siglades_Quito','siglades_La Serena','siglades_Balmaceda',\n",
    "#'siglades_Punta Cana','siglades_Puerto Montt','dia_8','dia_16','dia_30','dia_31','mes_6','mes_11','mes_9','mes_8','opera_Sky Airline','siglades_Iquique',\n",
    "#'siglades_Puerto Natales','siglades_Los Angeles','siglades_Puerto Stanley','siglades_Cochabamba','dia_14','siglades_Valdivia',\n",
    "#'dia_29'\n",
    "#]]\n",
    "\n",
    "#X_completa = df_chi_q.loc[:,['opera_Qantas Airways', 'siglades_Ciudad de Panama', 'opera_Avianca', 'siglades_Houston', 'siglades_Ciudad de Mexico', 'siglades_Atlanta', 'siglades_Toronto', 'siglades_Dallas', 'siglades_Paris']]\n",
    "\n",
    "#X_completa = df_chi_q.loc[:,]\n",
    "#X_completa = X_completa.drop(['atraso_15'], axis=1)\n",
    "#X_completa\n",
    "\n",
    "#from tensorflow.keras.utils import to_categorical\n",
    "y = df['atraso_15']\n",
    "y\n",
    "\n",
    "#print(y.info())\n",
    "print('Shape X_completa:',X_completa.shape[1])"
   ]
  },
  {
   "cell_type": "markdown",
   "metadata": {},
   "source": [
    "Split the dataframe into train, validation, and test\n",
    "\n",
    "The dataset we downloaded was a single CSV file. We will split this into train, validation, and test sets."
   ]
  },
  {
   "cell_type": "code",
   "execution_count": 1819,
   "metadata": {},
   "outputs": [
    {
     "name": "stdout",
     "output_type": "stream",
     "text": [
      "43651 train examples\n",
      "10913 validation examples\n",
      "13642 test examples\n"
     ]
    }
   ],
   "source": [
    "train, test = train_test_split(df_chi_q, test_size=0.2)\n",
    "train, val = train_test_split(train, test_size=0.2)\n",
    "print(len(train), 'train examples')\n",
    "print(len(val), 'validation examples')\n",
    "print(len(test), 'test examples')"
   ]
  },
  {
   "cell_type": "markdown",
   "metadata": {},
   "source": [
    "Create an input pipeline using tf.data\n",
    "\n",
    "Next, we will wrap the dataframes with tf.data. This will enable us to use feature columns as a bridge to map from the columns in the Pandas dataframe to features used to train the model. If we were working with a very large CSV file (so large that it does not fit into memory), we would use tf.data to read it from disk directly. That is not covered in this tutorial."
   ]
  },
  {
   "cell_type": "code",
   "execution_count": 1737,
   "metadata": {},
   "outputs": [],
   "source": [
    "# A utility method to create a tf.data dataset from a Pandas Dataframe\n",
    "def df_to_dataset(dataframe, shuffle=True, batch_size=32):\n",
    "  dataframe = dataframe.copy()\n",
    "  labels = dataframe.pop('atraso_15')\n",
    "  ds = tf.data.Dataset.from_tensor_slices((dict(dataframe), labels))\n",
    "  if shuffle:\n",
    "    ds = ds.shuffle(buffer_size=len(dataframe))\n",
    "  ds = ds.batch(batch_size)\n",
    "  return ds"
   ]
  },
  {
   "cell_type": "code",
   "execution_count": 1738,
   "metadata": {},
   "outputs": [],
   "source": [
    "batch_size = 5 # A small batch sized is used for demonstration purposes\n",
    "train_ds = df_to_dataset(train, batch_size=batch_size)\n",
    "val_ds = df_to_dataset(val, shuffle=False, batch_size=batch_size)\n",
    "test_ds = df_to_dataset(test, shuffle=False, batch_size=batch_size)"
   ]
  },
  {
   "cell_type": "markdown",
   "metadata": {},
   "source": [
    "Understand the input pipeline\n",
    "\n",
    "Now that we have created the input pipeline, let's call it to see the format of the data it returns. We have used a small batch size to keep the output readable."
   ]
  },
  {
   "cell_type": "code",
   "execution_count": 1841,
   "metadata": {},
   "outputs": [
    {
     "name": "stdout",
     "output_type": "stream",
     "text": [
      "Every feature: ['dia', 'mes', 'dianom', 'tipovuelo', 'opera', 'siglades', 'temporada_alta', 'periodo_dia']\n",
      "A batch of ages: tf.Tensor(\n",
      "[12  5 18 26 26  6  8  3  1  9 22  9  4 23  8 10 17 12 15  4 16 25 19 20\n",
      "  1 23 20 26 18 20 29 10 10 27 17 18  9 29 15 11  2  2 26 28  1 18 17 17\n",
      "  4  4 13 22 23 27  7  2 18  9  6  2 11 18 11  8], shape=(64,), dtype=int32)\n",
      "A batch of targets: tf.Tensor(\n",
      "[0 1 0 0 0 0 0 1 0 0 0 0 0 1 0 0 1 0 1 0 0 0 0 0 0 1 0 0 1 0 0 0 0 1 1 0 0\n",
      " 0 0 0 0 0 0 0 0 0 0 1 1 0 0 1 0 0 1 0 0 0 0 0 0 0 1 1], shape=(64,), dtype=int64)\n"
     ]
    }
   ],
   "source": [
    "for feature_batch, label_batch in train_ds.take(1):\n",
    "  print('Every feature:', list(feature_batch.keys()))\n",
    "  print('A batch of ages:', feature_batch['dia'])\n",
    "  print('A batch of targets:', label_batch )"
   ]
  },
  {
   "cell_type": "markdown",
   "metadata": {},
   "source": [
    "Demonstrate several types of feature columns.\n",
    "\n",
    "TensorFlow provides many types of feature columns. In this section, we will create several types of feature columns, and demonstrate how they transform a column from the dataframe."
   ]
  },
  {
   "cell_type": "code",
   "execution_count": 1739,
   "metadata": {},
   "outputs": [],
   "source": [
    "# We will use this batch to demonstrate several types of feature columns\n",
    "example_batch = next(iter(train_ds))[0]"
   ]
  },
  {
   "cell_type": "code",
   "execution_count": 1740,
   "metadata": {},
   "outputs": [],
   "source": [
    "# A utility method to create a feature column\n",
    "# and to transform a batch of data\n",
    "def demo(feature_column):\n",
    "  feature_layer = layers.DenseFeatures(feature_column)\n",
    "  print(feature_layer(example_batch).numpy())"
   ]
  },
  {
   "cell_type": "markdown",
   "metadata": {},
   "source": [
    "Numeric columns\n",
    "\n",
    "The output of a feature column becomes the input to the model (using the demo function defined above, we will be able to see exactly how each column from the dataframe is transformed). A numeric column is the simplest type of column. It is used to represent real valued features. When using this column, your model will receive the column value from the dataframe unchanged."
   ]
  },
  {
   "cell_type": "code",
   "execution_count": 1742,
   "metadata": {},
   "outputs": [
    {
     "name": "stdout",
     "output_type": "stream",
     "text": [
      "[[ 4.]\n",
      " [ 2.]\n",
      " [21.]\n",
      " [23.]\n",
      " [29.]]\n"
     ]
    }
   ],
   "source": [
    "photo_count = feature_column.numeric_column('dia')\n",
    "demo(photo_count)"
   ]
  },
  {
   "cell_type": "markdown",
   "metadata": {},
   "source": [
    "Bucketized columns\n",
    "\n",
    "Often, you don't want to feed a number directly into the model, but instead split its value into different categories based on numerical ranges. Consider raw data that represents a person's age. Instead of representing age as a numeric column, we could split the age into several buckets using a bucketized column. Notice the one-hot values below describe which age range each row matches."
   ]
  },
  {
   "cell_type": "code",
   "execution_count": 1810,
   "metadata": {},
   "outputs": [
    {
     "name": "stdout",
     "output_type": "stream",
     "text": [
      "[[0. 0. 1. 0.]\n",
      " [0. 1. 0. 0.]\n",
      " [0. 0. 0. 1.]\n",
      " [0. 0. 0. 1.]\n",
      " [0. 0. 0. 1.]]\n"
     ]
    }
   ],
   "source": [
    "dia = feature_column.numeric_column('dia')\n",
    "dia_buckets = feature_column.bucketized_column(dia, boundaries=[1, 3, 5])\n",
    "demo(dia_buckets)"
   ]
  },
  {
   "cell_type": "markdown",
   "metadata": {},
   "source": [
    "Categorical columns\n",
    "\n",
    "In this dataset, Type is represented as a string (e.g. 'Dog', or 'Cat'). We cannot feed strings directly to a model. Instead, we must first map them to numeric values. The categorical vocabulary columns provide a way to represent strings as a one-hot vector (much like you have seen above with age buckets). The vocabulary can be passed as a list using categorical_column_with_vocabulary_list, or loaded from a file using categorical_column_with_vocabulary_file."
   ]
  },
  {
   "cell_type": "code",
   "execution_count": 1746,
   "metadata": {},
   "outputs": [
    {
     "name": "stdout",
     "output_type": "stream",
     "text": [
      "[[0. 1.]\n",
      " [1. 0.]\n",
      " [1. 0.]\n",
      " [0. 1.]\n",
      " [1. 0.]]\n"
     ]
    }
   ],
   "source": [
    "tipovuelo_type = feature_column.categorical_column_with_vocabulary_list(\n",
    "      'tipovuelo', ['I', 'N'])\n",
    "\n",
    "tipovuelo_type = feature_column.indicator_column(tipovuelo_type)\n",
    "demo(tipovuelo_type)"
   ]
  },
  {
   "cell_type": "markdown",
   "metadata": {},
   "source": [
    "Embedding columns\n",
    "\n",
    "Suppose instead of having just a few possible strings, we have thousands (or more) values per category. For a number of reasons, as the number of categories grow large, it becomes infeasible to train a neural network using one-hot encodings. We can use an embedding column to overcome this limitation. Instead of representing the data as a one-hot vector of many dimensions, an embedding column represents that data as a lower-dimensional, dense vector in which each cell can contain any number, not just 0 or 1. The size of the embedding (8, in the example below) is a parameter that must be tuned."
   ]
  },
  {
   "cell_type": "code",
   "execution_count": 1753,
   "metadata": {},
   "outputs": [
    {
     "name": "stdout",
     "output_type": "stream",
     "text": [
      "[[-0.5182752  -0.42163253 -0.19825159  0.6697124  -0.29878935 -0.40917826\n",
      "   0.04402944  0.36633348]\n",
      " [-0.5182752  -0.42163253 -0.19825159  0.6697124  -0.29878935 -0.40917826\n",
      "   0.04402944  0.36633348]\n",
      " [ 0.08614013 -0.6471165   0.23960304  0.14526808  0.44776237 -0.10954463\n",
      "  -0.10734567  0.11249832]\n",
      " [ 0.08614013 -0.6471165   0.23960304  0.14526808  0.44776237 -0.10954463\n",
      "  -0.10734567  0.11249832]\n",
      " [ 0.29845545  0.1827455   0.28560257  0.3800443  -0.13435915  0.04864408\n",
      "  -0.13234353 -0.18111669]]\n"
     ]
    }
   ],
   "source": [
    "# Notice the input to the embedding column is the categorical column\n",
    "# we previously created\n",
    "dianom1 = feature_column.categorical_column_with_vocabulary_list(\n",
    "      'dianom', df_chi_q.dianom.unique())\n",
    "dianom1_embedding = feature_column.embedding_column(dianom1, dimension=8)\n",
    "demo(dianom1_embedding)"
   ]
  },
  {
   "cell_type": "code",
   "execution_count": 1771,
   "metadata": {},
   "outputs": [
    {
     "name": "stdout",
     "output_type": "stream",
     "text": [
      "[[-1.4016355  -0.4222687 ]\n",
      " [ 0.7692442   1.372688  ]\n",
      " [ 0.7692442   1.372688  ]\n",
      " [ 0.42375937 -0.21733037]\n",
      " [ 0.40636885  0.7738267 ]]\n"
     ]
    }
   ],
   "source": [
    "opera1 = feature_column.categorical_column_with_vocabulary_list(\n",
    "      'opera', df_chi_q.opera.unique())\n",
    "opera1_embedding = feature_column.embedding_column(opera1, dimension=2)\n",
    "demo(opera1_embedding)"
   ]
  },
  {
   "cell_type": "markdown",
   "metadata": {},
   "source": [
    "Hashed feature columns\n",
    "\n",
    "Another way to represent a categorical column with a large number of values is to use a categorical_column_with_hash_bucket. This feature column calculates a hash value of the input, then selects one of the hash_bucket_size buckets to encode a string. When using this column, you do not need to provide the vocabulary, and you can choose to make the number of hash_buckets significantly smaller than the number of actual categories to save space."
   ]
  },
  {
   "cell_type": "code",
   "execution_count": 1748,
   "metadata": {},
   "outputs": [
    {
     "name": "stdout",
     "output_type": "stream",
     "text": [
      "[[1. 0. 0. 0. 0. 0. 0. 0. 0. 0.]\n",
      " [1. 0. 0. 0. 0. 0. 0. 0. 0. 0.]\n",
      " [1. 0. 0. 0. 0. 0. 0. 0. 0. 0.]\n",
      " [1. 0. 0. 0. 0. 0. 0. 0. 0. 0.]\n",
      " [0. 0. 0. 0. 0. 0. 1. 0. 0. 0.]]\n"
     ]
    }
   ],
   "source": [
    "dianom1_hashed = feature_column.categorical_column_with_hash_bucket(\n",
    "      'dianom', hash_bucket_size=10)\n",
    "demo(feature_column.indicator_column(dianom1_hashed))"
   ]
  },
  {
   "cell_type": "markdown",
   "metadata": {},
   "source": [
    "Choose which columns to use\n",
    "\n",
    "We have seen how to use several types of feature columns. Now we will use them to train a model. The goal of this tutorial is to show you the complete code (e.g. mechanics) needed to work with feature columns. We have selected a few columns to train our model below arbitrarily."
   ]
  },
  {
   "cell_type": "code",
   "execution_count": 1789,
   "metadata": {},
   "outputs": [],
   "source": [
    "feature_columns = []\n",
    "\n",
    "# embedding columns\n",
    "dia = feature_column.categorical_column_with_vocabulary_list(\n",
    "      'dia', df_chi_q.dia.unique())\n",
    "dia_embedding = feature_column.embedding_column(dia, dimension=31)\n",
    "feature_columns.append(dia_embedding)\n",
    "\n",
    "mes = feature_column.categorical_column_with_vocabulary_list(\n",
    "      'mes', df_chi_q.mes.unique())\n",
    "mes_embedding = feature_column.embedding_column(mes, dimension=8)\n",
    "feature_columns.append(mes_embedding)\n",
    "\n",
    "dianom = feature_column.categorical_column_with_vocabulary_list(\n",
    "      'dianom', df_chi_q.dianom.unique())\n",
    "dianom_embedding = feature_column.embedding_column(dianom, dimension=8)\n",
    "feature_columns.append(dianom_embedding)\n",
    "\n",
    "#tipovuelo = feature_column.categorical_column_with_vocabulary_list(\n",
    "#      'tipovuelo', df_chi_q.tipovuelo.unique())\n",
    "#tipovuelo_embedding = feature_column.embedding_column(tipovuelo, dimension=8)\n",
    "#feature_columns.append(tipovuelo_embedding)\n",
    "\n",
    "opera = feature_column.categorical_column_with_vocabulary_list(\n",
    "      'opera', df_chi_q.opera.unique())\n",
    "opera_embedding = feature_column.embedding_column(opera, dimension=len(df_chi_q.opera.unique()))\n",
    "feature_columns.append(opera_embedding)\n",
    "\n",
    "siglades = feature_column.categorical_column_with_vocabulary_list(\n",
    "      'siglades', df_chi_q.siglades.unique())\n",
    "siglades_embedding = feature_column.embedding_column(siglades, dimension=len(df_chi_q.siglades.unique()))\n",
    "feature_columns.append(siglades_embedding)\n",
    "\n",
    "temporada_alta = feature_column.categorical_column_with_vocabulary_list(\n",
    "      'temporada_alta', df_chi_q.temporada_alta.unique())\n",
    "temporada_alta_embedding = feature_column.embedding_column(temporada_alta, dimension=8)\n",
    "feature_columns.append(temporada_alta_embedding)\n",
    "\n",
    "periodo_dia = feature_column.categorical_column_with_vocabulary_list(\n",
    "      'periodo_dia', df_chi_q.periodo_dia.unique())\n",
    "periodo_dia_embedding = feature_column.embedding_column(periodo_dia, dimension=8)\n",
    "feature_columns.append(periodo_dia_embedding)\n",
    "\n",
    "#feature_columns"
   ]
  },
  {
   "cell_type": "code",
   "execution_count": 1813,
   "metadata": {},
   "outputs": [],
   "source": [
    "feature_columns = []\n",
    "\n",
    "# indicator_columns\n",
    "indicator_column_names = ['dia','mes','dianom','tipovuelo','opera','siglades','temporada_alta','periodo_dia']\n",
    "for col_name in indicator_column_names:\n",
    "  categorical_column = feature_column.categorical_column_with_vocabulary_list(\n",
    "      col_name, df_chi_q[col_name].unique())\n",
    "  indicator_column = feature_column.indicator_column(categorical_column)\n",
    "  feature_columns.append(indicator_column)"
   ]
  },
  {
   "cell_type": "code",
   "execution_count": null,
   "metadata": {},
   "outputs": [],
   "source": [
    "# numeric cols\n",
    "#for header in ['PhotoAmt', 'Fee', 'Age']:\n",
    "#  feature_columns.append(feature_column.numeric_column(header))"
   ]
  },
  {
   "cell_type": "markdown",
   "metadata": {},
   "source": [
    "Create a feature layer\n",
    "\n",
    "Now that we have defined our feature columns, we will use a DenseFeatures layer to input them to our Keras model."
   ]
  },
  {
   "cell_type": "code",
   "execution_count": 1814,
   "metadata": {},
   "outputs": [],
   "source": [
    "feature_layer = tf.keras.layers.DenseFeatures(feature_columns)"
   ]
  },
  {
   "cell_type": "markdown",
   "metadata": {},
   "source": [
    "Earlier, we used a small batch size to demonstrate how feature columns worked. We create a new input pipeline with a larger batch size."
   ]
  },
  {
   "cell_type": "code",
   "execution_count": 1815,
   "metadata": {},
   "outputs": [],
   "source": [
    "batch_size = 64\n",
    "train_ds = df_to_dataset(train, batch_size=batch_size)\n",
    "val_ds = df_to_dataset(val, shuffle=False, batch_size=batch_size)\n",
    "test_ds = df_to_dataset(test, shuffle=False, batch_size=batch_size)"
   ]
  },
  {
   "cell_type": "markdown",
   "metadata": {},
   "source": [
    "Create, compile, and train the model"
   ]
  },
  {
   "cell_type": "code",
   "execution_count": 1816,
   "metadata": {},
   "outputs": [
    {
     "name": "stdout",
     "output_type": "stream",
     "text": [
      "Epoch 1/10\n",
      "WARNING:tensorflow:Layers in a Sequential model should only have a single input tensor. Received: inputs={'dia': <tf.Tensor 'IteratorGetNext:0' shape=(None,) dtype=int32>, 'mes': <tf.Tensor 'IteratorGetNext:2' shape=(None,) dtype=int64>, 'dianom': <tf.Tensor 'IteratorGetNext:1' shape=(None,) dtype=string>, 'tipovuelo': <tf.Tensor 'IteratorGetNext:7' shape=(None,) dtype=string>, 'opera': <tf.Tensor 'IteratorGetNext:3' shape=(None,) dtype=string>, 'siglades': <tf.Tensor 'IteratorGetNext:5' shape=(None,) dtype=string>, 'temporada_alta': <tf.Tensor 'IteratorGetNext:6' shape=(None,) dtype=int32>, 'periodo_dia': <tf.Tensor 'IteratorGetNext:4' shape=(None,) dtype=string>}. Consider rewriting this model with the Functional API.\n",
      "WARNING:tensorflow:Layers in a Sequential model should only have a single input tensor. Received: inputs={'dia': <tf.Tensor 'IteratorGetNext:0' shape=(None,) dtype=int32>, 'mes': <tf.Tensor 'IteratorGetNext:2' shape=(None,) dtype=int64>, 'dianom': <tf.Tensor 'IteratorGetNext:1' shape=(None,) dtype=string>, 'tipovuelo': <tf.Tensor 'IteratorGetNext:7' shape=(None,) dtype=string>, 'opera': <tf.Tensor 'IteratorGetNext:3' shape=(None,) dtype=string>, 'siglades': <tf.Tensor 'IteratorGetNext:5' shape=(None,) dtype=string>, 'temporada_alta': <tf.Tensor 'IteratorGetNext:6' shape=(None,) dtype=int32>, 'periodo_dia': <tf.Tensor 'IteratorGetNext:4' shape=(None,) dtype=string>}. Consider rewriting this model with the Functional API.\n",
      "672/683 [============================>.] - ETA: 0s - loss: 0.4520 - accuracy: 0.1825WARNING:tensorflow:Layers in a Sequential model should only have a single input tensor. Received: inputs={'dia': <tf.Tensor 'IteratorGetNext:0' shape=(None,) dtype=int32>, 'mes': <tf.Tensor 'IteratorGetNext:2' shape=(None,) dtype=int64>, 'dianom': <tf.Tensor 'IteratorGetNext:1' shape=(None,) dtype=string>, 'tipovuelo': <tf.Tensor 'IteratorGetNext:7' shape=(None,) dtype=string>, 'opera': <tf.Tensor 'IteratorGetNext:3' shape=(None,) dtype=string>, 'siglades': <tf.Tensor 'IteratorGetNext:5' shape=(None,) dtype=string>, 'temporada_alta': <tf.Tensor 'IteratorGetNext:6' shape=(None,) dtype=int32>, 'periodo_dia': <tf.Tensor 'IteratorGetNext:4' shape=(None,) dtype=string>}. Consider rewriting this model with the Functional API.\n",
      "683/683 [==============================] - 4s 5ms/step - loss: 0.4521 - accuracy: 0.1827 - val_loss: 0.4495 - val_accuracy: 0.1925\n",
      "Epoch 2/10\n",
      "683/683 [==============================] - 4s 5ms/step - loss: 0.4306 - accuracy: 0.1827 - val_loss: 0.4412 - val_accuracy: 0.1925\n",
      "Epoch 3/10\n",
      "683/683 [==============================] - 4s 5ms/step - loss: 0.4174 - accuracy: 0.1827 - val_loss: 0.4414 - val_accuracy: 0.1925\n",
      "Epoch 4/10\n",
      "683/683 [==============================] - 5s 7ms/step - loss: 0.4052 - accuracy: 0.1827 - val_loss: 0.4410 - val_accuracy: 0.1925\n",
      "Epoch 5/10\n",
      "683/683 [==============================] - 4s 6ms/step - loss: 0.3944 - accuracy: 0.1827 - val_loss: 0.4400 - val_accuracy: 0.1925\n",
      "Epoch 6/10\n",
      "683/683 [==============================] - 4s 5ms/step - loss: 0.3851 - accuracy: 0.1827 - val_loss: 0.4502 - val_accuracy: 0.1925\n",
      "Epoch 7/10\n",
      "683/683 [==============================] - 4s 6ms/step - loss: 0.3752 - accuracy: 0.1827 - val_loss: 0.4538 - val_accuracy: 0.1925\n",
      "Epoch 8/10\n",
      "683/683 [==============================] - 4s 6ms/step - loss: 0.3653 - accuracy: 0.1827 - val_loss: 0.4609 - val_accuracy: 0.1925\n",
      "Epoch 9/10\n",
      "683/683 [==============================] - 4s 5ms/step - loss: 0.3544 - accuracy: 0.1827 - val_loss: 0.4655 - val_accuracy: 0.1925\n",
      "Epoch 10/10\n",
      "683/683 [==============================] - 4s 5ms/step - loss: 0.3448 - accuracy: 0.1827 - val_loss: 0.4799 - val_accuracy: 0.1925\n"
     ]
    },
    {
     "data": {
      "text/plain": [
       "<keras.callbacks.History at 0x1bae9e8ceb0>"
      ]
     },
     "execution_count": 1816,
     "metadata": {},
     "output_type": "execute_result"
    }
   ],
   "source": [
    "model = tf.keras.Sequential([\n",
    "  feature_layer,\n",
    "  layers.Dense(128, activation='relu'),\n",
    "  layers.Dense(64, activation='relu'),\n",
    "  layers.Dense(32, activation='relu'),\n",
    "  layers.Dense(16, activation='relu'),\n",
    "  layers.Dropout(.1),\n",
    "  layers.Dense(1,activation='softmax')\n",
    "])\n",
    "\n",
    "model.compile(optimizer='adam',\n",
    "              loss=tf.keras.losses.BinaryCrossentropy(from_logits=True),\n",
    "              metrics=['accuracy'])\n",
    "\n",
    "model.fit(train_ds,\n",
    "          validation_data=val_ds,\n",
    "          epochs=10)"
   ]
  },
  {
   "cell_type": "code",
   "execution_count": 1817,
   "metadata": {},
   "outputs": [
    {
     "name": "stdout",
     "output_type": "stream",
     "text": [
      "214/214 [==============================] - 1s 3ms/step - loss: 0.4739 - accuracy: 0.1860\n",
      "Accuracy 0.18604309856891632\n"
     ]
    }
   ],
   "source": [
    "loss, accuracy = model.evaluate(test_ds)\n",
    "print(\"Accuracy\", accuracy)"
   ]
  },
  {
   "cell_type": "code",
   "execution_count": null,
   "metadata": {},
   "outputs": [],
   "source": []
  },
  {
   "cell_type": "code",
   "execution_count": null,
   "metadata": {},
   "outputs": [],
   "source": []
  },
  {
   "cell_type": "markdown",
   "metadata": {},
   "source": [
    "Create, compile, and train the model"
   ]
  },
  {
   "cell_type": "code",
   "execution_count": null,
   "metadata": {},
   "outputs": [],
   "source": []
  }
 ],
 "metadata": {
  "kernelspec": {
   "display_name": "Python 3.8.13 ('Challenge_Airlines')",
   "language": "python",
   "name": "python3"
  },
  "language_info": {
   "codemirror_mode": {
    "name": "ipython",
    "version": 3
   },
   "file_extension": ".py",
   "mimetype": "text/x-python",
   "name": "python",
   "nbconvert_exporter": "python",
   "pygments_lexer": "ipython3",
   "version": "3.8.13"
  },
  "orig_nbformat": 4,
  "vscode": {
   "interpreter": {
    "hash": "3576d449de0b8fa317d4f615a9444831a584b750056fc185eb99ade91102d37c"
   }
  }
 },
 "nbformat": 4,
 "nbformat_minor": 2
}
